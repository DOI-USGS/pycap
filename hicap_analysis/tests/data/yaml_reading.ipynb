{
 "cells": [
  {
   "cell_type": "code",
   "execution_count": 33,
   "id": "40515fe1",
   "metadata": {},
   "outputs": [],
   "source": [
    "import yaml"
   ]
  },
  {
   "cell_type": "code",
   "execution_count": 34,
   "id": "db43489b",
   "metadata": {},
   "outputs": [],
   "source": [
    "with open('example.yml') as ifp:\n",
    "    c = yaml.safe_load(ifp)"
   ]
  },
  {
   "cell_type": "code",
   "execution_count": 35,
   "id": "0ba2ef9f",
   "metadata": {},
   "outputs": [
    {
     "data": {
      "text/plain": [
       "{'project_properties': {'name': 'newcafo',\n",
       "  'T': 10.0,\n",
       "  'S': 0.01,\n",
       "  'default_dd_time': 30,\n",
       "  'default_depletion_time': 5,\n",
       "  'default_pump_duration': 30},\n",
       " 'well1': {'name': 'new1',\n",
       "  'status': 'pending',\n",
       "  'loc': {'x': 500, 'y': 20},\n",
       "  'Q': 150,\n",
       "  'dd_time': 30,\n",
       "  'stream_apportionment': {'name': 'stream2', 'apportionment': 0.2},\n",
       "  'dd_response': ['ex1', 'ex2'],\n",
       "  'stream_response': ['Upp Creek', 'no paddle']},\n",
       " 'well2': {'name': 'new2',\n",
       "  'status': 'pending',\n",
       "  'loc': {'x': 509, 'y': 201},\n",
       "  'Q': 120,\n",
       "  'dd_time': 30,\n",
       "  'stream_apportionment': {'name': 'stream2', 'apportionment': 0.4},\n",
       "  'dd_response': ['ex1'],\n",
       "  'stream_response': ['Upp Creek', 'no paddle']},\n",
       " 'dd_response1': {'name': 'ex1', 'loc': {'x': 520, 'y': 100}},\n",
       " 'dd_response2': {'name': 'ex2', 'loc': {'x': 2402, 'y': 190}},\n",
       " 'stream_response1': {'name': 'Upp Creek', 'loc': {'x': 200, 'y': 29}},\n",
       " 'stream_response222222': {'name': 'no paddle', 'loc': {'x': 343, 'y': 99}}}"
      ]
     },
     "execution_count": 35,
     "metadata": {},
     "output_type": "execute_result"
    }
   ],
   "source": [
    "c"
   ]
  },
  {
   "cell_type": "code",
   "execution_count": 36,
   "id": "9fc8ef15",
   "metadata": {},
   "outputs": [
    {
     "data": {
      "text/plain": [
       "343"
      ]
     },
     "execution_count": 36,
     "metadata": {},
     "output_type": "execute_result"
    }
   ],
   "source": [
    "c['stream_response222222']['loc']['x']"
   ]
  },
  {
   "cell_type": "code",
   "execution_count": null,
   "id": "b579fe00",
   "metadata": {},
   "outputs": [],
   "source": [
    "c['stream_response222222']['loc']['x']"
   ]
  }
 ],
 "metadata": {
  "kernelspec": {
   "display_name": "Python 3 (ipykernel)",
   "language": "python",
   "name": "python3"
  },
  "language_info": {
   "codemirror_mode": {
    "name": "ipython",
    "version": 3
   },
   "file_extension": ".py",
   "mimetype": "text/x-python",
   "name": "python",
   "nbconvert_exporter": "python",
   "pygments_lexer": "ipython3",
   "version": "3.9.2"
  }
 },
 "nbformat": 4,
 "nbformat_minor": 5
}
