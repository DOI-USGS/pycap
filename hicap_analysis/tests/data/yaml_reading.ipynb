{
 "cells": [
  {
   "cell_type": "code",
   "execution_count": 1,
   "id": "5699eef5",
   "metadata": {},
   "outputs": [],
   "source": [
    "import yaml"
   ]
  },
  {
   "cell_type": "code",
   "execution_count": 19,
   "id": "3114c102",
   "metadata": {},
   "outputs": [],
   "source": [
    "with open('example.yml') as ifp:\n",
    "    c = yaml.safe_load(ifp)"
   ]
  },
  {
   "cell_type": "code",
   "execution_count": 20,
   "id": "3ac32a3e",
   "metadata": {},
   "outputs": [
    {
     "data": {
      "text/plain": [
       "{'project_properties': {'name': 'newcafo',\n",
       "  'T': 10.0,\n",
       "  'S': 0.01,\n",
       "  'default_dd_time': 30,\n",
       "  'default_depletion_time': 5,\n",
       "  'default_pump_duration': 30},\n",
       " 'well': {'name': 'new2',\n",
       "  'status': 'pending',\n",
       "  'loc': {'x': 509, 'y': 201},\n",
       "  'Q': 120,\n",
       "  'dd_time': 30,\n",
       "  'stream_apportionment': {'name': 'stream2', 'apportionment': 0.4},\n",
       "  'dd_response': ['ex1'],\n",
       "  'stream_response': ['Upp Creek', 'no paddle']}}"
      ]
     },
     "execution_count": 20,
     "metadata": {},
     "output_type": "execute_result"
    }
   ],
   "source": [
    "c"
   ]
  },
  {
   "cell_type": "code",
   "execution_count": 21,
   "id": "ac194d60",
   "metadata": {},
   "outputs": [
    {
     "data": {
      "text/plain": [
       "{'name': 'new2',\n",
       " 'status': 'pending',\n",
       " 'loc': {'x': 509, 'y': 201},\n",
       " 'Q': 120,\n",
       " 'dd_time': 30,\n",
       " 'stream_apportionment': {'name': 'stream2', 'apportionment': 0.4},\n",
       " 'dd_response': ['ex1'],\n",
       " 'stream_response': ['Upp Creek', 'no paddle']}"
      ]
     },
     "execution_count": 21,
     "metadata": {},
     "output_type": "execute_result"
    }
   ],
   "source": [
    "c['well']"
   ]
  },
  {
   "cell_type": "code",
   "execution_count": null,
   "id": "3641a1fa",
   "metadata": {},
   "outputs": [],
   "source": []
  }
 ],
 "metadata": {
  "kernelspec": {
   "display_name": "Python 3 (ipykernel)",
   "language": "python",
   "name": "python3"
  },
  "language_info": {
   "codemirror_mode": {
    "name": "ipython",
    "version": 3
   },
   "file_extension": ".py",
   "mimetype": "text/x-python",
   "name": "python",
   "nbconvert_exporter": "python",
   "pygments_lexer": "ipython3",
   "version": "3.9.2"
  }
 },
 "nbformat": 4,
 "nbformat_minor": 5
}
