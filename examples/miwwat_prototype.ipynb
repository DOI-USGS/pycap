{
 "cells": [
  {
   "cell_type": "code",
   "execution_count": 2,
   "id": "06f6663b-7509-40ef-b20b-23c8b088f44c",
   "metadata": {},
   "outputs": [],
   "source": [
    "import sys\n",
    "sys.path.append('../')\n",
    "import hicap_analysis.wells as wo\n",
    "from hicap_analysis.miwwat_approach import MiWWAT\n",
    "\n",
    "import os\n",
    "from pathlib import Path\n",
    "import pandas as pd\n",
    "import geopandas as gpd\n",
    "import numpy as np\n",
    "\n",
    "import matplotlib.pyplot as plt\n",
    "%matplotlib inline"
   ]
  },
  {
   "cell_type": "markdown",
   "id": "02cafd92-276d-4989-aba0-fd6072835c07",
   "metadata": {},
   "source": [
    "# Set some paths\n",
    "shapefiles and a testing csv file are in the tests directory."
   ]
  },
  {
   "cell_type": "code",
   "execution_count": 3,
   "id": "853e50e8-c4ff-4d40-a43e-a9c1d76d7ace",
   "metadata": {},
   "outputs": [],
   "source": [
    "homepath = Path(os.getcwd())"
   ]
  },
  {
   "cell_type": "markdown",
   "id": "02856ee0-79d0-4f27-9411-fd4e3b5c027e",
   "metadata": {},
   "source": [
    "# Make a wwat object\n",
    "\n",
    "The wwat object needs a shapefile with the desired catchments\n",
    "and one with the corresponding streamlines.  catch_idx and stream_idx\n",
    "are optional and will be used to set the indices of the returned\n",
    "geodataframes if provided.  "
   ]
  },
  {
   "cell_type": "code",
   "execution_count": 4,
   "id": "3ce68597-ab8b-4b5d-a103-839562d86b8d",
   "metadata": {},
   "outputs": [
    {
     "name": "stderr",
     "output_type": "stream",
     "text": [
      "C:\\Users\\hwreeves\\AppData\\Local\\miniforge3\\envs\\hca\\Lib\\site-packages\\pyogrio\\raw.py:196: UserWarning: Measured (M) geometry types are not supported. Original type 'Measured 3D LineString' is converted to 'LineString Z'\n",
      "  return ogr_read(\n"
     ]
    }
   ],
   "source": [
    "wwat = MiWWAT(catchment_shp='Revision11_Catchment_GW_MI.shp',\n",
    "              streamline_shp='revision11_linework_gw_mi.shp', \n",
    "              catch_idx='ADJ_SEGMNT', \n",
    "              stream_idx='ADJ_SEGMNT')"
   ]
  },
  {
   "cell_type": "code",
   "execution_count": 5,
   "id": "259af1a3-66f5-491b-9ef1-c237daa089ee",
   "metadata": {},
   "outputs": [
    {
     "data": {
      "text/plain": [
       "Index(['BASIN', 'SUBBASIN', 'EST_DPH_BR', 'BDRK_FLAG', 'BDRK_T', 'MEDIAN_T',\n",
       "       'EST_Kv_W', 'TYPE', 'geometry'],\n",
       "      dtype='object')"
      ]
     },
     "execution_count": 5,
     "metadata": {},
     "output_type": "execute_result"
    }
   ],
   "source": [
    "wwat.catchment_df.columns"
   ]
  },
  {
   "cell_type": "code",
   "execution_count": 6,
   "id": "ddc12804-8ab3-442a-b054-fc1aa4087f60",
   "metadata": {},
   "outputs": [
    {
     "data": {
      "text/plain": [
       "Index(['BASIN', 'SUBBASIN', 'EST_DPH_BR', 'BDRK_FLAG', 'BDRK_T', 'MEDIAN_T',\n",
       "       'EST_Kv_W', 'TYPE', 'geometry'],\n",
       "      dtype='object')"
      ]
     },
     "execution_count": 6,
     "metadata": {},
     "output_type": "execute_result"
    }
   ],
   "source": [
    "wwat.streamline_df.columns"
   ]
  },
  {
   "cell_type": "markdown",
   "id": "8c66cee9-7591-4224-b8ce-da7b0568711d",
   "metadata": {},
   "source": [
    "# make a well dataframe\n",
    "\n",
    "The geoprocess will take a list of [lat, long] pairs, a geodataframe, \n",
    "or a dataframe with the lat, long of target wells.  In this test, I'm \n",
    "passing a dataframe and the processor makes a geodataframe and reprojects\n",
    "to the same projection as the Geoprocess object."
   ]
  },
  {
   "cell_type": "code",
   "execution_count": 7,
   "id": "683af598-6f05-4d1e-80a8-8558c7a5044b",
   "metadata": {},
   "outputs": [],
   "source": [
    "well = [{'name': 'testwell0',\n",
    "    'lat': 44.979953,\n",
    "    'long': -84.625023,\n",
    "    'rate': 70,\n",
    "    'depth': 80},\n",
    "   {'name': 'testwell1',\n",
    "    'lat': 44.99,\n",
    "    'long': -84.64,\n",
    "    'rate': 70,\n",
    "    'depth': 80}]  #gpm and ft\n",
    "\n",
    "well_df=pd.DataFrame(well)"
   ]
  },
  {
   "cell_type": "code",
   "execution_count": 8,
   "id": "2d7b8452-0ebf-4f40-84ed-a635eca94a51",
   "metadata": {},
   "outputs": [
    {
     "data": {
      "text/html": [
       "<div>\n",
       "<style scoped>\n",
       "    .dataframe tbody tr th:only-of-type {\n",
       "        vertical-align: middle;\n",
       "    }\n",
       "\n",
       "    .dataframe tbody tr th {\n",
       "        vertical-align: top;\n",
       "    }\n",
       "\n",
       "    .dataframe thead th {\n",
       "        text-align: right;\n",
       "    }\n",
       "</style>\n",
       "<table border=\"1\" class=\"dataframe\">\n",
       "  <thead>\n",
       "    <tr style=\"text-align: right;\">\n",
       "      <th></th>\n",
       "      <th>name</th>\n",
       "      <th>lat</th>\n",
       "      <th>long</th>\n",
       "      <th>rate</th>\n",
       "      <th>depth</th>\n",
       "    </tr>\n",
       "  </thead>\n",
       "  <tbody>\n",
       "    <tr>\n",
       "      <th>0</th>\n",
       "      <td>testwell0</td>\n",
       "      <td>44.979953</td>\n",
       "      <td>-84.625023</td>\n",
       "      <td>70</td>\n",
       "      <td>80</td>\n",
       "    </tr>\n",
       "    <tr>\n",
       "      <th>1</th>\n",
       "      <td>testwell1</td>\n",
       "      <td>44.990000</td>\n",
       "      <td>-84.640000</td>\n",
       "      <td>70</td>\n",
       "      <td>80</td>\n",
       "    </tr>\n",
       "  </tbody>\n",
       "</table>\n",
       "</div>"
      ],
      "text/plain": [
       "        name        lat       long  rate  depth\n",
       "0  testwell0  44.979953 -84.625023    70     80\n",
       "1  testwell1  44.990000 -84.640000    70     80"
      ]
     },
     "execution_count": 8,
     "metadata": {},
     "output_type": "execute_result"
    }
   ],
   "source": [
    "well_df.head()"
   ]
  },
  {
   "cell_type": "markdown",
   "id": "4c53cd1a-56d4-4303-a6e7-c2927aad91b8",
   "metadata": {},
   "source": [
    "# test reading from an excel file"
   ]
  },
  {
   "cell_type": "code",
   "execution_count": 9,
   "id": "043bd601-57e5-4e29-b987-d0ed77fbb663",
   "metadata": {},
   "outputs": [],
   "source": [
    "well_df2 = pd.read_excel('miwwat_example_input.xlsx',\n",
    "                         skiprows=1)\n",
    "well_df2.rename(columns={'latitude':'lat', \n",
    "                         'longitude': 'long',\n",
    "                         'pumping rate, gpm': 'rate',\n",
    "                         'top of screen, ft': 'depth'},\n",
    "               inplace=True)"
   ]
  },
  {
   "cell_type": "code",
   "execution_count": 10,
   "id": "ce565ec1-b6e8-472d-b617-35ae68ebe0a5",
   "metadata": {},
   "outputs": [
    {
     "data": {
      "text/html": [
       "<div>\n",
       "<style scoped>\n",
       "    .dataframe tbody tr th:only-of-type {\n",
       "        vertical-align: middle;\n",
       "    }\n",
       "\n",
       "    .dataframe tbody tr th {\n",
       "        vertical-align: top;\n",
       "    }\n",
       "\n",
       "    .dataframe thead th {\n",
       "        text-align: right;\n",
       "    }\n",
       "</style>\n",
       "<table border=\"1\" class=\"dataframe\">\n",
       "  <thead>\n",
       "    <tr style=\"text-align: right;\">\n",
       "      <th></th>\n",
       "      <th>Test number</th>\n",
       "      <th>name</th>\n",
       "      <th>lat</th>\n",
       "      <th>long</th>\n",
       "      <th>rate</th>\n",
       "      <th>depth</th>\n",
       "    </tr>\n",
       "  </thead>\n",
       "  <tbody>\n",
       "    <tr>\n",
       "      <th>0</th>\n",
       "      <td>1</td>\n",
       "      <td>testwell0</td>\n",
       "      <td>44.979953</td>\n",
       "      <td>-84.625023</td>\n",
       "      <td>70</td>\n",
       "      <td>80</td>\n",
       "    </tr>\n",
       "    <tr>\n",
       "      <th>1</th>\n",
       "      <td>2</td>\n",
       "      <td>testwell1</td>\n",
       "      <td>44.990000</td>\n",
       "      <td>-84.640000</td>\n",
       "      <td>70</td>\n",
       "      <td>80</td>\n",
       "    </tr>\n",
       "  </tbody>\n",
       "</table>\n",
       "</div>"
      ],
      "text/plain": [
       "   Test number       name        lat       long  rate  depth\n",
       "0            1  testwell0  44.979953 -84.625023    70     80\n",
       "1            2  testwell1  44.990000 -84.640000    70     80"
      ]
     },
     "execution_count": 10,
     "metadata": {},
     "output_type": "execute_result"
    }
   ],
   "source": [
    "well_df2.head()"
   ]
  },
  {
   "cell_type": "code",
   "execution_count": 11,
   "id": "d1d5cdcd-44ed-40b4-9605-fe6ed88adea8",
   "metadata": {},
   "outputs": [],
   "source": [
    "well_df = well_df2.copy()"
   ]
  },
  {
   "cell_type": "markdown",
   "id": "7630ce65-0dc9-4f92-adfd-1d7cf0a8a4b0",
   "metadata": {},
   "source": [
    "## pass the dataframe to the geoprocessor\n",
    "\n",
    "The get_geometries() returns a WellGeometry objects."
   ]
  },
  {
   "cell_type": "code",
   "execution_count": 12,
   "id": "60bd67b1-6e58-48b5-986a-4cf2a29df1f8",
   "metadata": {},
   "outputs": [
    {
     "data": {
      "text/plain": [
       "[<hicap_analysis.geoprocessing.WellGeometry at 0x165ffa65910>,\n",
       " <hicap_analysis.geoprocessing.WellGeometry at 0x165ffa76d50>]"
      ]
     },
     "execution_count": 12,
     "metadata": {},
     "output_type": "execute_result"
    }
   ],
   "source": [
    "well_list = wwat.get_geometries(well_df)\n",
    "well_list"
   ]
  },
  {
   "cell_type": "markdown",
   "id": "08a37d0b-af38-4696-8f01-55a2266007f6",
   "metadata": {},
   "source": [
    "## WellGeometry objects\n",
    "\n",
    "The attributes are:\n",
    "\n",
    "- name\n",
    "- geodataframe of catchment with the well (home_df)\n",
    "- geodataframe of the neighboring catchments (neighbors_df)\n",
    "- geodataframe of the streamlines for the catchments (streams_df)\n",
    "- dataframe of the closest point on the stream for each catchment\n",
    "  and apportionment for inverse-distance and inverse-distance-squared"
   ]
  },
  {
   "cell_type": "code",
   "execution_count": 13,
   "id": "4cad975d-bac2-4e9e-bfe2-770e1e13a372",
   "metadata": {},
   "outputs": [],
   "source": [
    "# testwell0 should match the table from SIR\n",
    "home = well_list[0].home_df.copy()\n",
    "nearest = well_list[0].close_points_df.copy()"
   ]
  },
  {
   "cell_type": "code",
   "execution_count": 14,
   "id": "b1c23d1e-de1f-4ae0-be53-76e107d428ed",
   "metadata": {},
   "outputs": [
    {
     "data": {
      "text/html": [
       "<div>\n",
       "<style scoped>\n",
       "    .dataframe tbody tr th:only-of-type {\n",
       "        vertical-align: middle;\n",
       "    }\n",
       "\n",
       "    .dataframe tbody tr th {\n",
       "        vertical-align: top;\n",
       "    }\n",
       "\n",
       "    .dataframe thead th {\n",
       "        text-align: right;\n",
       "    }\n",
       "</style>\n",
       "<table border=\"1\" class=\"dataframe\">\n",
       "  <thead>\n",
       "    <tr style=\"text-align: right;\">\n",
       "      <th></th>\n",
       "      <th>BASIN</th>\n",
       "      <th>SUBBASIN</th>\n",
       "      <th>EST_DPH_BR</th>\n",
       "      <th>BDRK_FLAG</th>\n",
       "      <th>BDRK_T</th>\n",
       "      <th>MEDIAN_T</th>\n",
       "      <th>EST_Kv_W</th>\n",
       "      <th>TYPE</th>\n",
       "      <th>geometry</th>\n",
       "      <th>Test number</th>\n",
       "      <th>lat</th>\n",
       "      <th>long</th>\n",
       "      <th>rate</th>\n",
       "      <th>depth</th>\n",
       "    </tr>\n",
       "    <tr>\n",
       "      <th>ADJ_SEGMNT</th>\n",
       "      <th></th>\n",
       "      <th></th>\n",
       "      <th></th>\n",
       "      <th></th>\n",
       "      <th></th>\n",
       "      <th></th>\n",
       "      <th></th>\n",
       "      <th></th>\n",
       "      <th></th>\n",
       "      <th></th>\n",
       "      <th></th>\n",
       "      <th></th>\n",
       "      <th></th>\n",
       "      <th></th>\n",
       "    </tr>\n",
       "  </thead>\n",
       "  <tbody>\n",
       "    <tr>\n",
       "      <th>13925</th>\n",
       "      <td>Au Sable</td>\n",
       "      <td>N Br Au Sable River at Below Chubb Creek</td>\n",
       "      <td>814.230408</td>\n",
       "      <td>0.0</td>\n",
       "      <td>0.0</td>\n",
       "      <td>7819.0</td>\n",
       "      <td>288.937988</td>\n",
       "      <td>Warm stream</td>\n",
       "      <td>POLYGON ((604618.893 500172.864, 604648.761 50...</td>\n",
       "      <td>1</td>\n",
       "      <td>44.979953</td>\n",
       "      <td>-84.625023</td>\n",
       "      <td>70</td>\n",
       "      <td>80</td>\n",
       "    </tr>\n",
       "  </tbody>\n",
       "</table>\n",
       "</div>"
      ],
      "text/plain": [
       "               BASIN                                  SUBBASIN  EST_DPH_BR  \\\n",
       "ADJ_SEGMNT                                                                   \n",
       "13925       Au Sable  N Br Au Sable River at Below Chubb Creek  814.230408   \n",
       "\n",
       "            BDRK_FLAG  BDRK_T  MEDIAN_T    EST_Kv_W         TYPE  \\\n",
       "ADJ_SEGMNT                                                         \n",
       "13925             0.0     0.0    7819.0  288.937988  Warm stream   \n",
       "\n",
       "                                                     geometry Test number  \\\n",
       "ADJ_SEGMNT                                                                  \n",
       "13925       POLYGON ((604618.893 500172.864, 604648.761 50...           1   \n",
       "\n",
       "                  lat       long rate depth  \n",
       "ADJ_SEGMNT                                   \n",
       "13925       44.979953 -84.625023   70    80  "
      ]
     },
     "execution_count": 14,
     "metadata": {},
     "output_type": "execute_result"
    }
   ],
   "source": [
    "home.head()"
   ]
  },
  {
   "cell_type": "code",
   "execution_count": 15,
   "id": "aa8e63e2-9eaf-4c58-b7b7-c179e9137a76",
   "metadata": {},
   "outputs": [
    {
     "data": {
      "text/html": [
       "<div>\n",
       "<style scoped>\n",
       "    .dataframe tbody tr th:only-of-type {\n",
       "        vertical-align: middle;\n",
       "    }\n",
       "\n",
       "    .dataframe tbody tr th {\n",
       "        vertical-align: top;\n",
       "    }\n",
       "\n",
       "    .dataframe thead th {\n",
       "        text-align: right;\n",
       "    }\n",
       "</style>\n",
       "<table border=\"1\" class=\"dataframe\">\n",
       "  <thead>\n",
       "    <tr style=\"text-align: right;\">\n",
       "      <th></th>\n",
       "      <th>distance</th>\n",
       "      <th>geometry</th>\n",
       "      <th>inv_distance</th>\n",
       "      <th>inv_dist2</th>\n",
       "      <th>apportionment</th>\n",
       "      <th>apport2</th>\n",
       "    </tr>\n",
       "    <tr>\n",
       "      <th>ADJ_SEGMNT</th>\n",
       "      <th></th>\n",
       "      <th></th>\n",
       "      <th></th>\n",
       "      <th></th>\n",
       "      <th></th>\n",
       "      <th></th>\n",
       "    </tr>\n",
       "  </thead>\n",
       "  <tbody>\n",
       "    <tr>\n",
       "      <th>11</th>\n",
       "      <td>15745.034793</td>\n",
       "      <td>POINT (612500.596 490726.699)</td>\n",
       "      <td>0.000064</td>\n",
       "      <td>4.033785e-09</td>\n",
       "      <td>0.149232</td>\n",
       "      <td>0.148351</td>\n",
       "    </tr>\n",
       "    <tr>\n",
       "      <th>77</th>\n",
       "      <td>47819.169791</td>\n",
       "      <td>POINT (601878.374 479831.264)</td>\n",
       "      <td>0.000021</td>\n",
       "      <td>4.373166e-10</td>\n",
       "      <td>0.049136</td>\n",
       "      <td>0.016083</td>\n",
       "    </tr>\n",
       "    <tr>\n",
       "      <th>9741</th>\n",
       "      <td>27561.440624</td>\n",
       "      <td>POINT (607804.776 484555.517)</td>\n",
       "      <td>0.000036</td>\n",
       "      <td>1.316425e-09</td>\n",
       "      <td>0.085252</td>\n",
       "      <td>0.048414</td>\n",
       "    </tr>\n",
       "    <tr>\n",
       "      <th>10950</th>\n",
       "      <td>37799.536913</td>\n",
       "      <td>POINT (604107.229 503702.844)</td>\n",
       "      <td>0.000026</td>\n",
       "      <td>6.998856e-10</td>\n",
       "      <td>0.062161</td>\n",
       "      <td>0.025740</td>\n",
       "    </tr>\n",
       "    <tr>\n",
       "      <th>11967</th>\n",
       "      <td>14798.924406</td>\n",
       "      <td>POINT (610798.946 489227.73)</td>\n",
       "      <td>0.000068</td>\n",
       "      <td>4.566040e-09</td>\n",
       "      <td>0.158772</td>\n",
       "      <td>0.167926</td>\n",
       "    </tr>\n",
       "    <tr>\n",
       "      <th>12039</th>\n",
       "      <td>19063.389627</td>\n",
       "      <td>POINT (607257.679 498674.488)</td>\n",
       "      <td>0.000052</td>\n",
       "      <td>2.751692e-09</td>\n",
       "      <td>0.123255</td>\n",
       "      <td>0.101200</td>\n",
       "    </tr>\n",
       "    <tr>\n",
       "      <th>12515</th>\n",
       "      <td>17033.749897</td>\n",
       "      <td>POINT (612831.957 495381.071)</td>\n",
       "      <td>0.000059</td>\n",
       "      <td>3.446509e-09</td>\n",
       "      <td>0.137942</td>\n",
       "      <td>0.126753</td>\n",
       "    </tr>\n",
       "    <tr>\n",
       "      <th>13925</th>\n",
       "      <td>10030.596491</td>\n",
       "      <td>POINT (606697.165 490309.153)</td>\n",
       "      <td>0.000100</td>\n",
       "      <td>9.939087e-09</td>\n",
       "      <td>0.234249</td>\n",
       "      <td>0.365532</td>\n",
       "    </tr>\n",
       "  </tbody>\n",
       "</table>\n",
       "</div>"
      ],
      "text/plain": [
       "                distance                       geometry  inv_distance  \\\n",
       "ADJ_SEGMNT                                                              \n",
       "11          15745.034793  POINT (612500.596 490726.699)      0.000064   \n",
       "77          47819.169791  POINT (601878.374 479831.264)      0.000021   \n",
       "9741        27561.440624  POINT (607804.776 484555.517)      0.000036   \n",
       "10950       37799.536913  POINT (604107.229 503702.844)      0.000026   \n",
       "11967       14798.924406   POINT (610798.946 489227.73)      0.000068   \n",
       "12039       19063.389627  POINT (607257.679 498674.488)      0.000052   \n",
       "12515       17033.749897  POINT (612831.957 495381.071)      0.000059   \n",
       "13925       10030.596491  POINT (606697.165 490309.153)      0.000100   \n",
       "\n",
       "               inv_dist2  apportionment   apport2  \n",
       "ADJ_SEGMNT                                         \n",
       "11          4.033785e-09       0.149232  0.148351  \n",
       "77          4.373166e-10       0.049136  0.016083  \n",
       "9741        1.316425e-09       0.085252  0.048414  \n",
       "10950       6.998856e-10       0.062161  0.025740  \n",
       "11967       4.566040e-09       0.158772  0.167926  \n",
       "12039       2.751692e-09       0.123255  0.101200  \n",
       "12515       3.446509e-09       0.137942  0.126753  \n",
       "13925       9.939087e-09       0.234249  0.365532  "
      ]
     },
     "execution_count": 15,
     "metadata": {},
     "output_type": "execute_result"
    }
   ],
   "source": [
    "nearest"
   ]
  },
  {
   "cell_type": "code",
   "execution_count": 16,
   "id": "45318594-b3b1-445b-ba03-26ae84e9330a",
   "metadata": {},
   "outputs": [
    {
     "data": {
      "text/plain": [
       "np.float64(7819.0)"
      ]
     },
     "execution_count": 16,
     "metadata": {},
     "output_type": "execute_result"
    }
   ],
   "source": [
    "well_list[0].transmissivity"
   ]
  },
  {
   "cell_type": "code",
   "execution_count": 17,
   "id": "685d4eb1-004d-4d70-a673-52687c1c0eab",
   "metadata": {},
   "outputs": [
    {
     "data": {
      "text/plain": [
       "np.float64(3.6117248535125)"
      ]
     },
     "execution_count": 17,
     "metadata": {},
     "output_type": "execute_result"
    }
   ],
   "source": [
    "well_list[0].streambed_cond"
   ]
  },
  {
   "cell_type": "code",
   "execution_count": 18,
   "id": "c720634c-2419-4c77-9548-fa77bbd2cb64",
   "metadata": {},
   "outputs": [],
   "source": [
    "# need to call the hunt99 function\n",
    "time = 5. * 365.25  # 5 years\n",
    "# pumping is 70 gpm; 1 gpm = 0.0022280093 cfs\n",
    "Q = well_df.loc[0,'rate'] * 0.0022280093 * 3600 * 24  # rate in CFD for function.\n",
    "T = well_list[0].transmissivity\n",
    "S = well_list[0].storativity\n",
    "streambed = well_list[0].streambed_cond"
   ]
  },
  {
   "cell_type": "code",
   "execution_count": 19,
   "id": "4c7f223a-551c-498c-bc34-5a1b8c1d773d",
   "metadata": {},
   "outputs": [],
   "source": [
    "# hunt99 returns CFS need to convert to GPM for table\n",
    "nearest['analytical_removal'] = nearest['distance'].apply(lambda dist: wo._hunt99(T, S, time, dist, Q, streambed)* 448.83116885)\n",
    "nearest['valley_seg_removal'] = nearest['apportionment'] * nearest['analytical_removal']\n",
    "nearest['percent'] = nearest['apportionment'] * 100."
   ]
  },
  {
   "cell_type": "markdown",
   "id": "2d823c17-2efd-4931-aaa7-b4cb73b93c30",
   "metadata": {},
   "source": [
    "# Hunt 1999 (and 2003) depletion equations are available as python functions"
   ]
  },
  {
   "cell_type": "markdown",
   "id": "ae970b99-047f-4bdf-a769-c215abbf1aab",
   "metadata": {},
   "source": [
    "depl = _hunt99(T, S, time, dist, Q, streambed)"
   ]
  },
  {
   "cell_type": "markdown",
   "id": "3f60f0b8-4c70-494b-9b19-c925d76b22d0",
   "metadata": {},
   "source": [
    "# Note you can easily plot the geodataframes or write as shapefile"
   ]
  },
  {
   "cell_type": "code",
   "execution_count": 20,
   "id": "9bc311b8-ca8b-4cad-9b50-2bd6a824633e",
   "metadata": {},
   "outputs": [
    {
     "data": {
      "image/png": "[encoded data removed]",
      "text/plain": [
       "<Figure size 640x480 with 1 Axes>"
      ]
     },
     "metadata": {},
     "output_type": "display_data"
    }
   ],
   "source": [
    "fig = plt.figure()\n",
    "ax = fig.add_subplot(111)\n",
    "well_list[0].neighbors_df.plot(ax=ax, color='lightgray', edgecolor='darkgray')\n",
    "home.plot(ax=ax, color='yellow', edgecolor='darkgray')\n",
    "well_list[0].well_df.plot(ax=ax, color='red')\n",
    "well_list[0].streams_df.plot(ax=ax, color='blue')\n",
    "nearest.plot(ax=ax, color='orange')\n",
    "ax.tick_params(direction='in')"
   ]
  },
  {
   "cell_type": "code",
   "execution_count": 21,
   "id": "5ba389ac-f463-48bc-bd6e-3fe04d39de70",
   "metadata": {},
   "outputs": [
    {
     "name": "stderr",
     "output_type": "stream",
     "text": [
      "C:\\Users\\hwreeves\\AppData\\Local\\Temp\\2\\ipykernel_13304\\2382746851.py:1: UserWarning: Column names longer than 10 characters will be truncated when saved to ESRI Shapefile.\n",
      "  nearest.to_file(homepath / 'output' / 'nearest.shp')\n",
      "C:\\Users\\hwreeves\\AppData\\Local\\miniforge3\\envs\\hca\\Lib\\site-packages\\pyogrio\\raw.py:698: UserWarning: 'crs' was not provided.  The output dataset will not have projection information defined and may not be usable in other systems.\n",
      "  warnings.warn(\n",
      "C:\\Users\\hwreeves\\AppData\\Local\\miniforge3\\envs\\hca\\Lib\\site-packages\\pyogrio\\raw.py:709: RuntimeWarning: Normalized/laundered field name: 'inv_distance' to 'inv_distan'\n",
      "  ogr_write(\n",
      "C:\\Users\\hwreeves\\AppData\\Local\\miniforge3\\envs\\hca\\Lib\\site-packages\\pyogrio\\raw.py:709: RuntimeWarning: Normalized/laundered field name: 'apportionment' to 'apportionm'\n",
      "  ogr_write(\n",
      "C:\\Users\\hwreeves\\AppData\\Local\\miniforge3\\envs\\hca\\Lib\\site-packages\\pyogrio\\raw.py:709: RuntimeWarning: Normalized/laundered field name: 'analytical_removal' to 'analytical'\n",
      "  ogr_write(\n",
      "C:\\Users\\hwreeves\\AppData\\Local\\miniforge3\\envs\\hca\\Lib\\site-packages\\pyogrio\\raw.py:709: RuntimeWarning: Normalized/laundered field name: 'valley_seg_removal' to 'valley_seg'\n",
      "  ogr_write(\n"
     ]
    }
   ],
   "source": [
    "nearest.to_file(homepath / 'output' / 'nearest.shp')"
   ]
  },
  {
   "cell_type": "code",
   "execution_count": 22,
   "id": "227accc0-6791-40ee-9389-9d4b2919bcc2",
   "metadata": {},
   "outputs": [
    {
     "data": {
      "text/html": [
       "<div>\n",
       "<style scoped>\n",
       "    .dataframe tbody tr th:only-of-type {\n",
       "        vertical-align: middle;\n",
       "    }\n",
       "\n",
       "    .dataframe tbody tr th {\n",
       "        vertical-align: top;\n",
       "    }\n",
       "\n",
       "    .dataframe thead th {\n",
       "        text-align: right;\n",
       "    }\n",
       "</style>\n",
       "<table border=\"1\" class=\"dataframe\">\n",
       "  <thead>\n",
       "    <tr style=\"text-align: right;\">\n",
       "      <th></th>\n",
       "      <th>distance</th>\n",
       "      <th>geometry</th>\n",
       "      <th>inv_distance</th>\n",
       "      <th>inv_dist2</th>\n",
       "      <th>apportionment</th>\n",
       "      <th>apport2</th>\n",
       "      <th>analytical_removal</th>\n",
       "      <th>valley_seg_removal</th>\n",
       "      <th>percent</th>\n",
       "    </tr>\n",
       "    <tr>\n",
       "      <th>ADJ_SEGMNT</th>\n",
       "      <th></th>\n",
       "      <th></th>\n",
       "      <th></th>\n",
       "      <th></th>\n",
       "      <th></th>\n",
       "      <th></th>\n",
       "      <th></th>\n",
       "      <th></th>\n",
       "      <th></th>\n",
       "    </tr>\n",
       "  </thead>\n",
       "  <tbody>\n",
       "    <tr>\n",
       "      <th>11</th>\n",
       "      <td>15745.034793</td>\n",
       "      <td>POINT (612500.596 490726.699)</td>\n",
       "      <td>0.000064</td>\n",
       "      <td>4.033785e-09</td>\n",
       "      <td>0.149232</td>\n",
       "      <td>0.148351</td>\n",
       "      <td>49.573586</td>\n",
       "      <td>7.397962</td>\n",
       "      <td>14.923194</td>\n",
       "    </tr>\n",
       "    <tr>\n",
       "      <th>77</th>\n",
       "      <td>47819.169791</td>\n",
       "      <td>POINT (601878.374 479831.264)</td>\n",
       "      <td>0.000021</td>\n",
       "      <td>4.373166e-10</td>\n",
       "      <td>0.049136</td>\n",
       "      <td>0.016083</td>\n",
       "      <td>23.150745</td>\n",
       "      <td>1.137544</td>\n",
       "      <td>4.913640</td>\n",
       "    </tr>\n",
       "    <tr>\n",
       "      <th>9741</th>\n",
       "      <td>27561.440624</td>\n",
       "      <td>POINT (607804.776 484555.517)</td>\n",
       "      <td>0.000036</td>\n",
       "      <td>1.316425e-09</td>\n",
       "      <td>0.085252</td>\n",
       "      <td>0.048414</td>\n",
       "      <td>38.642352</td>\n",
       "      <td>3.294330</td>\n",
       "      <td>8.525179</td>\n",
       "    </tr>\n",
       "    <tr>\n",
       "      <th>10950</th>\n",
       "      <td>37799.536913</td>\n",
       "      <td>POINT (604107.229 503702.844)</td>\n",
       "      <td>0.000026</td>\n",
       "      <td>6.998856e-10</td>\n",
       "      <td>0.062161</td>\n",
       "      <td>0.025740</td>\n",
       "      <td>30.242303</td>\n",
       "      <td>1.879896</td>\n",
       "      <td>6.216113</td>\n",
       "    </tr>\n",
       "    <tr>\n",
       "      <th>11967</th>\n",
       "      <td>14798.924406</td>\n",
       "      <td>POINT (610798.946 489227.73)</td>\n",
       "      <td>0.000068</td>\n",
       "      <td>4.566040e-09</td>\n",
       "      <td>0.158772</td>\n",
       "      <td>0.167926</td>\n",
       "      <td>50.495621</td>\n",
       "      <td>8.017315</td>\n",
       "      <td>15.877249</td>\n",
       "    </tr>\n",
       "    <tr>\n",
       "      <th>12039</th>\n",
       "      <td>19063.389627</td>\n",
       "      <td>POINT (607257.679 498674.488)</td>\n",
       "      <td>0.000052</td>\n",
       "      <td>2.751692e-09</td>\n",
       "      <td>0.123255</td>\n",
       "      <td>0.101200</td>\n",
       "      <td>46.389207</td>\n",
       "      <td>5.717711</td>\n",
       "      <td>12.325521</td>\n",
       "    </tr>\n",
       "    <tr>\n",
       "      <th>12515</th>\n",
       "      <td>17033.749897</td>\n",
       "      <td>POINT (612831.957 495381.071)</td>\n",
       "      <td>0.000059</td>\n",
       "      <td>3.446509e-09</td>\n",
       "      <td>0.137942</td>\n",
       "      <td>0.126753</td>\n",
       "      <td>48.327468</td>\n",
       "      <td>6.666366</td>\n",
       "      <td>13.794156</td>\n",
       "    </tr>\n",
       "    <tr>\n",
       "      <th>13925</th>\n",
       "      <td>10030.596491</td>\n",
       "      <td>POINT (606697.165 490309.153)</td>\n",
       "      <td>0.000100</td>\n",
       "      <td>9.939087e-09</td>\n",
       "      <td>0.234249</td>\n",
       "      <td>0.365532</td>\n",
       "      <td>55.225855</td>\n",
       "      <td>12.936628</td>\n",
       "      <td>23.424948</td>\n",
       "    </tr>\n",
       "  </tbody>\n",
       "</table>\n",
       "</div>"
      ],
      "text/plain": [
       "                distance                       geometry  inv_distance  \\\n",
       "ADJ_SEGMNT                                                              \n",
       "11          15745.034793  POINT (612500.596 490726.699)      0.000064   \n",
       "77          47819.169791  POINT (601878.374 479831.264)      0.000021   \n",
       "9741        27561.440624  POINT (607804.776 484555.517)      0.000036   \n",
       "10950       37799.536913  POINT (604107.229 503702.844)      0.000026   \n",
       "11967       14798.924406   POINT (610798.946 489227.73)      0.000068   \n",
       "12039       19063.389627  POINT (607257.679 498674.488)      0.000052   \n",
       "12515       17033.749897  POINT (612831.957 495381.071)      0.000059   \n",
       "13925       10030.596491  POINT (606697.165 490309.153)      0.000100   \n",
       "\n",
       "               inv_dist2  apportionment   apport2  analytical_removal  \\\n",
       "ADJ_SEGMNT                                                              \n",
       "11          4.033785e-09       0.149232  0.148351           49.573586   \n",
       "77          4.373166e-10       0.049136  0.016083           23.150745   \n",
       "9741        1.316425e-09       0.085252  0.048414           38.642352   \n",
       "10950       6.998856e-10       0.062161  0.025740           30.242303   \n",
       "11967       4.566040e-09       0.158772  0.167926           50.495621   \n",
       "12039       2.751692e-09       0.123255  0.101200           46.389207   \n",
       "12515       3.446509e-09       0.137942  0.126753           48.327468   \n",
       "13925       9.939087e-09       0.234249  0.365532           55.225855   \n",
       "\n",
       "            valley_seg_removal    percent  \n",
       "ADJ_SEGMNT                                 \n",
       "11                    7.397962  14.923194  \n",
       "77                    1.137544   4.913640  \n",
       "9741                  3.294330   8.525179  \n",
       "10950                 1.879896   6.216113  \n",
       "11967                 8.017315  15.877249  \n",
       "12039                 5.717711  12.325521  \n",
       "12515                 6.666366  13.794156  \n",
       "13925                12.936628  23.424948  "
      ]
     },
     "execution_count": 22,
     "metadata": {},
     "output_type": "execute_result"
    }
   ],
   "source": [
    "nearest"
   ]
  },
  {
   "cell_type": "code",
   "execution_count": 23,
   "id": "296cd161-bff6-47dd-940c-8a3c9f6d8cd6",
   "metadata": {},
   "outputs": [
    {
     "data": {
      "text/plain": [
       "[<hicap_analysis.geoprocessing.WellGeometry at 0x165ffa65910>,\n",
       " <hicap_analysis.geoprocessing.WellGeometry at 0x165ffa76d50>]"
      ]
     },
     "execution_count": 23,
     "metadata": {},
     "output_type": "execute_result"
    }
   ],
   "source": [
    "well_list"
   ]
  },
  {
   "cell_type": "code",
   "execution_count": 24,
   "id": "e50d54ce-6c9b-46a8-a133-a2eba93f8959",
   "metadata": {},
   "outputs": [
    {
     "data": {
      "text/plain": [
       "'testwell0'"
      ]
     },
     "execution_count": 24,
     "metadata": {},
     "output_type": "execute_result"
    }
   ],
   "source": [
    "well_list[0].name"
   ]
  },
  {
   "cell_type": "code",
   "execution_count": 25,
   "id": "c41270fa-bef4-47bc-b742-e0049342c698",
   "metadata": {},
   "outputs": [
    {
     "data": {
      "text/html": [
       "<div>\n",
       "<style scoped>\n",
       "    .dataframe tbody tr th:only-of-type {\n",
       "        vertical-align: middle;\n",
       "    }\n",
       "\n",
       "    .dataframe tbody tr th {\n",
       "        vertical-align: top;\n",
       "    }\n",
       "\n",
       "    .dataframe thead th {\n",
       "        text-align: right;\n",
       "    }\n",
       "</style>\n",
       "<table border=\"1\" class=\"dataframe\">\n",
       "  <thead>\n",
       "    <tr style=\"text-align: right;\">\n",
       "      <th></th>\n",
       "      <th>BASIN</th>\n",
       "      <th>SUBBASIN</th>\n",
       "      <th>EST_DPH_BR</th>\n",
       "      <th>BDRK_FLAG</th>\n",
       "      <th>BDRK_T</th>\n",
       "      <th>MEDIAN_T</th>\n",
       "      <th>EST_Kv_W</th>\n",
       "      <th>TYPE</th>\n",
       "      <th>geometry</th>\n",
       "      <th>Test number</th>\n",
       "      <th>lat</th>\n",
       "      <th>long</th>\n",
       "      <th>rate</th>\n",
       "      <th>depth</th>\n",
       "    </tr>\n",
       "    <tr>\n",
       "      <th>ADJ_SEGMNT</th>\n",
       "      <th></th>\n",
       "      <th></th>\n",
       "      <th></th>\n",
       "      <th></th>\n",
       "      <th></th>\n",
       "      <th></th>\n",
       "      <th></th>\n",
       "      <th></th>\n",
       "      <th></th>\n",
       "      <th></th>\n",
       "      <th></th>\n",
       "      <th></th>\n",
       "      <th></th>\n",
       "      <th></th>\n",
       "    </tr>\n",
       "  </thead>\n",
       "  <tbody>\n",
       "    <tr>\n",
       "      <th>13925</th>\n",
       "      <td>Au Sable</td>\n",
       "      <td>N Br Au Sable River at Below Chubb Creek</td>\n",
       "      <td>814.230408</td>\n",
       "      <td>0.0</td>\n",
       "      <td>0.0</td>\n",
       "      <td>7819.0</td>\n",
       "      <td>288.937988</td>\n",
       "      <td>Warm stream</td>\n",
       "      <td>POLYGON ((604618.893 500172.864, 604648.761 50...</td>\n",
       "      <td>1</td>\n",
       "      <td>44.979953</td>\n",
       "      <td>-84.625023</td>\n",
       "      <td>70</td>\n",
       "      <td>80</td>\n",
       "    </tr>\n",
       "  </tbody>\n",
       "</table>\n",
       "</div>"
      ],
      "text/plain": [
       "               BASIN                                  SUBBASIN  EST_DPH_BR  \\\n",
       "ADJ_SEGMNT                                                                   \n",
       "13925       Au Sable  N Br Au Sable River at Below Chubb Creek  814.230408   \n",
       "\n",
       "            BDRK_FLAG  BDRK_T  MEDIAN_T    EST_Kv_W         TYPE  \\\n",
       "ADJ_SEGMNT                                                         \n",
       "13925             0.0     0.0    7819.0  288.937988  Warm stream   \n",
       "\n",
       "                                                     geometry Test number  \\\n",
       "ADJ_SEGMNT                                                                  \n",
       "13925       POLYGON ((604618.893 500172.864, 604648.761 50...           1   \n",
       "\n",
       "                  lat       long rate depth  \n",
       "ADJ_SEGMNT                                   \n",
       "13925       44.979953 -84.625023   70    80  "
      ]
     },
     "execution_count": 25,
     "metadata": {},
     "output_type": "execute_result"
    }
   ],
   "source": [
    "well_list[0].home_df"
   ]
  },
  {
   "cell_type": "code",
   "execution_count": 26,
   "id": "64b16366-f42c-467d-8699-fe42b13579ff",
   "metadata": {},
   "outputs": [
    {
     "name": "stdout",
     "output_type": "stream",
     "text": [
      "Name = testwell0\n",
      "Aquifer type = drift\n",
      "Transmissivity = 7819.0\n",
      "Storativity = 0.01\n",
      "Streambed conductance = 3.6117248535125\n",
      "Home Catchment\n",
      "|   ADJ_SEGMNT | BASIN    |   lat |    long |   rate |   depth |\n",
      "|-------------:|:---------|------:|--------:|-------:|--------:|\n",
      "|        13925 | Au Sable | 44.98 | -84.625 |     70 |      80 |\n",
      "\n",
      "Neighboring Catchments\n",
      "|   ADJ_SEGMNT_left | BASIN_left   | TYPE_left        |\n",
      "|------------------:|:-------------|:-----------------|\n",
      "|                11 | Au Sable     | Warm stream      |\n",
      "|                77 | Au Sable     | Cold stream      |\n",
      "|              9741 | Au Sable     | Cool stream      |\n",
      "|             10950 | Cheboygan    | Cold stream      |\n",
      "|             11967 | Au Sable     | Warm small river |\n",
      "|             12039 | Cheboygan    | Cold stream      |\n",
      "|             12515 | Cheboygan    | Cold stream      |\n",
      "|             13925 | Au Sable     | Warm stream      |\n",
      "\n",
      "Streams\n",
      "|   ADJ_SEGMNT_left | BASIN     | SUBBASIN                                 | TYPE             |\n",
      "|------------------:|:----------|:-----------------------------------------|:-----------------|\n",
      "|                11 | Au Sable  | Turtle Creek at Mouth                    | Warm stream      |\n",
      "|                77 | Au Sable  | N Br Au Sable River at Otsego Lake Dam   | Cold stream      |\n",
      "|              9741 | Au Sable  | Chubb Creek at Mouth                     | Cool stream      |\n",
      "|             10950 | Cheboygan | Mossback Creek at Mouth                  | Cold stream      |\n",
      "|             11967 | Au Sable  | N Br Au Sable River at Above Big Creek   | Warm small river |\n",
      "|             12039 | Cheboygan | Sturgeon River at Above Mossback Creek   | Cold stream      |\n",
      "|             12515 | Cheboygan | Pigeon River at Above S Br Pigeon River  | Cold stream      |\n",
      "|             13925 | Au Sable  | N Br Au Sable River at Below Chubb Creek | Warm stream      |\n",
      "\n",
      "Closest Points\n",
      "|   ADJ_SEGMNT |   distance |   inv_distance |   inv_dist2 |   apportionment |   apport2 |\n",
      "|-------------:|-----------:|---------------:|------------:|----------------:|----------:|\n",
      "|           11 |    15745   |    6.35121e-05 | 4.03379e-09 |       0.149232  | 0.148351  |\n",
      "|           77 |    47819.2 |    2.09121e-05 | 4.37317e-10 |       0.0491364 | 0.0160833 |\n",
      "|         9741 |    27561.4 |    3.62826e-05 | 1.31643e-09 |       0.0852518 | 0.0484145 |\n",
      "|        10950 |    37799.5 |    2.64554e-05 | 6.99886e-10 |       0.0621611 | 0.0257399 |\n",
      "|        11967 |    14798.9 |    6.75725e-05 | 4.56604e-09 |       0.158772  | 0.167926  |\n",
      "|        12039 |    19063.4 |    5.24566e-05 | 2.75169e-09 |       0.123255  | 0.1012    |\n",
      "|        12515 |    17033.7 |    5.8707e-05  | 3.44651e-09 |       0.137942  | 0.126753  |\n",
      "|        13925 |    10030.6 |    9.9695e-05  | 9.93909e-09 |       0.234249  | 0.365532  |\n"
     ]
    }
   ],
   "source": [
    "well_list[0].summarize()"
   ]
  },
  {
   "cell_type": "code",
   "execution_count": null,
   "id": "2c552675-85ce-44f3-b2a6-164cbf91b51b",
   "metadata": {},
   "outputs": [],
   "source": []
  }
 ],
 "metadata": {
  "kernelspec": {
   "display_name": "Python 3 (ipykernel)",
   "language": "python",
   "name": "python3"
  },
  "language_info": {
   "codemirror_mode": {
    "name": "ipython",
    "version": 3
   },
   "file_extension": ".py",
   "mimetype": "text/x-python",
   "name": "python",
   "nbconvert_exporter": "python",
   "pygments_lexer": "ipython3",
   "version": "3.11.9"
  }
 },
 "nbformat": 4,
 "nbformat_minor": 5
}
