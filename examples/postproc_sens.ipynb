{
 "cells": [
  {
   "cell_type": "code",
   "execution_count": null,
   "id": "59480298-21b5-4075-8b29-3163e1370851",
   "metadata": {},
   "outputs": [],
   "source": [
    "import sys\n",
    "import shutil\n",
    "sys.path.append('../dependencies/')\n",
    "import pyemu\n",
    "import numpy as np\n",
    "import pandas as pd\n",
    "import matplotlib.pyplot as plt\n",
    "import yaml\n",
    "import pathlib as pl\n",
    "from flopy.plot import styles as fpstyles\n"
   ]
  },
  {
   "cell_type": "markdown",
   "id": "6a019c4e",
   "metadata": {},
   "source": [
    "# Method of Morris First"
   ]
  },
  {
   "cell_type": "code",
   "execution_count": null,
   "id": "f8e3279c-4a4d-429f-97fd-718c8faea539",
   "metadata": {},
   "outputs": [],
   "source": [
    "pst_name='./MASTER_SEN/global_sens_morris.pst'"
   ]
  },
  {
   "cell_type": "code",
   "execution_count": null,
   "id": "e8372726-cf99-452a-92d3-c2ff56a8d526",
   "metadata": {},
   "outputs": [],
   "source": [
    "pst = pyemu.Pst(pst_name)"
   ]
  },
  {
   "cell_type": "code",
   "execution_count": null,
   "id": "b480e318-90f3-4e26-86ca-3529e433f90b",
   "metadata": {},
   "outputs": [],
   "source": [
    "morris_sum_file = pst_name.replace('.pst','.msn')"
   ]
  },
  {
   "cell_type": "code",
   "execution_count": null,
   "id": "f45d3b74-a13c-47f9-b997-914740dc195c",
   "metadata": {},
   "outputs": [],
   "source": [
    "morris_df = pd.read_csv(morris_sum_file, index_col=0).T.rename(columns={'global_s':'Storage','global_t':'Transmissivity',\n",
    "                                                                       'well_1013__stream_apportionment121':'Existing Depletion'}).T\n",
    "morris_df"
   ]
  },
  {
   "cell_type": "code",
   "execution_count": null,
   "id": "7956b45c-c68b-4ff7-88b8-f2cfd57d1690",
   "metadata": {},
   "outputs": [],
   "source": [
    "ax = morris_df.sort_values(by='sen_mean_abs',ascending=False).iloc[:25].sen_mean_abs.apply(np.log10).plot.bar()\n",
    "plt.xlabel('Parameter Group')\n",
    "plt.ylabel('Mean Absolute Sensitivity')\n"
   ]
  },
  {
   "cell_type": "markdown",
   "id": "fdf6544c-f553-4bab-90d0-7ccea63eb340",
   "metadata": {},
   "source": [
    "# Sobol' sensitivity"
   ]
  },
  {
   "cell_type": "code",
   "execution_count": null,
   "id": "879c7547-d9b4-447a-87b2-555fae2d8623",
   "metadata": {},
   "outputs": [],
   "source": [
    "pst_name='./MASTER_SEN/global_sens_sobol.pst'\n",
    "si = pd.read_csv(pst_name.replace(\".pst\",\".sobol.si.csv\")).rename(columns={'output':'output','global_s':'Storage','global_t':'Transmissivity',\n",
    "                                                                    'well_1013__stream_apportionment121':'Existing Depletion'})"
   ]
  },
  {
   "cell_type": "code",
   "execution_count": null,
   "id": "6f7ce705",
   "metadata": {},
   "outputs": [],
   "source": [
    "si"
   ]
  },
  {
   "cell_type": "code",
   "execution_count": null,
   "id": "01ef28e3",
   "metadata": {},
   "outputs": [],
   "source": [
    "sti = pd.read_csv(pst_name.replace(\".pst\",\".sobol.sti.csv\")).rename(columns={'output':'output','global_s':'Storage','global_t':'Transmissivity',\n",
    "                                                                    'well_1013__stream_apportionment121':'Existing Depletion'})"
   ]
  },
  {
   "cell_type": "code",
   "execution_count": null,
   "id": "602635e2",
   "metadata": {},
   "outputs": [],
   "source": [
    "sti.iloc[1:].sum().iloc[1:].sort_values(ascending=False).astype(np.float64).apply(np.log10).plot.bar().grid(axis='y')"
   ]
  },
  {
   "cell_type": "code",
   "execution_count": null,
   "id": "29ab5765",
   "metadata": {},
   "outputs": [],
   "source": [
    "si.iloc[1:].sum().iloc[1:].sort_values(ascending=False).astype(np.float64).apply(np.log10).plot.bar().grid(axis='y')"
   ]
  },
  {
   "cell_type": "code",
   "execution_count": null,
   "id": "b6f1282f",
   "metadata": {},
   "outputs": [],
   "source": [
    "si.iloc[1:].sum().iloc[1:].sort_values(ascending=False)"
   ]
  },
  {
   "cell_type": "markdown",
   "id": "032a51dd",
   "metadata": {},
   "source": [
    "# Now make a combined plot for the paper"
   ]
  },
  {
   "cell_type": "code",
   "execution_count": null,
   "id": "4babb4f2",
   "metadata": {},
   "outputs": [],
   "source": [
    "with fpstyles.USGSPlot():\n",
    "    fig,ax =plt.subplots(1,2,figsize=(6,4))\n",
    "    morris_df.sort_values(by='sen_mean_abs',ascending=False).iloc[:25].sen_mean_abs.apply(np.log10).plot.bar(ax=ax[0]).grid(axis='y')\n",
    "    ax[0].set_xlabel('Parameter Group')\n",
    "    ax[0].set_ylabel('Mean Absolute Sensitivity')\n",
    "    sti.iloc[1:].sum().iloc[1:].sort_values(ascending=False).astype(np.float64).apply(np.log10).plot.bar(ax=ax[1]).grid(axis='y')\n",
    "    ax[1].set_xlabel('Parameter Group')\n",
    "    ax[1].set_ylabel('Total Sensitivity')\n",
    "    ax[0].set_title('Method of Morris')\n",
    "    ax[1].set_title(\"Method of Sobol'\")\n",
    "    plt.suptitle(\"Global Sensitivity Analysis Results\")\n",
    "    plt.tight_layout()\n",
    "    plt.savefig('./global_sens.pdf')\n"
   ]
  },
  {
   "cell_type": "code",
   "execution_count": null,
   "id": "2c5fecf3",
   "metadata": {},
   "outputs": [],
   "source": [
    "ax"
   ]
  },
  {
   "cell_type": "markdown",
   "id": "3313d799",
   "metadata": {},
   "source": []
  }
 ],
 "metadata": {
  "kernelspec": {
   "display_name": "hca",
   "language": "python",
   "name": "python3"
  }
 },
 "nbformat": 4,
 "nbformat_minor": 5
}
