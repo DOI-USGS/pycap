{
 "cells": [
  {
   "cell_type": "code",
   "execution_count": null,
   "id": "59480298-21b5-4075-8b29-3163e1370851",
   "metadata": {},
   "outputs": [],
   "source": [
    "import sys\n",
    "import shutil\n",
    "sys.path.append('../dependencies/')\n",
    "import pyemu\n",
    "import numpy as np\n",
    "import pandas as pd\n",
    "import matplotlib.pyplot as plt\n",
    "import yaml\n",
    "import pathlib as pl\n",
    "import os, platform"
   ]
  },
  {
   "cell_type": "code",
   "execution_count": null,
   "id": "f8e3279c-4a4d-429f-97fd-718c8faea539",
   "metadata": {},
   "outputs": [],
   "source": [
    "pst_name='./MASTER_SEN/global_sens.pst'"
   ]
  },
  {
   "cell_type": "code",
   "execution_count": null,
   "id": "e8372726-cf99-452a-92d3-c2ff56a8d526",
   "metadata": {},
   "outputs": [],
   "source": [
    "pst = pyemu.Pst(pst_name)"
   ]
  },
  {
   "cell_type": "code",
   "execution_count": null,
   "id": "b480e318-90f3-4e26-86ca-3529e433f90b",
   "metadata": {},
   "outputs": [],
   "source": [
    "morris_sum_file = pst_name.replace('.pst','.msn')"
   ]
  },
  {
   "cell_type": "code",
   "execution_count": null,
   "id": "f45d3b74-a13c-47f9-b997-914740dc195c",
   "metadata": {},
   "outputs": [],
   "source": [
    "morris_df = pd.read_csv(morris_sum_file, index_col=0)"
   ]
  },
  {
   "cell_type": "code",
   "execution_count": null,
   "id": "7956b45c-c68b-4ff7-88b8-f2cfd57d1690",
   "metadata": {},
   "outputs": [],
   "source": [
    "ax = morris_df.sort_values(by='sen_mean_abs',ascending=False).iloc[:25].sen_mean_abs.apply(np.log10).plot.bar(figsize=(7,7))\n"
   ]
  },
  {
   "cell_type": "code",
   "execution_count": null,
   "id": "fdf6544c-f553-4bab-90d0-7ccea63eb340",
   "metadata": {},
   "outputs": [],
   "source": []
  },
  {
   "cell_type": "code",
   "execution_count": null,
   "id": "879c7547-d9b4-447a-87b2-555fae2d8623",
   "metadata": {},
   "outputs": [],
   "source": []
  }
 ],
 "metadata": {
  "kernelspec": {
   "display_name": "Python 3 (ipykernel)",
   "language": "python",
   "name": "python3"
  }
 },
 "nbformat": 4,
 "nbformat_minor": 5
}
