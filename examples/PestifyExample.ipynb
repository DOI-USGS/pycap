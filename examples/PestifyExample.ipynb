{
 "cells": [
  {
   "cell_type": "code",
   "execution_count": null,
   "id": "d03d94d0",
   "metadata": {},
   "outputs": [],
   "source": [
    "import sys\n",
    "import shutil\n",
    "sys.path.append('../dependencies/')\n",
    "import pyemu\n",
    "import numpy as np\n",
    "import pandas as pd\n",
    "import matplotlib.pyplot as plt\n",
    "import yaml\n",
    "import pathlib as pl\n",
    "import os, platform"
   ]
  },
  {
   "cell_type": "markdown",
   "id": "84087e8e",
   "metadata": {},
   "source": [
    "## set some global vars we need"
   ]
  },
  {
   "cell_type": "code",
   "execution_count": null,
   "id": "0c883c93",
   "metadata": {},
   "outputs": [],
   "source": [
    "wkdir = pl.Path('.')\n",
    "template_dir = pl.Path('./tmpdir')\n",
    "sen_template_dir = pl.Path('./tmpdir_sen')\n",
    "if template_dir.exists():\n",
    "    shutil.rmtree(template_dir)\n",
    "template_dir.mkdir()\n",
    "if sen_template_dir.exists():\n",
    "    shutil.rmtree(sen_template_dir)\n",
    "\n",
    "    \n",
    "input_yml = 'TestExample.yml'\n",
    "with open(wkdir / input_yml, 'r') as ifp:\n",
    "    indat = yaml.safe_load(ifp)\n",
    "run_global_sen = True\n",
    "run_ies = False"
   ]
  },
  {
   "cell_type": "markdown",
   "id": "e884745e",
   "metadata": {},
   "source": [
    "# Set up `tpl` file for parameterization\n",
    "### parameterize T and S globally"
   ]
  },
  {
   "cell_type": "code",
   "execution_count": null,
   "id": "0cca4008",
   "metadata": {},
   "outputs": [],
   "source": [
    "T_init = indat['project_properties']['T']\n",
    "S_init = indat['project_properties']['S']\n",
    "\n",
    "indat['project_properties']['T'] = f'~{\"global_T\":^16s}~'\n",
    "indat['project_properties']['S'] = f'~{\"global_S\":^16s}~'\n"
   ]
  },
  {
   "cell_type": "markdown",
   "id": "4cda6802",
   "metadata": {},
   "source": [
    "### get the starting apportionment values and parameterize them as well"
   ]
  },
  {
   "cell_type": "code",
   "execution_count": null,
   "id": "4712d1ad",
   "metadata": {},
   "outputs": [],
   "source": [
    "well_keys = [i for i in indat.keys() if i.startswith('well_')]\n",
    "app_keys = [[j for j in indat[i].keys() if j.startswith('stream_apportionment')]\n",
    "                     for i in well_keys]\n",
    "pending_wells = [i for i in well_keys if 'pending' in indat[i]['status']]\n",
    "allkeys = dict(zip(well_keys, app_keys))\n",
    "allkeys"
   ]
  },
  {
   "cell_type": "code",
   "execution_count": null,
   "id": "35d04602",
   "metadata": {},
   "outputs": [],
   "source": [
    "pending_wells"
   ]
  },
  {
   "cell_type": "code",
   "execution_count": null,
   "id": "ddeeabe2",
   "metadata": {},
   "outputs": [],
   "source": [
    "pars = list()\n",
    "parvals = list()\n",
    "for k,v in allkeys.items():\n",
    "    for cv in v:\n",
    "        cpar = f'{k}__{cv}'\n",
    "        pars.append(cpar)\n",
    "        parvals.append(indat[k][cv]['apportionment'])\n",
    "        indat[k][cv]['apportionment'] = f'~{cpar:^45}~'"
   ]
  },
  {
   "cell_type": "code",
   "execution_count": null,
   "id": "922f269f-4a37-41d4-af46-84e2c4405052",
   "metadata": {},
   "outputs": [],
   "source": [
    "pars"
   ]
  },
  {
   "cell_type": "code",
   "execution_count": null,
   "id": "ac45395e",
   "metadata": {},
   "outputs": [],
   "source": [
    "pars_df = pd.DataFrame(index = pars, data = {'parval1':parvals})"
   ]
  },
  {
   "cell_type": "code",
   "execution_count": null,
   "id": "b2788b48-a221-4bb9-8c32-755366e10e76",
   "metadata": {},
   "outputs": [],
   "source": [
    "pars_df"
   ]
  },
  {
   "cell_type": "code",
   "execution_count": null,
   "id": "9a388f05-aae7-455a-b00f-f1115fdf5ad8",
   "metadata": {},
   "outputs": [],
   "source": [
    "pd.DataFrame(index = ['global_s','global_t'], data = {'parval1':[S_init,T_init]})"
   ]
  },
  {
   "cell_type": "code",
   "execution_count": null,
   "id": "d11e5c19-1a0e-49aa-bd4f-6a354755e52c",
   "metadata": {},
   "outputs": [],
   "source": [
    "pars_df = pd.concat([pars_df, pd.DataFrame(index = ['global_s','global_t'], data = {'parval1':[S_init,T_init]})])"
   ]
  },
  {
   "cell_type": "code",
   "execution_count": null,
   "id": "aec582a2",
   "metadata": {},
   "outputs": [],
   "source": [
    "pars_df"
   ]
  },
  {
   "cell_type": "code",
   "execution_count": null,
   "id": "cd7b906c",
   "metadata": {},
   "outputs": [],
   "source": [
    "with open(template_dir / f\"{input_yml}.tpl\",'w') as ofp:\n",
    "    ofp.write('ptf ~\\n')\n",
    "    documents = yaml.dump(indat, ofp, default_flow_style = False, sort_keys= False)"
   ]
  },
  {
   "cell_type": "markdown",
   "id": "af6fab49",
   "metadata": {},
   "source": [
    "# make `ins` file and external forward run file"
   ]
  },
  {
   "cell_type": "code",
   "execution_count": null,
   "id": "ac810af7",
   "metadata": {},
   "outputs": [],
   "source": [
    "basedeplobs = [f\"{indat[k]['name']}:bdpl\" for k in indat.keys() if 'stream' in k]"
   ]
  },
  {
   "cell_type": "code",
   "execution_count": null,
   "id": "a70bee82",
   "metadata": {},
   "outputs": [],
   "source": [
    "[i for i in basedeplobs if '93832' in i]"
   ]
  },
  {
   "cell_type": "code",
   "execution_count": null,
   "id": "ddf28afc",
   "metadata": {},
   "outputs": [],
   "source": [
    "unique_rivers = list(set([i.split(':')[0] for i in basedeplobs]))"
   ]
  },
  {
   "cell_type": "code",
   "execution_count": null,
   "id": "d4b4026f",
   "metadata": {},
   "outputs": [],
   "source": [
    "unique_rivers"
   ]
  },
  {
   "cell_type": "code",
   "execution_count": null,
   "id": "2a3d2d70",
   "metadata": {},
   "outputs": [],
   "source": [
    "# pending well already included\n",
    "# basedeplobs.extend([f\"{i}:{j.replace('well_','')}:bdpl\" for i in unique_rivers for j in pending_wells])"
   ]
  },
  {
   "cell_type": "code",
   "execution_count": null,
   "id": "90d7a383",
   "metadata": {},
   "outputs": [],
   "source": [
    "basedeplobs.extend([f'{i}:{j}:bdpl' for i in unique_rivers for j in ['total_proposed','total_existing','total_combined']])"
   ]
  },
  {
   "cell_type": "code",
   "execution_count": null,
   "id": "ebc41a4c",
   "metadata": {},
   "outputs": [],
   "source": [
    "with open(template_dir / 'basedeplobs.dat', 'w') as ofp:\n",
    "    [ofp.write(i + '\\n') for i in basedeplobs]"
   ]
  },
  {
   "cell_type": "markdown",
   "id": "57ca725a",
   "metadata": {},
   "source": [
    "# make forward run script external file"
   ]
  },
  {
   "cell_type": "code",
   "execution_count": null,
   "id": "3a5ece4c",
   "metadata": {},
   "outputs": [],
   "source": [
    "output_ts = ['TomorrowRiver:92696','TomorrowRiver:70974']\n",
    "times = range(365*4,365*5+1)"
   ]
  },
  {
   "cell_type": "code",
   "execution_count": null,
   "id": "bf6508c2",
   "metadata": {},
   "outputs": [],
   "source": [
    "ts_obs = []\n",
    "for c_ts in output_ts:\n",
    "    ts_obs.extend([f'{c_ts}__{i}' for i in times])"
   ]
  },
  {
   "cell_type": "code",
   "execution_count": null,
   "id": "bb096ba1",
   "metadata": {},
   "outputs": [],
   "source": [
    "ts_obs"
   ]
  },
  {
   "cell_type": "code",
   "execution_count": null,
   "id": "bc032e26",
   "metadata": {},
   "outputs": [],
   "source": [
    "allobs = basedeplobs + ts_obs"
   ]
  },
  {
   "cell_type": "code",
   "execution_count": null,
   "id": "5a3eed3a",
   "metadata": {},
   "outputs": [],
   "source": [
    "allobs"
   ]
  },
  {
   "cell_type": "code",
   "execution_count": null,
   "id": "debca7be",
   "metadata": {},
   "outputs": [],
   "source": [
    "with open(template_dir / 'ts_obs.dat' , 'w') as ofp:\n",
    "    [ofp.write(c_ts + '\\n') for c_ts in output_ts]"
   ]
  },
  {
   "cell_type": "code",
   "execution_count": null,
   "id": "20f5b5b9",
   "metadata": {},
   "outputs": [],
   "source": [
    "times"
   ]
  },
  {
   "cell_type": "code",
   "execution_count": null,
   "id": "abc3e063",
   "metadata": {},
   "outputs": [],
   "source": [
    "indat"
   ]
  },
  {
   "cell_type": "code",
   "execution_count": null,
   "id": "623cf56f",
   "metadata": {},
   "outputs": [],
   "source": [
    "odir = pl.Path('output')"
   ]
  },
  {
   "cell_type": "code",
   "execution_count": null,
   "id": "4ced6124",
   "metadata": {},
   "outputs": [],
   "source": [
    "base_data = pd.read_csv(odir/f'{input_yml.replace(\".yml\",\"\")}.table_report.base_stream_depletion.csv', index_col=0)"
   ]
  },
  {
   "cell_type": "code",
   "execution_count": null,
   "id": "333bb120",
   "metadata": {},
   "outputs": [],
   "source": [
    "base_data"
   ]
  },
  {
   "cell_type": "code",
   "execution_count": null,
   "id": "2d83833c",
   "metadata": {},
   "outputs": [],
   "source": [
    "bdplobs = pd.read_csv(template_dir/'basedeplobs.dat', header=None)\n",
    "bdplobs.columns = ['obsname']\n",
    "bdplobs.index = bdplobs.obsname"
   ]
  },
  {
   "cell_type": "code",
   "execution_count": null,
   "id": "07955221",
   "metadata": {},
   "outputs": [],
   "source": [
    "bdplobs['obs_values'] = np.nan\n",
    "bdplobs"
   ]
  },
  {
   "cell_type": "code",
   "execution_count": null,
   "id": "908fde8b",
   "metadata": {},
   "outputs": [],
   "source": [
    "for cob in bdplobs.obsname:\n",
    "    riv,wel,_ = cob.split(':')\n",
    "    print(cob)\n",
    "    bdplobs.loc[cob, 'obs_values'] = base_data.loc[wel][riv]"
   ]
  },
  {
   "cell_type": "code",
   "execution_count": null,
   "id": "25f619fb",
   "metadata": {},
   "outputs": [],
   "source": [
    "bdplobs"
   ]
  },
  {
   "cell_type": "code",
   "execution_count": null,
   "id": "d8aa1146",
   "metadata": {},
   "outputs": [],
   "source": [
    "ts_data = pd.read_csv(odir/f'{input_yml.replace(\".yml\",\"\")}.table_report.all_ts.csv', index_col=0) "
   ]
  },
  {
   "cell_type": "code",
   "execution_count": null,
   "id": "d42a5224",
   "metadata": {},
   "outputs": [],
   "source": [
    "ts_data.columns = ts_data.columns.str.split('__').str[-1]\n",
    "#ts_data.columns.str.split('__').str[-1]\n",
    "ts_data"
   ]
  },
  {
   "cell_type": "code",
   "execution_count": null,
   "id": "ce3ec9e1",
   "metadata": {},
   "outputs": [],
   "source": [
    "ts_path = template_dir / 'ts_obs.dat'\n",
    "output_ts = [i.strip() for i in open(ts_path, 'r').readlines()]\n"
   ]
  },
  {
   "cell_type": "code",
   "execution_count": null,
   "id": "e1f06dbc",
   "metadata": {},
   "outputs": [],
   "source": [
    "ts_df = pd.DataFrame(index = ts_obs, data = {'obsname':ts_obs,'obs_values':np.nan})"
   ]
  },
  {
   "cell_type": "code",
   "execution_count": null,
   "id": "a460847e",
   "metadata": {},
   "outputs": [],
   "source": [
    "for cob in ts_df.index:\n",
    "    criv,ctime = cob.split('__')\n",
    "    ts_df.loc[cob,'obs_values'] = ts_data.loc[int(ctime)][criv]"
   ]
  },
  {
   "cell_type": "code",
   "execution_count": null,
   "id": "02a14dc1",
   "metadata": {},
   "outputs": [],
   "source": [
    "ts_df"
   ]
  },
  {
   "cell_type": "code",
   "execution_count": null,
   "id": "20318483",
   "metadata": {},
   "outputs": [],
   "source": [
    "allout = pd.concat([bdplobs,ts_df])"
   ]
  },
  {
   "cell_type": "code",
   "execution_count": null,
   "id": "7e57bd87",
   "metadata": {},
   "outputs": [],
   "source": [
    "allout['obs_values'].to_csv(template_dir / 'allobs.out', sep = ' ', header=None)"
   ]
  },
  {
   "cell_type": "code",
   "execution_count": null,
   "id": "7a247b23",
   "metadata": {},
   "outputs": [],
   "source": [
    "with open(template_dir / 'allobs.out.ins', 'w') as ofp:\n",
    "    ofp.write('pif ~\\n')\n",
    "    [ofp.write(f'l1 w !{i}!\\n') for i in allout.index]"
   ]
  },
  {
   "cell_type": "markdown",
   "id": "b5743cca",
   "metadata": {},
   "source": [
    "# Make PST file"
   ]
  },
  {
   "cell_type": "code",
   "execution_count": null,
   "id": "8a287597",
   "metadata": {},
   "outputs": [],
   "source": [
    "cwd = os.getcwd()"
   ]
  },
  {
   "cell_type": "code",
   "execution_count": null,
   "id": "65bcc8f8",
   "metadata": {},
   "outputs": [],
   "source": [
    "os.chdir(template_dir)\n",
    "pst = pyemu.Pst.from_io_files(*pyemu.utils.parse_dir_for_io_files('.'))\n",
    "os.chdir(cwd)"
   ]
  },
  {
   "cell_type": "code",
   "execution_count": null,
   "id": "ff5729d6",
   "metadata": {},
   "outputs": [],
   "source": [
    "pars = pst.parameter_data"
   ]
  },
  {
   "cell_type": "code",
   "execution_count": null,
   "id": "71907a04",
   "metadata": {},
   "outputs": [],
   "source": [
    "pars.loc[pars_df.index,'parval1'] = pars_df.parval1"
   ]
  },
  {
   "cell_type": "code",
   "execution_count": null,
   "id": "fa1d3da7-89d8-4488-ab7a-bccc8c3e52f6",
   "metadata": {},
   "outputs": [],
   "source": [
    "pars"
   ]
  },
  {
   "cell_type": "code",
   "execution_count": null,
   "id": "dfebb9f3",
   "metadata": {},
   "outputs": [],
   "source": [
    "pars.loc[pars.index.str.startswith('well_'),'parlbnd'] = \\\n",
    "        pars.loc[pars.index.str.startswith('well_'),'parval1']-.1\n",
    "pars.loc[pars.index.str.startswith('well_'),'parubnd'] = \\\n",
    "        pars.loc[pars.index.str.startswith('well_'),'parval1']+.1\n",
    "pars.loc[pars.index.str.startswith('well_'),'pargp'] = 'existing_depletion'\n",
    "pars.loc['global_t', 'pargp'] = 'global_t'\n",
    "pars.loc['global_s', 'pargp'] = 'global_s'\n"
   ]
  },
  {
   "cell_type": "code",
   "execution_count": null,
   "id": "4acc80bb",
   "metadata": {},
   "outputs": [],
   "source": [
    "pars.loc[pars.parlbnd <=0, 'parlbnd'] = 0.01\n",
    "pars.loc[pars.parubnd >=1, 'parubnd'] = 1\n",
    "pars.partrans = 'none'"
   ]
  },
  {
   "cell_type": "code",
   "execution_count": null,
   "id": "bd9be1d2",
   "metadata": {},
   "outputs": [],
   "source": [
    "pars.loc['global_s', 'parlbnd'] = 0.05\n",
    "pars.loc['global_s', 'parubnd'] = 0.2 # can make these a function of starting values later\n",
    "\n",
    "# pars.loc['global_t', 'parlbnd'] = 0.025 * pars.loc['global_t', 'parval1']\n",
    "# pars.loc['global_t', 'parubnd'] = 12 * pars.loc['global_t', 'parval1']\n",
    "pars.loc['global_t', 'parlbnd'] = 0.1 * pars.loc['global_t', 'parval1']\n",
    "pars.loc['global_t', 'parubnd'] = 10 * pars.loc['global_t', 'parval1']\n",
    "\n",
    "pars.loc['global_t', 'partrans'] = 'log' \n",
    "pars"
   ]
  },
  {
   "cell_type": "code",
   "execution_count": null,
   "id": "d97a4637",
   "metadata": {},
   "outputs": [],
   "source": [
    "pst.control_data.noptmax = -1\n",
    "pst.model_command = [f'python run_pycap.py {input_yml} ts_obs.dat']\n",
    "pst.pestpp_options['par_sigma_range'] = 6\n",
    "pst.pestpp_options['ies_num_reals'] = 500\n"
   ]
  },
  {
   "cell_type": "code",
   "execution_count": null,
   "id": "b5f9d57b",
   "metadata": {},
   "outputs": [],
   "source": [
    "pst.write(str(template_dir / 'prior_mc.pst'), version=2)"
   ]
  },
  {
   "cell_type": "code",
   "execution_count": null,
   "id": "8b322a27",
   "metadata": {},
   "outputs": [],
   "source": [
    "shutil.copy2('run_pycap.py', template_dir / 'run_pycap.py')\n",
    "# shutil.copy2('../dependencies/bin/pestpp-ies', template_dir / 'pestpp-ies')\n",
    "shutil.copytree('../hicap_analysis/', template_dir / 'hicap_analysis')\n",
    "shutil.rmtree(template_dir / 'hicap_analysis' / 'tests')"
   ]
  },
  {
   "cell_type": "markdown",
   "id": "1be9b0fc-f26e-4f20-b648-9f00cef2e716",
   "metadata": {},
   "source": [
    "### now make the sensitivity directory"
   ]
  },
  {
   "cell_type": "code",
   "execution_count": null,
   "id": "8e9b0702-def4-401b-bed4-24f7d4dca231",
   "metadata": {},
   "outputs": [],
   "source": [
    "shutil.copytree(template_dir, sen_template_dir)"
   ]
  },
  {
   "cell_type": "markdown",
   "id": "ff4c56de-3537-4971-9ded-fe256ffb9e92",
   "metadata": {},
   "source": [
    "## And update the PST file for global sensitivity"
   ]
  },
  {
   "cell_type": "code",
   "execution_count": null,
   "id": "2a01ed25-35d4-4ad7-93cb-b93678018a46",
   "metadata": {},
   "outputs": [],
   "source": [
    "pst_sen = pyemu.Pst(str(sen_template_dir / 'prior_mc.pst'))\n",
    "pst_sen.pestpp_options['tie_by_group'] = True\n",
    "pst_sen.pestpp_options['gsa_morris_r'] = 12\n",
    "\n",
    "\n"
   ]
  },
  {
   "cell_type": "code",
   "execution_count": null,
   "id": "a23f2d4b-695b-4ef4-a26e-b9861aa55299",
   "metadata": {},
   "outputs": [],
   "source": [
    "pst_sen.write(str(sen_template_dir / 'global_sens_morris.pst'), version=2)\n",
    "pst_sen.pestpp_options['gsa_method'] = 'sobol'\n",
    "pst_sen.pestpp_options['gsa_sobol_samples'] = 400\n",
    "\n",
    "pst_sen.write(str(sen_template_dir / 'global_sens_sobol.pst'), version=2)\n"
   ]
  },
  {
   "cell_type": "code",
   "execution_count": null,
   "id": "f9b683fe-5394-49b3-8a7e-f6e6dee5c7c4",
   "metadata": {},
   "outputs": [],
   "source": [
    "if run_global_sen:\n",
    "    if 'window' in platform.platform().lower():\n",
    "        pestpp_ex = '../../dependencies/win_bin/pestpp-sen'\n",
    "    else:\n",
    "        pestpp_ex = '../../dependencies/mac_bin/pestpp-sen'\n",
    "    pyemu.os_utils.start_workers(\n",
    "            worker_dir=str(sen_template_dir), exe_rel_path=pestpp_ex,\n",
    "            pst_rel_path='global_sens_morris.pst', num_workers=20,\n",
    "            worker_root='./', master_dir='MASTER_SEN')"
   ]
  },
  {
   "cell_type": "code",
   "execution_count": null,
   "id": "9def6e8e",
   "metadata": {},
   "outputs": [],
   "source": [
    "[shutil.copy2(f, pl.Path(\"./tmpdir_sen\") / f.name) for f in pl.Path(\"MASTER_SEN\").glob(\"*morris*\")]"
   ]
  },
  {
   "cell_type": "code",
   "execution_count": null,
   "id": "ec15d860",
   "metadata": {},
   "outputs": [],
   "source": [
    "if run_global_sen:\n",
    "    if 'window' in platform.platform().lower():\n",
    "        pestpp_ex = '../../dependencies/win_bin/pestpp-sen'\n",
    "    else:\n",
    "        pestpp_ex = '../../dependencies/mac_bin/pestpp-sen'\n",
    "    pyemu.os_utils.start_workers(\n",
    "            worker_dir=str(sen_template_dir), exe_rel_path=pestpp_ex,\n",
    "            pst_rel_path='global_sens_sobol.pst', num_workers=20,\n",
    "            worker_root='./', master_dir='MASTER_SEN')"
   ]
  },
  {
   "cell_type": "code",
   "execution_count": null,
   "id": "3223ae11",
   "metadata": {},
   "outputs": [],
   "source": [
    "if run_ies:\n",
    "    if 'window' in platform.platform().lower():\n",
    "        pestpp_ex = '../../dependencies/win_bin/pestpp-ies'\n",
    "    else:\n",
    "        pestpp_ex = '../../dependencies/mac_bin/pestpp-ies'\n",
    "    pyemu.os_utils.start_workers(\n",
    "            worker_dir=str(template_dir), exe_rel_path=pestpp_ex,\n",
    "            pst_rel_path='prior_mc.pst', num_workers=20,\n",
    "            worker_root='./', master_dir='MASTER')"
   ]
  }
 ],
 "metadata": {
  "kernelspec": {
   "display_name": "hca",
   "language": "python",
   "name": "python3"
  }
 },
 "nbformat": 4,
 "nbformat_minor": 5
}
