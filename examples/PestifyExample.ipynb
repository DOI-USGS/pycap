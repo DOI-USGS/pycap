{
 "cells": [
  {
   "cell_type": "code",
   "execution_count": null,
   "id": "d03d94d0",
   "metadata": {
    "execution": {
     "iopub.execute_input": "2024-10-31T22:01:17.335229Z",
     "iopub.status.busy": "2024-10-31T22:01:17.334507Z",
     "iopub.status.idle": "2024-10-31T22:01:18.390249Z",
     "shell.execute_reply": "2024-10-31T22:01:18.389760Z",
     "shell.execute_reply.started": "2024-10-31T22:01:17.335192Z"
    }
   },
   "outputs": [],
   "source": [
    "import sys\n",
    "import shutil\n",
    "sys.path.append('../dependencies/')\n",
    "import pyemu\n",
    "import numpy as np\n",
    "import pandas as pd\n",
    "import matplotlib.pyplot as plt\n",
    "import yaml\n",
    "import pathlib as pl\n",
    "import os, platform"
   ]
  },
  {
   "cell_type": "markdown",
   "id": "84087e8e",
   "metadata": {},
   "source": [
    "## set some global vars we need"
   ]
  },
  {
   "cell_type": "code",
   "execution_count": null,
   "id": "0c883c93",
   "metadata": {
    "execution": {
     "iopub.execute_input": "2024-10-31T22:01:18.391880Z",
     "iopub.status.busy": "2024-10-31T22:01:18.391309Z",
     "iopub.status.idle": "2024-10-31T22:01:18.552758Z",
     "shell.execute_reply": "2024-10-31T22:01:18.552460Z",
     "shell.execute_reply.started": "2024-10-31T22:01:18.391866Z"
    }
   },
   "outputs": [],
   "source": [
    "wkdir = pl.Path('.')\n",
    "template_dir = pl.Path('./tmpdir')\n",
    "sen_template_dir = pl.Path('./tmpdir_sen')\n",
    "if template_dir.exists():\n",
    "    shutil.rmtree(template_dir)\n",
    "template_dir.mkdir()\n",
    "if sen_template_dir.exists():\n",
    "    shutil.rmtree(sen_template_dir)\n",
    "\n",
    "    \n",
    "input_yml = 'TestExample.yml'\n",
    "with open(wkdir / input_yml, 'r') as ifp:\n",
    "    indat = yaml.safe_load(ifp)\n",
    "run_global_sen = True\n",
    "run_ies = False"
   ]
  },
  {
   "cell_type": "markdown",
   "id": "e884745e",
   "metadata": {},
   "source": [
    "# Set up `tpl` file for parameterization\n",
    "### parameterize T and S globally"
   ]
  },
  {
   "cell_type": "code",
   "execution_count": null,
   "id": "0cca4008",
   "metadata": {
    "execution": {
     "iopub.execute_input": "2024-10-31T22:01:18.553359Z",
     "iopub.status.busy": "2024-10-31T22:01:18.553255Z",
     "iopub.status.idle": "2024-10-31T22:01:18.555719Z",
     "shell.execute_reply": "2024-10-31T22:01:18.555279Z",
     "shell.execute_reply.started": "2024-10-31T22:01:18.553349Z"
    }
   },
   "outputs": [],
   "source": [
    "T_init = indat['project_properties']['T']\n",
    "S_init = indat['project_properties']['S']\n",
    "\n",
    "indat['project_properties']['T'] = f'~{\"global_T\":^16s}~'\n",
    "indat['project_properties']['S'] = f'~{\"global_S\":^16s}~'\n"
   ]
  },
  {
   "cell_type": "markdown",
   "id": "4cda6802",
   "metadata": {},
   "source": [
    "### get the starting apportionment values and parameterize them as well"
   ]
  },
  {
   "cell_type": "code",
   "execution_count": null,
   "id": "4712d1ad",
   "metadata": {
    "execution": {
     "iopub.execute_input": "2024-10-31T22:01:18.557068Z",
     "iopub.status.busy": "2024-10-31T22:01:18.556977Z",
     "iopub.status.idle": "2024-10-31T22:01:18.563489Z",
     "shell.execute_reply": "2024-10-31T22:01:18.563241Z",
     "shell.execute_reply.started": "2024-10-31T22:01:18.557058Z"
    }
   },
   "outputs": [],
   "source": [
    "well_keys = [i for i in indat.keys() if i.startswith('well_')]\n",
    "app_keys = [[j for j in indat[i].keys() if j.startswith('stream_apportionment')]\n",
    "                     for i in well_keys]\n",
    "pending_wells = [i for i in well_keys if 'pending' in indat[i]['status']]\n",
    "allkeys = dict(zip(well_keys, app_keys))\n",
    "allkeys"
   ]
  },
  {
   "cell_type": "code",
   "execution_count": null,
   "id": "35d04602",
   "metadata": {
    "execution": {
     "iopub.execute_input": "2024-10-31T22:01:18.563965Z",
     "iopub.status.busy": "2024-10-31T22:01:18.563879Z",
     "iopub.status.idle": "2024-10-31T22:01:18.566066Z",
     "shell.execute_reply": "2024-10-31T22:01:18.565769Z",
     "shell.execute_reply.started": "2024-10-31T22:01:18.563955Z"
    }
   },
   "outputs": [],
   "source": [
    "pending_wells"
   ]
  },
  {
   "cell_type": "code",
   "execution_count": null,
   "id": "ddeeabe2",
   "metadata": {
    "execution": {
     "iopub.execute_input": "2024-10-31T22:01:18.566593Z",
     "iopub.status.busy": "2024-10-31T22:01:18.566489Z",
     "iopub.status.idle": "2024-10-31T22:01:18.568822Z",
     "shell.execute_reply": "2024-10-31T22:01:18.568446Z",
     "shell.execute_reply.started": "2024-10-31T22:01:18.566583Z"
    }
   },
   "outputs": [],
   "source": [
    "pars = list()\n",
    "parvals = list()\n",
    "for k,v in allkeys.items():\n",
    "    for cv in v:\n",
    "        cpar = f'{k}__{cv}'\n",
    "        pars.append(cpar)\n",
    "        parvals.append(indat[k][cv]['apportionment'])\n",
    "        indat[k][cv]['apportionment'] = f'~{cpar:^45}~'"
   ]
  },
  {
   "cell_type": "code",
   "execution_count": null,
   "id": "922f269f-4a37-41d4-af46-84e2c4405052",
   "metadata": {
    "execution": {
     "iopub.execute_input": "2024-10-31T22:01:18.569325Z",
     "iopub.status.busy": "2024-10-31T22:01:18.569229Z",
     "iopub.status.idle": "2024-10-31T22:01:18.573014Z",
     "shell.execute_reply": "2024-10-31T22:01:18.572685Z",
     "shell.execute_reply.started": "2024-10-31T22:01:18.569316Z"
    }
   },
   "outputs": [],
   "source": [
    "pars"
   ]
  },
  {
   "cell_type": "code",
   "execution_count": null,
   "id": "ac45395e",
   "metadata": {
    "execution": {
     "iopub.execute_input": "2024-10-31T22:01:18.707600Z",
     "iopub.status.busy": "2024-10-31T22:01:18.707344Z",
     "iopub.status.idle": "2024-10-31T22:01:18.711026Z",
     "shell.execute_reply": "2024-10-31T22:01:18.710464Z",
     "shell.execute_reply.started": "2024-10-31T22:01:18.707579Z"
    }
   },
   "outputs": [],
   "source": [
    "pars_df = pd.DataFrame(index = pars, data = {'parval1':parvals})"
   ]
  },
  {
   "cell_type": "code",
   "execution_count": null,
   "id": "b2788b48-a221-4bb9-8c32-755366e10e76",
   "metadata": {
    "execution": {
     "iopub.execute_input": "2024-10-31T22:01:18.847151Z",
     "iopub.status.busy": "2024-10-31T22:01:18.846309Z",
     "iopub.status.idle": "2024-10-31T22:01:18.881816Z",
     "shell.execute_reply": "2024-10-31T22:01:18.881016Z",
     "shell.execute_reply.started": "2024-10-31T22:01:18.847100Z"
    }
   },
   "outputs": [],
   "source": [
    "pars_df"
   ]
  },
  {
   "cell_type": "code",
   "execution_count": null,
   "id": "9a388f05-aae7-455a-b00f-f1115fdf5ad8",
   "metadata": {
    "execution": {
     "iopub.execute_input": "2024-10-31T22:01:19.002653Z",
     "iopub.status.busy": "2024-10-31T22:01:19.001818Z",
     "iopub.status.idle": "2024-10-31T22:01:19.016283Z",
     "shell.execute_reply": "2024-10-31T22:01:19.015624Z",
     "shell.execute_reply.started": "2024-10-31T22:01:19.002614Z"
    }
   },
   "outputs": [],
   "source": [
    "pd.DataFrame(index = ['global_s','global_t'], data = {'parval1':[S_init,T_init]})"
   ]
  },
  {
   "cell_type": "code",
   "execution_count": null,
   "id": "d11e5c19-1a0e-49aa-bd4f-6a354755e52c",
   "metadata": {
    "execution": {
     "iopub.execute_input": "2024-10-31T22:01:19.159922Z",
     "iopub.status.busy": "2024-10-31T22:01:19.159343Z",
     "iopub.status.idle": "2024-10-31T22:01:19.169581Z",
     "shell.execute_reply": "2024-10-31T22:01:19.167205Z",
     "shell.execute_reply.started": "2024-10-31T22:01:19.159879Z"
    }
   },
   "outputs": [],
   "source": [
    "pars_df = pd.concat([pars_df, pd.DataFrame(index = ['global_s','global_t'], data = {'parval1':[S_init,T_init]})])"
   ]
  },
  {
   "cell_type": "code",
   "execution_count": null,
   "id": "aec582a2",
   "metadata": {
    "execution": {
     "iopub.execute_input": "2024-10-31T22:01:19.319817Z",
     "iopub.status.busy": "2024-10-31T22:01:19.319484Z",
     "iopub.status.idle": "2024-10-31T22:01:19.329062Z",
     "shell.execute_reply": "2024-10-31T22:01:19.327834Z",
     "shell.execute_reply.started": "2024-10-31T22:01:19.319793Z"
    }
   },
   "outputs": [],
   "source": [
    "pars_df"
   ]
  },
  {
   "cell_type": "code",
   "execution_count": null,
   "id": "cd7b906c",
   "metadata": {
    "execution": {
     "iopub.execute_input": "2024-10-31T22:01:19.498770Z",
     "iopub.status.busy": "2024-10-31T22:01:19.498314Z",
     "iopub.status.idle": "2024-10-31T22:01:19.645703Z",
     "shell.execute_reply": "2024-10-31T22:01:19.645343Z",
     "shell.execute_reply.started": "2024-10-31T22:01:19.498745Z"
    }
   },
   "outputs": [],
   "source": [
    "with open(template_dir / f\"{input_yml}.tpl\",'w') as ofp:\n",
    "    ofp.write('ptf ~\\n')\n",
    "    documents = yaml.dump(indat, ofp, default_flow_style = False, sort_keys= False)"
   ]
  },
  {
   "cell_type": "markdown",
   "id": "af6fab49",
   "metadata": {},
   "source": [
    "# make `ins` file and external forward run file"
   ]
  },
  {
   "cell_type": "code",
   "execution_count": null,
   "id": "ac810af7",
   "metadata": {
    "execution": {
     "iopub.execute_input": "2024-10-31T22:01:20.106560Z",
     "iopub.status.busy": "2024-10-31T22:01:20.106074Z",
     "iopub.status.idle": "2024-10-31T22:01:20.112576Z",
     "shell.execute_reply": "2024-10-31T22:01:20.110125Z",
     "shell.execute_reply.started": "2024-10-31T22:01:20.106536Z"
    }
   },
   "outputs": [],
   "source": [
    "basedeplobs = [f\"{indat[k]['name']}:bdpl\" for k in indat.keys() if 'stream' in k]"
   ]
  },
  {
   "cell_type": "code",
   "execution_count": null,
   "id": "a70bee82",
   "metadata": {
    "execution": {
     "iopub.execute_input": "2024-10-31T22:01:20.264049Z",
     "iopub.status.busy": "2024-10-31T22:01:20.263710Z",
     "iopub.status.idle": "2024-10-31T22:01:20.269610Z",
     "shell.execute_reply": "2024-10-31T22:01:20.268286Z",
     "shell.execute_reply.started": "2024-10-31T22:01:20.264025Z"
    }
   },
   "outputs": [],
   "source": [
    "[i for i in basedeplobs if '93832' in i]"
   ]
  },
  {
   "cell_type": "code",
   "execution_count": null,
   "id": "ddf28afc",
   "metadata": {
    "execution": {
     "iopub.execute_input": "2024-10-31T22:01:20.446595Z",
     "iopub.status.busy": "2024-10-31T22:01:20.446234Z",
     "iopub.status.idle": "2024-10-31T22:01:20.451118Z",
     "shell.execute_reply": "2024-10-31T22:01:20.449997Z",
     "shell.execute_reply.started": "2024-10-31T22:01:20.446570Z"
    }
   },
   "outputs": [],
   "source": [
    "unique_rivers = list(set([i.split(':')[0] for i in basedeplobs]))"
   ]
  },
  {
   "cell_type": "code",
   "execution_count": null,
   "id": "d4b4026f",
   "metadata": {
    "execution": {
     "iopub.execute_input": "2024-10-31T22:01:20.599584Z",
     "iopub.status.busy": "2024-10-31T22:01:20.599254Z",
     "iopub.status.idle": "2024-10-31T22:01:20.604880Z",
     "shell.execute_reply": "2024-10-31T22:01:20.603872Z",
     "shell.execute_reply.started": "2024-10-31T22:01:20.599561Z"
    }
   },
   "outputs": [],
   "source": [
    "unique_rivers"
   ]
  },
  {
   "cell_type": "code",
   "execution_count": null,
   "id": "2a3d2d70",
   "metadata": {
    "execution": {
     "iopub.execute_input": "2024-10-31T22:01:20.758177Z",
     "iopub.status.busy": "2024-10-31T22:01:20.756899Z",
     "iopub.status.idle": "2024-10-31T22:01:20.764400Z",
     "shell.execute_reply": "2024-10-31T22:01:20.763058Z",
     "shell.execute_reply.started": "2024-10-31T22:01:20.758132Z"
    }
   },
   "outputs": [],
   "source": [
    "# pending well already included\n",
    "# basedeplobs.extend([f\"{i}:{j.replace('well_','')}:bdpl\" for i in unique_rivers for j in pending_wells])"
   ]
  },
  {
   "cell_type": "code",
   "execution_count": null,
   "id": "90d7a383",
   "metadata": {
    "execution": {
     "iopub.execute_input": "2024-10-31T22:01:20.917466Z",
     "iopub.status.busy": "2024-10-31T22:01:20.916808Z",
     "iopub.status.idle": "2024-10-31T22:01:20.921796Z",
     "shell.execute_reply": "2024-10-31T22:01:20.920587Z",
     "shell.execute_reply.started": "2024-10-31T22:01:20.917442Z"
    }
   },
   "outputs": [],
   "source": [
    "basedeplobs.extend([f'{i}:{j}:bdpl' for i in unique_rivers for j in ['total_proposed','total_existing','total_combined']])"
   ]
  },
  {
   "cell_type": "code",
   "execution_count": null,
   "id": "ebc41a4c",
   "metadata": {
    "execution": {
     "iopub.execute_input": "2024-10-31T22:01:21.094843Z",
     "iopub.status.busy": "2024-10-31T22:01:21.094469Z",
     "iopub.status.idle": "2024-10-31T22:01:21.101493Z",
     "shell.execute_reply": "2024-10-31T22:01:21.099939Z",
     "shell.execute_reply.started": "2024-10-31T22:01:21.094819Z"
    }
   },
   "outputs": [],
   "source": [
    "with open(template_dir / 'basedeplobs.dat', 'w') as ofp:\n",
    "    [ofp.write(i + '\\n') for i in basedeplobs]"
   ]
  },
  {
   "cell_type": "markdown",
   "id": "57ca725a",
   "metadata": {},
   "source": [
    "# make forward run script external file"
   ]
  },
  {
   "cell_type": "code",
   "execution_count": null,
   "id": "3a5ece4c",
   "metadata": {
    "execution": {
     "iopub.execute_input": "2024-10-31T22:01:21.437937Z",
     "iopub.status.busy": "2024-10-31T22:01:21.437340Z",
     "iopub.status.idle": "2024-10-31T22:01:21.445290Z",
     "shell.execute_reply": "2024-10-31T22:01:21.443597Z",
     "shell.execute_reply.started": "2024-10-31T22:01:21.437905Z"
    }
   },
   "outputs": [],
   "source": [
    "output_ts = ['TomorrowRiver:92696','TomorrowRiver:70974']\n",
    "times = range(365*4,365*5+1)"
   ]
  },
  {
   "cell_type": "code",
   "execution_count": null,
   "id": "bf6508c2",
   "metadata": {
    "execution": {
     "iopub.execute_input": "2024-10-31T22:01:21.622881Z",
     "iopub.status.busy": "2024-10-31T22:01:21.622305Z",
     "iopub.status.idle": "2024-10-31T22:01:21.629702Z",
     "shell.execute_reply": "2024-10-31T22:01:21.628406Z",
     "shell.execute_reply.started": "2024-10-31T22:01:21.622838Z"
    }
   },
   "outputs": [],
   "source": [
    "ts_obs = []\n",
    "for c_ts in output_ts:\n",
    "    ts_obs.extend([f'{c_ts}__{i}' for i in times])"
   ]
  },
  {
   "cell_type": "code",
   "execution_count": null,
   "id": "bb096ba1",
   "metadata": {
    "execution": {
     "iopub.execute_input": "2024-10-31T22:01:21.773596Z",
     "iopub.status.busy": "2024-10-31T22:01:21.772682Z",
     "iopub.status.idle": "2024-10-31T22:01:21.794808Z",
     "shell.execute_reply": "2024-10-31T22:01:21.794235Z",
     "shell.execute_reply.started": "2024-10-31T22:01:21.773544Z"
    },
    "scrolled": true
   },
   "outputs": [],
   "source": [
    "ts_obs"
   ]
  },
  {
   "cell_type": "code",
   "execution_count": null,
   "id": "bc032e26",
   "metadata": {
    "execution": {
     "iopub.execute_input": "2024-10-31T22:01:21.950152Z",
     "iopub.status.busy": "2024-10-31T22:01:21.949225Z",
     "iopub.status.idle": "2024-10-31T22:01:21.958884Z",
     "shell.execute_reply": "2024-10-31T22:01:21.955227Z",
     "shell.execute_reply.started": "2024-10-31T22:01:21.950054Z"
    }
   },
   "outputs": [],
   "source": [
    "allobs = basedeplobs + ts_obs"
   ]
  },
  {
   "cell_type": "code",
   "execution_count": null,
   "id": "5a3eed3a",
   "metadata": {
    "execution": {
     "iopub.execute_input": "2024-10-31T22:01:22.147599Z",
     "iopub.status.busy": "2024-10-31T22:01:22.146599Z",
     "iopub.status.idle": "2024-10-31T22:01:22.168983Z",
     "shell.execute_reply": "2024-10-31T22:01:22.168438Z",
     "shell.execute_reply.started": "2024-10-31T22:01:22.147540Z"
    },
    "scrolled": true
   },
   "outputs": [],
   "source": [
    "allobs"
   ]
  },
  {
   "cell_type": "code",
   "execution_count": null,
   "id": "debca7be",
   "metadata": {
    "execution": {
     "iopub.execute_input": "2024-10-31T22:01:22.309767Z",
     "iopub.status.busy": "2024-10-31T22:01:22.309047Z",
     "iopub.status.idle": "2024-10-31T22:01:22.325803Z",
     "shell.execute_reply": "2024-10-31T22:01:22.324673Z",
     "shell.execute_reply.started": "2024-10-31T22:01:22.309598Z"
    }
   },
   "outputs": [],
   "source": [
    "with open(template_dir / 'ts_obs.dat' , 'w') as ofp:\n",
    "    [ofp.write(c_ts + '\\n') for c_ts in output_ts]"
   ]
  },
  {
   "cell_type": "code",
   "execution_count": null,
   "id": "20f5b5b9",
   "metadata": {
    "execution": {
     "iopub.execute_input": "2024-10-31T22:01:22.493278Z",
     "iopub.status.busy": "2024-10-31T22:01:22.492439Z",
     "iopub.status.idle": "2024-10-31T22:01:22.505769Z",
     "shell.execute_reply": "2024-10-31T22:01:22.505001Z",
     "shell.execute_reply.started": "2024-10-31T22:01:22.493234Z"
    }
   },
   "outputs": [],
   "source": [
    "times"
   ]
  },
  {
   "cell_type": "code",
   "execution_count": null,
   "id": "abc3e063",
   "metadata": {
    "execution": {
     "iopub.execute_input": "2024-10-31T22:01:22.878164Z",
     "iopub.status.busy": "2024-10-31T22:01:22.877605Z",
     "iopub.status.idle": "2024-10-31T22:01:22.938147Z",
     "shell.execute_reply": "2024-10-31T22:01:22.937675Z",
     "shell.execute_reply.started": "2024-10-31T22:01:22.878134Z"
    },
    "scrolled": true
   },
   "outputs": [],
   "source": [
    "indat"
   ]
  },
  {
   "cell_type": "code",
   "execution_count": null,
   "id": "623cf56f",
   "metadata": {
    "execution": {
     "iopub.execute_input": "2024-10-31T22:01:23.052889Z",
     "iopub.status.busy": "2024-10-31T22:01:23.052318Z",
     "iopub.status.idle": "2024-10-31T22:01:23.058377Z",
     "shell.execute_reply": "2024-10-31T22:01:23.057320Z",
     "shell.execute_reply.started": "2024-10-31T22:01:23.052846Z"
    }
   },
   "outputs": [],
   "source": [
    "odir = pl.Path('output')"
   ]
  },
  {
   "cell_type": "code",
   "execution_count": null,
   "id": "4ced6124",
   "metadata": {
    "execution": {
     "iopub.execute_input": "2024-10-31T22:01:23.227168Z",
     "iopub.status.busy": "2024-10-31T22:01:23.225573Z",
     "iopub.status.idle": "2024-10-31T22:01:23.254365Z",
     "shell.execute_reply": "2024-10-31T22:01:23.253180Z",
     "shell.execute_reply.started": "2024-10-31T22:01:23.227108Z"
    }
   },
   "outputs": [],
   "source": [
    "base_data = pd.read_csv(odir/f'{input_yml.replace(\".yml\",\"\")}.table_report.base_stream_depletion.csv', index_col=0)"
   ]
  },
  {
   "cell_type": "code",
   "execution_count": null,
   "id": "333bb120",
   "metadata": {
    "execution": {
     "iopub.execute_input": "2024-10-31T22:01:23.396007Z",
     "iopub.status.busy": "2024-10-31T22:01:23.395141Z",
     "iopub.status.idle": "2024-10-31T22:01:23.414558Z",
     "shell.execute_reply": "2024-10-31T22:01:23.412627Z",
     "shell.execute_reply.started": "2024-10-31T22:01:23.395955Z"
    }
   },
   "outputs": [],
   "source": [
    "base_data"
   ]
  },
  {
   "cell_type": "code",
   "execution_count": null,
   "id": "2d83833c",
   "metadata": {
    "execution": {
     "iopub.execute_input": "2024-10-31T22:01:23.570604Z",
     "iopub.status.busy": "2024-10-31T22:01:23.569831Z",
     "iopub.status.idle": "2024-10-31T22:01:23.589818Z",
     "shell.execute_reply": "2024-10-31T22:01:23.588331Z",
     "shell.execute_reply.started": "2024-10-31T22:01:23.570558Z"
    }
   },
   "outputs": [],
   "source": [
    "bdplobs = pd.read_csv(template_dir/'basedeplobs.dat', header=None)\n",
    "bdplobs.columns = ['obsname']\n",
    "bdplobs.index = bdplobs.obsname"
   ]
  },
  {
   "cell_type": "code",
   "execution_count": null,
   "id": "07955221",
   "metadata": {
    "execution": {
     "iopub.execute_input": "2024-10-31T22:01:23.766298Z",
     "iopub.status.busy": "2024-10-31T22:01:23.764738Z",
     "iopub.status.idle": "2024-10-31T22:01:23.783957Z",
     "shell.execute_reply": "2024-10-31T22:01:23.782831Z",
     "shell.execute_reply.started": "2024-10-31T22:01:23.766240Z"
    }
   },
   "outputs": [],
   "source": [
    "bdplobs['obs_values'] = np.nan\n",
    "bdplobs"
   ]
  },
  {
   "cell_type": "code",
   "execution_count": null,
   "id": "908fde8b",
   "metadata": {
    "execution": {
     "iopub.execute_input": "2024-10-31T22:01:23.964471Z",
     "iopub.status.busy": "2024-10-31T22:01:23.964132Z",
     "iopub.status.idle": "2024-10-31T22:01:23.999275Z",
     "shell.execute_reply": "2024-10-31T22:01:23.998839Z",
     "shell.execute_reply.started": "2024-10-31T22:01:23.964447Z"
    },
    "scrolled": true
   },
   "outputs": [],
   "source": [
    "for cob in bdplobs.obsname:\n",
    "    riv,wel,_ = cob.split(':')\n",
    "    print(cob)\n",
    "    bdplobs.loc[cob, 'obs_values'] = base_data.loc[wel][riv]"
   ]
  },
  {
   "cell_type": "code",
   "execution_count": null,
   "id": "25f619fb",
   "metadata": {
    "execution": {
     "iopub.execute_input": "2024-10-31T22:01:24.145477Z",
     "iopub.status.busy": "2024-10-31T22:01:24.144338Z",
     "iopub.status.idle": "2024-10-31T22:01:24.160151Z",
     "shell.execute_reply": "2024-10-31T22:01:24.159288Z",
     "shell.execute_reply.started": "2024-10-31T22:01:24.145427Z"
    }
   },
   "outputs": [],
   "source": [
    "bdplobs"
   ]
  },
  {
   "cell_type": "code",
   "execution_count": null,
   "id": "d8aa1146",
   "metadata": {
    "execution": {
     "iopub.execute_input": "2024-10-31T22:01:24.746188Z",
     "iopub.status.busy": "2024-10-31T22:01:24.745518Z",
     "iopub.status.idle": "2024-10-31T22:01:24.816157Z",
     "shell.execute_reply": "2024-10-31T22:01:24.815635Z",
     "shell.execute_reply.started": "2024-10-31T22:01:24.746152Z"
    }
   },
   "outputs": [],
   "source": [
    "ts_data = pd.read_csv(odir/f'{input_yml.replace(\".yml\",\"\")}.table_report.all_ts.csv', index_col=0) "
   ]
  },
  {
   "cell_type": "code",
   "execution_count": null,
   "id": "d42a5224",
   "metadata": {
    "execution": {
     "iopub.execute_input": "2024-10-31T22:01:24.945882Z",
     "iopub.status.busy": "2024-10-31T22:01:24.945096Z",
     "iopub.status.idle": "2024-10-31T22:01:24.974116Z",
     "shell.execute_reply": "2024-10-31T22:01:24.973727Z",
     "shell.execute_reply.started": "2024-10-31T22:01:24.945830Z"
    }
   },
   "outputs": [],
   "source": [
    "ts_data.columns = ts_data.columns.str.split('__').str[-1]\n",
    "#ts_data.columns.str.split('__').str[-1]\n",
    "ts_data"
   ]
  },
  {
   "cell_type": "code",
   "execution_count": null,
   "id": "ce3ec9e1",
   "metadata": {
    "execution": {
     "iopub.execute_input": "2024-10-31T22:01:25.134296Z",
     "iopub.status.busy": "2024-10-31T22:01:25.133912Z",
     "iopub.status.idle": "2024-10-31T22:01:25.141151Z",
     "shell.execute_reply": "2024-10-31T22:01:25.140080Z",
     "shell.execute_reply.started": "2024-10-31T22:01:25.134269Z"
    }
   },
   "outputs": [],
   "source": [
    "ts_path = template_dir / 'ts_obs.dat'\n",
    "output_ts = [i.strip() for i in open(ts_path, 'r').readlines()]\n"
   ]
  },
  {
   "cell_type": "code",
   "execution_count": null,
   "id": "e1f06dbc",
   "metadata": {
    "execution": {
     "iopub.execute_input": "2024-10-31T22:01:25.319048Z",
     "iopub.status.busy": "2024-10-31T22:01:25.318134Z",
     "iopub.status.idle": "2024-10-31T22:01:25.329088Z",
     "shell.execute_reply": "2024-10-31T22:01:25.327768Z",
     "shell.execute_reply.started": "2024-10-31T22:01:25.318988Z"
    }
   },
   "outputs": [],
   "source": [
    "ts_df = pd.DataFrame(index = ts_obs, data = {'obsname':ts_obs,'obs_values':np.nan})"
   ]
  },
  {
   "cell_type": "code",
   "execution_count": null,
   "id": "a460847e",
   "metadata": {
    "execution": {
     "iopub.execute_input": "2024-10-31T22:01:25.523459Z",
     "iopub.status.busy": "2024-10-31T22:01:25.522857Z",
     "iopub.status.idle": "2024-10-31T22:01:25.607869Z",
     "shell.execute_reply": "2024-10-31T22:01:25.607500Z",
     "shell.execute_reply.started": "2024-10-31T22:01:25.523425Z"
    }
   },
   "outputs": [],
   "source": [
    "for cob in ts_df.index:\n",
    "    criv,ctime = cob.split('__')\n",
    "    ts_df.loc[cob,'obs_values'] = ts_data.loc[int(ctime)][criv]"
   ]
  },
  {
   "cell_type": "code",
   "execution_count": null,
   "id": "02a14dc1",
   "metadata": {
    "execution": {
     "iopub.execute_input": "2024-10-31T22:01:25.700111Z",
     "iopub.status.busy": "2024-10-31T22:01:25.699609Z",
     "iopub.status.idle": "2024-10-31T22:01:25.706304Z",
     "shell.execute_reply": "2024-10-31T22:01:25.705761Z",
     "shell.execute_reply.started": "2024-10-31T22:01:25.700091Z"
    }
   },
   "outputs": [],
   "source": [
    "ts_df"
   ]
  },
  {
   "cell_type": "code",
   "execution_count": null,
   "id": "20318483",
   "metadata": {
    "execution": {
     "iopub.execute_input": "2024-10-31T22:01:25.901969Z",
     "iopub.status.busy": "2024-10-31T22:01:25.901292Z",
     "iopub.status.idle": "2024-10-31T22:01:25.910943Z",
     "shell.execute_reply": "2024-10-31T22:01:25.909624Z",
     "shell.execute_reply.started": "2024-10-31T22:01:25.901935Z"
    }
   },
   "outputs": [],
   "source": [
    "allout = pd.concat([bdplobs,ts_df])"
   ]
  },
  {
   "cell_type": "code",
   "execution_count": null,
   "id": "7e57bd87",
   "metadata": {
    "execution": {
     "iopub.execute_input": "2024-10-31T22:01:26.094375Z",
     "iopub.status.busy": "2024-10-31T22:01:26.093749Z",
     "iopub.status.idle": "2024-10-31T22:01:26.119342Z",
     "shell.execute_reply": "2024-10-31T22:01:26.118149Z",
     "shell.execute_reply.started": "2024-10-31T22:01:26.094343Z"
    }
   },
   "outputs": [],
   "source": [
    "allout['obs_values'].to_csv(template_dir / 'allobs.out', sep = ' ', header=None)"
   ]
  },
  {
   "cell_type": "code",
   "execution_count": null,
   "id": "7a247b23",
   "metadata": {
    "execution": {
     "iopub.execute_input": "2024-10-31T22:01:26.295774Z",
     "iopub.status.busy": "2024-10-31T22:01:26.294767Z",
     "iopub.status.idle": "2024-10-31T22:01:26.306223Z",
     "shell.execute_reply": "2024-10-31T22:01:26.305335Z",
     "shell.execute_reply.started": "2024-10-31T22:01:26.295721Z"
    }
   },
   "outputs": [],
   "source": [
    "with open(template_dir / 'allobs.out.ins', 'w') as ofp:\n",
    "    ofp.write('pif ~\\n')\n",
    "    [ofp.write(f'l1 w !{i}!\\n') for i in allout.index]"
   ]
  },
  {
   "cell_type": "markdown",
   "id": "b5743cca",
   "metadata": {},
   "source": [
    "# Make PST file"
   ]
  },
  {
   "cell_type": "code",
   "execution_count": null,
   "id": "8a287597",
   "metadata": {
    "execution": {
     "iopub.execute_input": "2024-10-31T22:01:26.671123Z",
     "iopub.status.busy": "2024-10-31T22:01:26.670481Z",
     "iopub.status.idle": "2024-10-31T22:01:26.678234Z",
     "shell.execute_reply": "2024-10-31T22:01:26.677216Z",
     "shell.execute_reply.started": "2024-10-31T22:01:26.671087Z"
    }
   },
   "outputs": [],
   "source": [
    "cwd = os.getcwd()"
   ]
  },
  {
   "cell_type": "code",
   "execution_count": null,
   "id": "65bcc8f8",
   "metadata": {
    "execution": {
     "iopub.execute_input": "2024-10-31T22:01:26.851374Z",
     "iopub.status.busy": "2024-10-31T22:01:26.850756Z",
     "iopub.status.idle": "2024-10-31T22:01:26.897981Z",
     "shell.execute_reply": "2024-10-31T22:01:26.897413Z",
     "shell.execute_reply.started": "2024-10-31T22:01:26.851341Z"
    }
   },
   "outputs": [],
   "source": [
    "os.chdir(template_dir)\n",
    "pst = pyemu.Pst.from_io_files(*pyemu.utils.parse_dir_for_io_files('.'))\n",
    "os.chdir(cwd)"
   ]
  },
  {
   "cell_type": "code",
   "execution_count": null,
   "id": "ff5729d6",
   "metadata": {
    "execution": {
     "iopub.execute_input": "2024-10-31T22:01:27.025483Z",
     "iopub.status.busy": "2024-10-31T22:01:27.024564Z",
     "iopub.status.idle": "2024-10-31T22:01:27.032435Z",
     "shell.execute_reply": "2024-10-31T22:01:27.031253Z",
     "shell.execute_reply.started": "2024-10-31T22:01:27.025427Z"
    }
   },
   "outputs": [],
   "source": [
    "pars = pst.parameter_data"
   ]
  },
  {
   "cell_type": "code",
   "execution_count": null,
   "id": "71907a04",
   "metadata": {
    "execution": {
     "iopub.execute_input": "2024-10-31T22:01:27.235572Z",
     "iopub.status.busy": "2024-10-31T22:01:27.234961Z",
     "iopub.status.idle": "2024-10-31T22:01:27.248399Z",
     "shell.execute_reply": "2024-10-31T22:01:27.247254Z",
     "shell.execute_reply.started": "2024-10-31T22:01:27.235538Z"
    }
   },
   "outputs": [],
   "source": [
    "pars.loc[pars_df.index,'parval1'] = pars_df.parval1"
   ]
  },
  {
   "cell_type": "code",
   "execution_count": null,
   "id": "fa1d3da7-89d8-4488-ab7a-bccc8c3e52f6",
   "metadata": {
    "execution": {
     "iopub.execute_input": "2024-10-31T22:01:27.418413Z",
     "iopub.status.busy": "2024-10-31T22:01:27.417429Z",
     "iopub.status.idle": "2024-10-31T22:01:27.439555Z",
     "shell.execute_reply": "2024-10-31T22:01:27.438890Z",
     "shell.execute_reply.started": "2024-10-31T22:01:27.418362Z"
    }
   },
   "outputs": [],
   "source": [
    "pars"
   ]
  },
  {
   "cell_type": "code",
   "execution_count": null,
   "id": "dfebb9f3",
   "metadata": {
    "execution": {
     "iopub.execute_input": "2024-10-31T22:01:27.629909Z",
     "iopub.status.busy": "2024-10-31T22:01:27.629219Z",
     "iopub.status.idle": "2024-10-31T22:01:27.643781Z",
     "shell.execute_reply": "2024-10-31T22:01:27.642769Z",
     "shell.execute_reply.started": "2024-10-31T22:01:27.629868Z"
    }
   },
   "outputs": [],
   "source": [
    "pars.loc[pars.index.str.startswith('well_'),'parlbnd'] = \\\n",
    "        pars.loc[pars.index.str.startswith('well_'),'parval1']-.1\n",
    "pars.loc[pars.index.str.startswith('well_'),'parubnd'] = \\\n",
    "        pars.loc[pars.index.str.startswith('well_'),'parval1']+.1\n"
   ]
  },
  {
   "cell_type": "code",
   "execution_count": null,
   "id": "4acc80bb",
   "metadata": {
    "execution": {
     "iopub.execute_input": "2024-10-31T22:01:29.156481Z",
     "iopub.status.busy": "2024-10-31T22:01:29.155958Z",
     "iopub.status.idle": "2024-10-31T22:01:29.164689Z",
     "shell.execute_reply": "2024-10-31T22:01:29.162316Z",
     "shell.execute_reply.started": "2024-10-31T22:01:29.156456Z"
    }
   },
   "outputs": [],
   "source": [
    "pars.loc[pars.parlbnd <=0, 'parlbnd'] = 0.01\n",
    "pars.loc[pars.parubnd >=1, 'parubnd'] = 1\n",
    "pars.partrans = 'none'"
   ]
  },
  {
   "cell_type": "code",
   "execution_count": null,
   "id": "bd9be1d2",
   "metadata": {
    "execution": {
     "iopub.execute_input": "2024-10-31T22:01:29.334681Z",
     "iopub.status.busy": "2024-10-31T22:01:29.333311Z",
     "iopub.status.idle": "2024-10-31T22:01:29.358217Z",
     "shell.execute_reply": "2024-10-31T22:01:29.357656Z",
     "shell.execute_reply.started": "2024-10-31T22:01:29.334642Z"
    }
   },
   "outputs": [],
   "source": [
    "pars.loc['global_s', 'parlbnd'] = 0.05\n",
    "pars.loc['global_s', 'parubnd'] = 0.2 # can make these a function of starting values later\n",
    "\n",
    "pars.loc['global_t', 'parlbnd'] = 0.025 * pars.loc['global_t', 'parval1']\n",
    "pars.loc['global_t', 'parubnd'] = 12 * pars.loc['global_t', 'parval1']\n",
    "pars.loc['global_t', 'partrans'] = 'log' \n",
    "pars"
   ]
  },
  {
   "cell_type": "code",
   "execution_count": null,
   "id": "d97a4637",
   "metadata": {
    "execution": {
     "iopub.execute_input": "2024-10-31T22:01:29.499052Z",
     "iopub.status.busy": "2024-10-31T22:01:29.498014Z",
     "iopub.status.idle": "2024-10-31T22:01:29.508942Z",
     "shell.execute_reply": "2024-10-31T22:01:29.506583Z",
     "shell.execute_reply.started": "2024-10-31T22:01:29.499003Z"
    }
   },
   "outputs": [],
   "source": [
    "pst.control_data.noptmax = -1\n",
    "pst.model_command = [f'python run_pycap.py {input_yml} ts_obs.dat']\n",
    "pst.pestpp_options['par_sigma_range'] = 6\n",
    "pst.pestpp_options['ies_num_reals'] = 500\n"
   ]
  },
  {
   "cell_type": "code",
   "execution_count": null,
   "id": "b5f9d57b",
   "metadata": {
    "execution": {
     "iopub.execute_input": "2024-10-31T22:01:34.911736Z",
     "iopub.status.busy": "2024-10-31T22:01:34.911255Z",
     "iopub.status.idle": "2024-10-31T22:01:34.941706Z",
     "shell.execute_reply": "2024-10-31T22:01:34.941388Z",
     "shell.execute_reply.started": "2024-10-31T22:01:34.911712Z"
    }
   },
   "outputs": [],
   "source": [
    "pst.write(str(template_dir / 'prior_mc.pst'), version=2)"
   ]
  },
  {
   "cell_type": "code",
   "execution_count": null,
   "id": "8b322a27",
   "metadata": {
    "execution": {
     "iopub.execute_input": "2024-10-31T22:01:36.110450Z",
     "iopub.status.busy": "2024-10-31T22:01:36.109640Z",
     "iopub.status.idle": "2024-10-31T22:01:36.300408Z",
     "shell.execute_reply": "2024-10-31T22:01:36.300105Z",
     "shell.execute_reply.started": "2024-10-31T22:01:36.110410Z"
    }
   },
   "outputs": [],
   "source": [
    "shutil.copy2('run_pycap.py', template_dir / 'run_pycap.py')\n",
    "# shutil.copy2('../dependencies/bin/pestpp-ies', template_dir / 'pestpp-ies')\n",
    "shutil.copytree('../hicap_analysis/', template_dir / 'hicap_analysis')\n",
    "shutil.rmtree(template_dir / 'hicap_analysis' / 'tests')"
   ]
  },
  {
   "cell_type": "markdown",
   "id": "1be9b0fc-f26e-4f20-b648-9f00cef2e716",
   "metadata": {},
   "source": [
    "### now make the sensitivity directory"
   ]
  },
  {
   "cell_type": "code",
   "execution_count": null,
   "id": "8e9b0702-def4-401b-bed4-24f7d4dca231",
   "metadata": {
    "execution": {
     "iopub.execute_input": "2024-10-31T22:01:37.206618Z",
     "iopub.status.busy": "2024-10-31T22:01:37.206120Z",
     "iopub.status.idle": "2024-10-31T22:01:37.334420Z",
     "shell.execute_reply": "2024-10-31T22:01:37.328712Z",
     "shell.execute_reply.started": "2024-10-31T22:01:37.206581Z"
    }
   },
   "outputs": [],
   "source": [
    "shutil.copytree(template_dir, sen_template_dir)"
   ]
  },
  {
   "cell_type": "markdown",
   "id": "ff4c56de-3537-4971-9ded-fe256ffb9e92",
   "metadata": {},
   "source": [
    "## And update the PST file for global sensitivity"
   ]
  },
  {
   "cell_type": "code",
   "execution_count": null,
   "id": "2a01ed25-35d4-4ad7-93cb-b93678018a46",
   "metadata": {
    "execution": {
     "iopub.execute_input": "2024-10-31T22:02:34.992509Z",
     "iopub.status.busy": "2024-10-31T22:02:34.991633Z",
     "iopub.status.idle": "2024-10-31T22:02:35.077204Z",
     "shell.execute_reply": "2024-10-31T22:02:35.076359Z",
     "shell.execute_reply.started": "2024-10-31T22:02:34.992450Z"
    }
   },
   "outputs": [],
   "source": [
    "pst_sen = pyemu.Pst(str(sen_template_dir / 'prior_mc.pst'))"
   ]
  },
  {
   "cell_type": "code",
   "execution_count": null,
   "id": "a23f2d4b-695b-4ef4-a26e-b9861aa55299",
   "metadata": {
    "execution": {
     "iopub.execute_input": "2024-10-31T22:06:03.709932Z",
     "iopub.status.busy": "2024-10-31T22:06:03.708907Z",
     "iopub.status.idle": "2024-10-31T22:06:03.754530Z",
     "shell.execute_reply": "2024-10-31T22:06:03.754249Z",
     "shell.execute_reply.started": "2024-10-31T22:06:03.709874Z"
    }
   },
   "outputs": [],
   "source": [
    "pst_sen.write(str(sen_template_dir / 'global_sens.pst'))"
   ]
  },
  {
   "cell_type": "code",
   "execution_count": null,
   "id": "f9b683fe-5394-49b3-8a7e-f6e6dee5c7c4",
   "metadata": {
    "execution": {
     "iopub.execute_input": "2024-10-31T22:06:35.792448Z",
     "iopub.status.busy": "2024-10-31T22:06:35.791481Z",
     "iopub.status.idle": "2024-10-31T22:12:02.861612Z",
     "shell.execute_reply": "2024-10-31T22:12:02.861113Z",
     "shell.execute_reply.started": "2024-10-31T22:06:35.792388Z"
    }
   },
   "outputs": [],
   "source": [
    "if run_global_sen:\n",
    "    if 'window' in platform.platform().lower():\n",
    "        pestpp_ex = '../../dependencies/win_bin/pestpp-sen'\n",
    "    else:\n",
    "        pestpp_ex = '../../dependencies/mac_bin/pestpp-sen'\n",
    "    pyemu.os_utils.start_workers(\n",
    "            worker_dir=str(sen_template_dir), exe_rel_path=pestpp_ex,\n",
    "            pst_rel_path='global_sens.pst', num_workers=20,\n",
    "            worker_root='./', master_dir='MASTER_SEN')"
   ]
  },
  {
   "cell_type": "code",
   "execution_count": null,
   "id": "3223ae11",
   "metadata": {},
   "outputs": [],
   "source": [
    "if run_ies:\n",
    "    if 'window' in platform.platform().lower():\n",
    "        pestpp_ex = '../../dependencies/win_bin/pestpp-ies'\n",
    "    else:\n",
    "        pestpp_ex = '../../dependencies/mac_bin/pestpp-ies'\n",
    "    pyemu.os_utils.start_workers(\n",
    "            worker_dir=str(template_dir), exe_rel_path=pestpp_ex,\n",
    "            pst_rel_path='prior_mc.pst', num_workers=None,\n",
    "            worker_root='./', master_dir='MASTER')"
   ]
  },
  {
   "cell_type": "code",
   "execution_count": null,
   "id": "a97026db",
   "metadata": {},
   "outputs": [],
   "source": []
  },
  {
   "cell_type": "code",
   "execution_count": null,
   "id": "ccd3670e-aeaf-4423-8d38-c6777b4a4e59",
   "metadata": {},
   "outputs": [],
   "source": []
  }
 ],
 "metadata": {
  "kernelspec": {
   "display_name": "Python 3 (ipykernel)",
   "language": "python",
   "name": "python3"
  },
  "language_info": {
   "codemirror_mode": {
    "name": "ipython",
    "version": 3
   },
   "file_extension": ".py",
   "mimetype": "text/x-python",
   "name": "python",
   "nbconvert_exporter": "python",
   "pygments_lexer": "ipython3",
   "version": "3.11.9"
  }
 },
 "nbformat": 4,
 "nbformat_minor": 5
}
