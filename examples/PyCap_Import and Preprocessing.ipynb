{
 "cells": [
  {
   "cell_type": "markdown",
   "metadata": {},
   "source": [
    "## Import data from Spreadsheet Template, and prepare it for a PyCap run\n",
    "\n",
    "### Use the spreadsheet template found here, do not make alterations to column names in the spreadsheet or this script may not work"
   ]
  },
  {
   "cell_type": "markdown",
   "metadata": {},
   "source": [
    "##### Libraries you will need to run this script"
   ]
  },
  {
   "cell_type": "code",
   "execution_count": null,
   "metadata": {},
   "outputs": [],
   "source": [
    "import yaml\n",
    "import pandas as pd\n",
    "import numpy as np\n"
   ]
  },
  {
   "cell_type": "markdown",
   "metadata": {},
   "source": [
    "### Path to your .xlsx template spreadsheet\n",
    "##### Note the use of double backslashes in the path name\n",
    "##### Also provide a name for the PyCap run"
   ]
  },
  {
   "cell_type": "code",
   "execution_count": null,
   "metadata": {},
   "outputs": [],
   "source": [
    "pycap_inputs_excel = \"./test_run.xlsx\"\n",
    "pycap_run_name = 'TestExample'"
   ]
  },
  {
   "cell_type": "code",
   "execution_count": null,
   "metadata": {},
   "outputs": [],
   "source": [
    "raw_global = pd.read_excel(pycap_inputs_excel, sheet_name = 'Global_Inputs')\n",
    "raw_hcw = pd.read_excel(pycap_inputs_excel, sheet_name = 'HCW_Inputs')\n",
    "raw_dd = pd.read_excel(pycap_inputs_excel, sheet_name = 'Drawdown_Inputs')\n",
    "raw_depl = pd.read_excel(pycap_inputs_excel, sheet_name ='Depletion_Inputs')"
   ]
  },
  {
   "cell_type": "markdown",
   "metadata": {},
   "source": [
    "#### Data wrangling to get excel readable in pandas"
   ]
  },
  {
   "cell_type": "code",
   "execution_count": null,
   "metadata": {},
   "outputs": [],
   "source": [
    "raw_hcw['HCW'] = raw_hcw['HCW'].astype(str)\n",
    "raw_dd['HCW'] = raw_dd['HCW'].astype(str)\n",
    "raw_depl['HCW'] = raw_depl['HCW'].astype(str)\n",
    "raw_dd['pycap_resource_name'] = raw_dd['Resource_Name']\n",
    "raw_depl['pycap_resource_name'] = raw_depl['Resource_Name']\n",
    "\n",
    "for i in range(len(raw_dd)):\n",
    "    raw_dd['Resource_Name'][i] = raw_dd['Resource_Name'][i].replace(\" \",\"\")\n",
    "    raw_dd['pycap_resource_name'][i] = \":\".join([raw_dd['Resource_Name'][i], raw_dd['HCW'][i]])\n",
    "\n",
    "for i in range(len(raw_depl)):\n",
    "    raw_depl['Resource_Name'][i] = raw_depl['Resource_Name'][i].replace(\" \",\"\")\n",
    "    raw_depl['pycap_resource_name'][i] = \":\".join([raw_depl['Resource_Name'][i], raw_depl['HCW'][i]])\n"
   ]
  },
  {
   "cell_type": "markdown",
   "metadata": {},
   "source": [
    "#### Create nested dictionaries of inputs for YML"
   ]
  },
  {
   "cell_type": "markdown",
   "metadata": {},
   "source": [
    "##### Project data, with default data for T, S, t, etc"
   ]
  },
  {
   "cell_type": "code",
   "execution_count": null,
   "metadata": {},
   "outputs": [],
   "source": [
    "project_dict = dict()\n",
    "project_dict['project_properties'] = {'name':pycap_run_name,\n",
    "                                     'T':float(raw_global['Transmissivity_ft2d'][0]),\n",
    "                                     'S':float(raw_global['Storage_Coeff'][0]),\n",
    "                                      'default_dd_days':float(raw_global['Default_dd_days'][0]),\n",
    "                                      'default_depletion_years':float(raw_global['Default_depletion_years']),\n",
    "                                      'default_pumping_days':float(raw_global['Default_pumping_days'])\n",
    "                                     }"
   ]
  },
  {
   "cell_type": "markdown",
   "metadata": {},
   "source": [
    "##### Well data, with apportionment, and name of location impacts will be assessed"
   ]
  },
  {
   "cell_type": "code",
   "execution_count": null,
   "metadata": {},
   "outputs": [],
   "source": [
    "well_dict=dict()\n",
    "stream_dict=dict()\n",
    "\n",
    "for j in range(len(raw_depl['HCW'])):\n",
    "    stream_dict[j] = {'HCW':raw_depl['HCW'][j],\n",
    "                      'stream_apportionment':{#f'stream_apportionment{j}':{\n",
    "        'name':raw_depl['pycap_resource_name'][j],\n",
    "        'apportionment':float(raw_depl['Fraction_Intercept'][j])\n",
    "    }}\n",
    "    \n",
    "for i in range(len(raw_hcw)):\n",
    "        well_dict[i] = {'name': raw_hcw['HCW'][i],\n",
    "                   'status': raw_hcw['Well_Status'][i].lower(),\n",
    "                    'loc':{\n",
    "                        'x':float(raw_hcw['Well_Long'][i]),\n",
    "                        'y':float(raw_hcw['Well_Lat'][i])\n",
    "                        },\n",
    "                    'Q':float(raw_hcw['Q_gpm'][i]),\n",
    "                    'pumping_days':int(raw_hcw['Pumping_Days'][i]),\n",
    "                       }\n",
    "stream_dict_df = pd.DataFrame.from_dict(stream_dict,orient='index')\n",
    "stream_dict_df = stream_dict_df.rename('stream_apportionment{}'.format)\n",
    "\n",
    "for i in range(len(well_dict)):\n",
    "    k_old = i\n",
    "    k_new = str(well_dict[i]['name'])\n",
    "    well_dict[k_new] = well_dict.pop(k_old)\n",
    "\n",
    "for j in well_dict:\n",
    "    well_dict[j].update(stream_dict_df.loc[stream_dict_df['HCW']==j]['stream_apportionment'])\n",
    "\n",
    "for j in well_dict:\n",
    "    well_dict[j].update({'stream_response':(list(raw_depl.loc[raw_depl['HCW']==j]['pycap_resource_name']))})\n",
    "\n",
    "for j in well_dict:\n",
    "    well_dict[j].update({'dd_response': (list(raw_dd.loc[raw_dd['HCW']==j]['Resource_Name']))})\n",
    "\n",
    "for key in list(well_dict):\n",
    "    k_new = \"well_{}\".format(key)\n",
    "    well_dict[k_new] = well_dict.pop(key)\n"
   ]
  },
  {
   "cell_type": "markdown",
   "metadata": {},
   "source": [
    "##### Stream Response Locations"
   ]
  },
  {
   "cell_type": "code",
   "execution_count": null,
   "metadata": {},
   "outputs": [],
   "source": [
    "streamresp_dict = dict()\n",
    "for i in range(len(raw_depl)):\n",
    "    streamresp_dict['stream_response{}'.format(i)]={\n",
    "        'name': raw_depl['pycap_resource_name'][i],\n",
    "        'loc': {\n",
    "            'x': float(raw_depl['Resource_Long'][i]),\n",
    "            'y': float(raw_depl['Resource_Lat'][i])\n",
    "            }\n",
    "        }"
   ]
  },
  {
   "cell_type": "markdown",
   "metadata": {},
   "source": [
    "##### Drawdown Response Locations"
   ]
  },
  {
   "cell_type": "code",
   "execution_count": null,
   "metadata": {},
   "outputs": [],
   "source": [
    "raw_dd_unique = raw_dd.drop_duplicates(subset=['Resource_Name']).reset_index()\n",
    "ddresp_dict = dict()\n",
    "for i in range(len(raw_dd_unique)):\n",
    "    ddresp_dict['dd_response{}'.format(i)]={\n",
    "        'name':raw_dd_unique['Resource_Name'][i],\n",
    "        'loc':{\n",
    "            'x':float(raw_dd_unique['Resource_Long'][i]),\n",
    "            'y':float(raw_dd_unique['Resource_Lat'][i])\n",
    "        }\n",
    "    }\n"
   ]
  },
  {
   "cell_type": "markdown",
   "metadata": {},
   "source": [
    "#### Combine all the above dictionaries and save as a yml"
   ]
  },
  {
   "cell_type": "code",
   "execution_count": null,
   "metadata": {},
   "outputs": [],
   "source": [
    "combdict={**project_dict,**well_dict, **ddresp_dict, **streamresp_dict}\n",
    "yml_name = (pycap_run_name+'.yml')\n",
    "\n",
    "with open(yml_name,'w') as file:\n",
    "    documents = yaml.dump(combdict, file, default_flow_style = False, sort_keys= False)"
   ]
  }
 ],
 "metadata": {
  "kernelspec": {
   "display_name": "Python 3 (ipykernel)",
   "language": "python",
   "name": "python3"
  },
  "language_info": {
   "codemirror_mode": {
    "name": "ipython",
    "version": 3
   },
   "file_extension": ".py",
   "mimetype": "text/x-python",
   "name": "python",
   "nbconvert_exporter": "python",
   "pygments_lexer": "ipython3",
   "version": "3.9.16"
  }
 },
 "nbformat": 4,
 "nbformat_minor": 2
}
