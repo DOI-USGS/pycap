{
 "cells": [
  {
   "cell_type": "code",
   "execution_count": null,
   "id": "06f6663b-7509-40ef-b20b-23c8b088f44c",
   "metadata": {},
   "outputs": [],
   "source": [
    "import sys\n",
    "sys.path.append('../')\n",
    "import hicap_analysis.wells as wo\n",
    "from hicap_analysis.geoprocessing import Geoprocess\n",
    "\n",
    "import os\n",
    "from pathlib import Path\n",
    "import pandas as pd\n",
    "import geopandas as gpd\n",
    "import numpy as np\n",
    "\n",
    "import matplotlib.pyplot as plt\n",
    "%matplotlib inline"
   ]
  },
  {
   "cell_type": "markdown",
   "id": "02cafd92-276d-4989-aba0-fd6072835c07",
   "metadata": {},
   "source": [
    "# Set some paths\n",
    "shapefiles and a testing csv file are in the tests directory."
   ]
  },
  {
   "cell_type": "code",
   "execution_count": null,
   "id": "853e50e8-c4ff-4d40-a43e-a9c1d76d7ace",
   "metadata": {},
   "outputs": [],
   "source": [
    "homepath = Path(os.getcwd())\n",
    "datapath = homepath.parents[0] / 'hicap_analysis' / 'tests' / 'data'"
   ]
  },
  {
   "cell_type": "markdown",
   "id": "02856ee0-79d0-4f27-9411-fd4e3b5c027e",
   "metadata": {},
   "source": [
    "# Make a geoprocessor object\n",
    "\n",
    "The geoprocessor object needs a shapefile with the desired catchments\n",
    "and one with the corresponding streamlines.  catch_idx and stream_idx\n",
    "are optional and will be used to set the indices of the returned\n",
    "geodataframes if provided.  "
   ]
  },
  {
   "cell_type": "code",
   "execution_count": null,
   "id": "3ce68597-ab8b-4b5d-a103-839562d86b8d",
   "metadata": {},
   "outputs": [],
   "source": [
    "geopro = Geoprocess(datapath / 'WWAP_110507.shp', \n",
    "                    datapath / 'WWAP_ValleySegments_080907.shp', \n",
    "                    catch_idx='ADJ_SEGMNT', \n",
    "                    stream_idx='ADJ_SEGMNT')"
   ]
  },
  {
   "cell_type": "markdown",
   "id": "8c66cee9-7591-4224-b8ce-da7b0568711d",
   "metadata": {},
   "source": [
    "# make a well dataframe\n",
    "\n",
    "The geoprocess will take a list of [lat, long] pairs, a geodataframe, \n",
    "or a dataframe with the lat, long of target wells.  In this test, I'm \n",
    "passing a dataframe and the processor makes a geodataframe and reprojects\n",
    "to the same projection as the Geoprocess object."
   ]
  },
  {
   "cell_type": "code",
   "execution_count": null,
   "id": "683af598-6f05-4d1e-80a8-8558c7a5044b",
   "metadata": {},
   "outputs": [],
   "source": [
    "well = [{'name': 'testwell0',\n",
    "    'lat': 44.979953,\n",
    "    'long': -84.625023,\n",
    "    'rate': 70,\n",
    "    'depth': 80},\n",
    "   {'name': 'testwell1',\n",
    "    'lat': 44.99,\n",
    "    'long': -84.64,\n",
    "    'rate': 70,\n",
    "    'depth': 80}]  #gpm and ft\n",
    "\n",
    "well_df=pd.DataFrame(well)"
   ]
  },
  {
   "cell_type": "markdown",
   "id": "7630ce65-0dc9-4f92-adfd-1d7cf0a8a4b0",
   "metadata": {},
   "source": [
    "## pass the dataframe to the geoprocessor\n",
    "\n",
    "The get_geometries() returns a WellGeometry objects."
   ]
  },
  {
   "cell_type": "code",
   "execution_count": null,
   "id": "60bd67b1-6e58-48b5-986a-4cf2a29df1f8",
   "metadata": {},
   "outputs": [],
   "source": [
    "well_list = geopro.get_geometries(well_df)\n",
    "well_list"
   ]
  },
  {
   "cell_type": "markdown",
   "id": "08a37d0b-af38-4696-8f01-55a2266007f6",
   "metadata": {},
   "source": [
    "## WellGeometry objects\n",
    "\n",
    "The attributes are:\n",
    "\n",
    "- name\n",
    "- geodataframe of catchment with the well (home_df)\n",
    "- geodataframe of the neighboring catchments (neighbors_df)\n",
    "- geodataframe of the streamlines for the catchments (streams_df)\n",
    "- dataframe of the closest point on the stream for each catchment\n",
    "  and apportionment for inverse-distance and inverse-distance-squared"
   ]
  },
  {
   "cell_type": "code",
   "execution_count": null,
   "id": "4cad975d-bac2-4e9e-bfe2-770e1e13a372",
   "metadata": {},
   "outputs": [],
   "source": [
    "# testwell0 should match the table from SIR\n",
    "home = well_list[0].home_df.copy()\n",
    "nearest = well_list[0].close_points_df.copy()"
   ]
  },
  {
   "cell_type": "code",
   "execution_count": null,
   "id": "b1c23d1e-de1f-4ae0-be53-76e107d428ed",
   "metadata": {},
   "outputs": [],
   "source": [
    "home"
   ]
  },
  {
   "cell_type": "code",
   "execution_count": null,
   "id": "aa8e63e2-9eaf-4c58-b7b7-c179e9137a76",
   "metadata": {},
   "outputs": [],
   "source": [
    "nearest"
   ]
  },
  {
   "cell_type": "markdown",
   "id": "9dfe3349-fdde-415c-848d-272d991c1a2f",
   "metadata": {},
   "source": [
    "# Compare to the table of results (Table 2) in SIR 2009-5003\n",
    "This is the test that is coded in tests/test_calcs.py"
   ]
  },
  {
   "cell_type": "code",
   "execution_count": null,
   "id": "c720634c-2419-4c77-9548-fa77bbd2cb64",
   "metadata": {},
   "outputs": [],
   "source": [
    "# need to call the hunt99 function\n",
    "time = 5. * 365.25  # 5 years\n",
    "# pumping is 70 gpm; 1 gpm = 0.0022280093 cfs\n",
    "Q = well_df.loc[0,'rate'] * 0.0022280093 * 3600 * 24  # rate in CFD for function.\n",
    "T = home.loc[11967, 'MEDIAN_T']\n",
    "S = 0.01\n",
    "streambed = home.loc[11967, 'EST_Kv_W']/well_df.loc[0, 'depth']"
   ]
  },
  {
   "cell_type": "code",
   "execution_count": null,
   "id": "4c7f223a-551c-498c-bc34-5a1b8c1d773d",
   "metadata": {},
   "outputs": [],
   "source": [
    "# hunt99 returns CFS need to convert to GPM for table\n",
    "nearest['analytical_removal'] = nearest['distance'].apply(lambda dist: wo._hunt99(T, S, time, dist, Q, streambed)* 448.83116885)\n",
    "nearest['valley_seg_removal'] = nearest['apportionment'] * nearest['analytical_removal']\n",
    "nearest['percent'] = nearest['apportionment'] * 100."
   ]
  },
  {
   "cell_type": "code",
   "execution_count": null,
   "id": "aa8f65bc-90e6-43b7-b4ee-87250d0d2666",
   "metadata": {},
   "outputs": [],
   "source": [
    "check_df = pd.read_csv(datapath / 'SIR2009_5003_Table2_Batch.csv', dtype=float)\n",
    "check_df.set_index('Valley_segment', inplace=True)"
   ]
  },
  {
   "cell_type": "code",
   "execution_count": null,
   "id": "4a182ba0-72ce-4e84-8660-3bb9b3ef0dc4",
   "metadata": {},
   "outputs": [],
   "source": [
    "tol = 0.01\n",
    "np.testing.assert_allclose(nearest['percent'].values, check_df['Removal_percent'].values, atol=tol)\n",
    "tol = 0.04\n",
    "np.testing.assert_allclose(nearest['analytical_removal'].values, check_df['Analytical_removal_gpm'].values, atol=tol)\n",
    "tol = 0.01\n",
    "np.testing.assert_allclose(nearest['valley_seg_removal'].values, check_df['Estimated_removal_gpm'].values, atol=tol)"
   ]
  },
  {
   "cell_type": "markdown",
   "id": "3f60f0b8-4c70-494b-9b19-c925d76b22d0",
   "metadata": {},
   "source": [
    "# Note you can easily plot the geodataframes or write as shapefile"
   ]
  },
  {
   "cell_type": "code",
   "execution_count": null,
   "id": "e727fc56-1b0a-494a-8a8f-2c8beb54460c",
   "metadata": {},
   "outputs": [],
   "source": [
    "fig = plt.figure()\n",
    "ax = fig.add_subplot(111)\n",
    "well_list[0].neighbors_df.plot(ax=ax, color='lightgray', edgecolor='darkgray')\n",
    "home.plot(ax=ax, color='yellow', edgecolor='darkgray')\n",
    "well_list[0].well_df.plot(ax=ax, color='red')\n",
    "well_list[0].streams_df.plot(ax=ax, color='blue')\n",
    "nearest.plot(ax=ax, color='orange')\n",
    "ax.tick_params(direction='in')"
   ]
  },
  {
   "cell_type": "code",
   "execution_count": null,
   "id": "5ba389ac-f463-48bc-bd6e-3fe04d39de70",
   "metadata": {},
   "outputs": [],
   "source": [
    "nearest.to_file(homepath / 'output' / 'nearest.shp')"
   ]
  },
  {
   "cell_type": "code",
   "execution_count": null,
   "id": "fdb6283f-24f6-4188-933e-669029dd8641",
   "metadata": {},
   "outputs": [],
   "source": [
    "home"
   ]
  },
  {
   "cell_type": "code",
   "execution_count": null,
   "id": "227accc0-6791-40ee-9389-9d4b2919bcc2",
   "metadata": {},
   "outputs": [],
   "source": []
  }
 ],
 "metadata": {
  "kernelspec": {
   "display_name": "Python 3 (ipykernel)",
   "language": "python",
   "name": "python3"
  },
  "language_info": {
   "codemirror_mode": {
    "name": "ipython",
    "version": 3
   },
   "file_extension": ".py",
   "mimetype": "text/x-python",
   "name": "python",
   "nbconvert_exporter": "python",
   "pygments_lexer": "ipython3",
   "version": "3.11.8"
  }
 },
 "nbformat": 4,
 "nbformat_minor": 5
}
