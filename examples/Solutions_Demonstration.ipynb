{
 "cells": [
  {
   "cell_type": "code",
   "execution_count": null,
   "id": "5cb2ece2-f25f-4a00-a64b-fd3524e5a2d2",
   "metadata": {
    "execution": {
     "iopub.execute_input": "2025-05-07T19:06:50.916251Z",
     "iopub.status.busy": "2025-05-07T19:06:50.916118Z",
     "iopub.status.idle": "2025-05-07T19:06:52.142333Z",
     "shell.execute_reply": "2025-05-07T19:06:52.142028Z",
     "shell.execute_reply.started": "2025-05-07T19:06:50.916239Z"
    }
   },
   "outputs": [],
   "source": [
    "import pycap\n",
    "import matplotlib.pyplot as plt\n",
    "import numpy as np\n",
    "import pandas as pd"
   ]
  },
  {
   "cell_type": "markdown",
   "id": "76283c7d-8237-4e8e-8d7c-ad74511deed1",
   "metadata": {},
   "source": [
    "# `pycap` demonstrations"
   ]
  },
  {
   "cell_type": "markdown",
   "id": "655b619f-ceb4-4e3e-9b24-97a142eaf9eb",
   "metadata": {},
   "source": [
    "# Individual Functions"
   ]
  },
  {
   "cell_type": "markdown",
   "id": "94ff2f06-cc50-4681-b07f-a35165f8fc88",
   "metadata": {},
   "source": [
    "### Set some common variables to evaluate"
   ]
  },
  {
   "cell_type": "code",
   "execution_count": null,
   "id": "9bdaa684-3a74-482f-a80d-d5b4e91e6db4",
   "metadata": {
    "execution": {
     "iopub.execute_input": "2025-05-07T19:06:52.142838Z",
     "iopub.status.busy": "2025-05-07T19:06:52.142726Z",
     "iopub.status.idle": "2025-05-07T19:06:52.145090Z",
     "shell.execute_reply": "2025-05-07T19:06:52.144684Z",
     "shell.execute_reply.started": "2025-05-07T19:06:52.142829Z"
    }
   },
   "outputs": [],
   "source": [
    "T = 1000    # Transmissivity [m/day]\n",
    "S = 3e-6   # Storativity [unitless]\n",
    "dist = 500 # distance [m]\n",
    "time = np.logspace(.1,2.5,150) # time [day]\n",
    "Q = 4000   # pumping rate [m/day]\n"
   ]
  },
  {
   "cell_type": "markdown",
   "id": "867e9307-95ac-479a-a8f9-37c11f4e9e36",
   "metadata": {},
   "source": [
    "## Theis Drawdown"
   ]
  },
  {
   "cell_type": "code",
   "execution_count": null,
   "id": "8569e137-7717-4805-a001-e45d45148a80",
   "metadata": {
    "execution": {
     "iopub.execute_input": "2025-05-07T19:06:52.145780Z",
     "iopub.status.busy": "2025-05-07T19:06:52.145613Z",
     "iopub.status.idle": "2025-05-07T19:06:52.147244Z",
     "shell.execute_reply": "2025-05-07T19:06:52.147027Z",
     "shell.execute_reply.started": "2025-05-07T19:06:52.145770Z"
    }
   },
   "outputs": [],
   "source": [
    "from pycap.solutions import theis"
   ]
  },
  {
   "cell_type": "code",
   "execution_count": null,
   "id": "bacdeae3-5cb5-4ec6-918a-961415502472",
   "metadata": {
    "execution": {
     "iopub.execute_input": "2025-05-07T19:06:52.147790Z",
     "iopub.status.busy": "2025-05-07T19:06:52.147675Z",
     "iopub.status.idle": "2025-05-07T19:06:52.152436Z",
     "shell.execute_reply": "2025-05-07T19:06:52.152066Z",
     "shell.execute_reply.started": "2025-05-07T19:06:52.147781Z"
    }
   },
   "outputs": [],
   "source": [
    "s_theis = theis(T,S,time,dist,Q)"
   ]
  },
  {
   "cell_type": "code",
   "execution_count": null,
   "id": "ed6967f4-a781-49be-a36a-2f47ae44dd99",
   "metadata": {
    "execution": {
     "iopub.execute_input": "2025-05-07T19:06:52.152981Z",
     "iopub.status.busy": "2025-05-07T19:06:52.152882Z",
     "iopub.status.idle": "2025-05-07T19:06:52.238401Z",
     "shell.execute_reply": "2025-05-07T19:06:52.237988Z",
     "shell.execute_reply.started": "2025-05-07T19:06:52.152971Z"
    }
   },
   "outputs": [],
   "source": [
    "plt.plot(time,s_theis)\n",
    "plt.xlabel('time')\n",
    "plt.ylabel('drawdown')"
   ]
  },
  {
   "cell_type": "markdown",
   "id": "f4554214-3267-41c7-82df-963ed142bf4f",
   "metadata": {},
   "source": [
    "## Ward-Lough 2-Layer Drawdown"
   ]
  },
  {
   "cell_type": "markdown",
   "id": "cf6d45da-de36-4258-a064-99bc35ce1474",
   "metadata": {},
   "source": [
    "### We need a couple more variables (assuming the previously defined variables pertain to the upper aquifer, then the lower aquifer is defined by T2,S2, etc.) and river and aquitard characterstics"
   ]
  },
  {
   "cell_type": "code",
   "execution_count": null,
   "id": "424354d1-081e-4ecf-86e7-3d1b1481eafd",
   "metadata": {
    "execution": {
     "iopub.execute_input": "2025-05-07T19:06:52.240645Z",
     "iopub.status.busy": "2025-05-07T19:06:52.240362Z",
     "iopub.status.idle": "2025-05-07T19:06:52.242983Z",
     "shell.execute_reply": "2025-05-07T19:06:52.242509Z",
     "shell.execute_reply.started": "2025-05-07T19:06:52.240626Z"
    }
   },
   "outputs": [],
   "source": [
    "T2 = 1400 # Deep aquifer Transmissivity [m/day]\n",
    "S2 = 1e-4 # Deep aquifer Storativity [unitless]\n",
    "width = 10 # stream width [m]\n",
    "streambed_thick = 20 # stream sediment thickness [m]\n",
    "streambed_K = 250 # streambed hydraulic conductivity \n",
    "aquitard_thick = 1 # aquitard thickness [m]\n",
    "aquitard_K = 50 # aquitard hydraulic conductivity\n",
    "x = 20\n",
    "y = 5"
   ]
  },
  {
   "cell_type": "code",
   "execution_count": null,
   "id": "dc80916d-3498-4156-97bf-2d570d0d8e81",
   "metadata": {
    "execution": {
     "iopub.execute_input": "2025-05-07T19:06:52.243816Z",
     "iopub.status.busy": "2025-05-07T19:06:52.243609Z",
     "iopub.status.idle": "2025-05-07T19:06:52.245797Z",
     "shell.execute_reply": "2025-05-07T19:06:52.245404Z",
     "shell.execute_reply.started": "2025-05-07T19:06:52.243806Z"
    }
   },
   "outputs": [],
   "source": [
    "from pycap.solutions import WardLoughDrawdown"
   ]
  },
  {
   "cell_type": "code",
   "execution_count": null,
   "id": "2ed9b694-c630-4dbd-8136-b2bbe9c821ed",
   "metadata": {
    "execution": {
     "iopub.execute_input": "2025-05-07T19:06:52.246477Z",
     "iopub.status.busy": "2025-05-07T19:06:52.246347Z",
     "iopub.status.idle": "2025-05-07T19:06:52.691225Z",
     "shell.execute_reply": "2025-05-07T19:06:52.690954Z",
     "shell.execute_reply.started": "2025-05-07T19:06:52.246467Z"
    }
   },
   "outputs": [],
   "source": [
    "s1,s2 = WardLoughDrawdown(T,T2,S,S2, \n",
    "                          width, Q, dist, \n",
    "                          streambed_thick, streambed_K,\n",
    "                          aquitard_thick, aquitard_K,\n",
    "                          time,x,y)"
   ]
  },
  {
   "cell_type": "code",
   "execution_count": null,
   "id": "2c67fba7-ad30-46dc-a43f-ef104347e7d3",
   "metadata": {
    "execution": {
     "iopub.execute_input": "2025-05-07T19:06:52.691682Z",
     "iopub.status.busy": "2025-05-07T19:06:52.691601Z",
     "iopub.status.idle": "2025-05-07T19:06:52.829476Z",
     "shell.execute_reply": "2025-05-07T19:06:52.829210Z",
     "shell.execute_reply.started": "2025-05-07T19:06:52.691672Z"
    }
   },
   "outputs": [],
   "source": [
    "plt.plot(time,s1, label='shallow s')\n",
    "plt.plot(time,s2, label='deep s')\n",
    "plt.legend()\n",
    "plt.xscale('log')\n",
    "plt.xlabel('log time')\n",
    "plt.ylabel('drawdown')"
   ]
  },
  {
   "cell_type": "markdown",
   "id": "02aa1861-cad2-45aa-bf53-0f99be56afd6",
   "metadata": {},
   "source": [
    "## Walton Depletion"
   ]
  },
  {
   "cell_type": "code",
   "execution_count": null,
   "id": "0271b736-7fb1-4d9f-b602-980d7c7e044b",
   "metadata": {
    "execution": {
     "iopub.execute_input": "2025-05-07T19:06:52.829998Z",
     "iopub.status.busy": "2025-05-07T19:06:52.829916Z",
     "iopub.status.idle": "2025-05-07T19:06:52.831534Z",
     "shell.execute_reply": "2025-05-07T19:06:52.831287Z",
     "shell.execute_reply.started": "2025-05-07T19:06:52.829989Z"
    }
   },
   "outputs": [],
   "source": [
    "from pycap.solutions import walton"
   ]
  },
  {
   "cell_type": "code",
   "execution_count": null,
   "id": "d5ad810e-d069-402f-a73f-26327c761dfe",
   "metadata": {
    "execution": {
     "iopub.execute_input": "2025-05-07T19:06:52.831922Z",
     "iopub.status.busy": "2025-05-07T19:06:52.831853Z",
     "iopub.status.idle": "2025-05-07T19:06:52.837739Z",
     "shell.execute_reply": "2025-05-07T19:06:52.837460Z",
     "shell.execute_reply.started": "2025-05-07T19:06:52.831914Z"
    }
   },
   "outputs": [],
   "source": [
    "qd = walton(T,S,time,dist,Q)"
   ]
  },
  {
   "cell_type": "code",
   "execution_count": null,
   "id": "c5ffd493-43f6-41e7-94d3-a8feb9943d0e",
   "metadata": {
    "execution": {
     "iopub.execute_input": "2025-05-07T19:06:52.838195Z",
     "iopub.status.busy": "2025-05-07T19:06:52.838119Z",
     "iopub.status.idle": "2025-05-07T19:06:52.886451Z",
     "shell.execute_reply": "2025-05-07T19:06:52.886192Z",
     "shell.execute_reply.started": "2025-05-07T19:06:52.838187Z"
    }
   },
   "outputs": [],
   "source": [
    "plt.plot(time,qd)\n",
    "plt.xlabel('time')\n",
    "plt.ylabel('depletion')"
   ]
  },
  {
   "cell_type": "markdown",
   "id": "01f8a6b2-ea2c-4ffa-a92a-afff39dfcea4",
   "metadata": {},
   "source": [
    "## Glover Depletion"
   ]
  },
  {
   "cell_type": "code",
   "execution_count": null,
   "id": "67ab47d2-7407-4af4-b323-9ea3687d3b29",
   "metadata": {
    "execution": {
     "iopub.execute_input": "2025-05-07T19:06:52.887008Z",
     "iopub.status.busy": "2025-05-07T19:06:52.886925Z",
     "iopub.status.idle": "2025-05-07T19:06:52.888684Z",
     "shell.execute_reply": "2025-05-07T19:06:52.888462Z",
     "shell.execute_reply.started": "2025-05-07T19:06:52.886999Z"
    }
   },
   "outputs": [],
   "source": [
    "from pycap.solutions import glover"
   ]
  },
  {
   "cell_type": "code",
   "execution_count": null,
   "id": "99d37a27-729e-4829-81b5-4c3ffabb2bf0",
   "metadata": {
    "execution": {
     "iopub.execute_input": "2025-05-07T19:06:52.888985Z",
     "iopub.status.busy": "2025-05-07T19:06:52.888922Z",
     "iopub.status.idle": "2025-05-07T19:06:52.894106Z",
     "shell.execute_reply": "2025-05-07T19:06:52.893815Z",
     "shell.execute_reply.started": "2025-05-07T19:06:52.888978Z"
    }
   },
   "outputs": [],
   "source": [
    "qd = glover(T,S,time,dist,Q)"
   ]
  },
  {
   "cell_type": "code",
   "execution_count": null,
   "id": "e613c576-e726-42f1-9a95-bc1c3b47f898",
   "metadata": {
    "execution": {
     "iopub.execute_input": "2025-05-07T19:06:52.894652Z",
     "iopub.status.busy": "2025-05-07T19:06:52.894504Z",
     "iopub.status.idle": "2025-05-07T19:06:52.940086Z",
     "shell.execute_reply": "2025-05-07T19:06:52.939841Z",
     "shell.execute_reply.started": "2025-05-07T19:06:52.894641Z"
    }
   },
   "outputs": [],
   "source": [
    "plt.plot(time,qd)\n",
    "plt.xlabel('time')\n",
    "plt.ylabel('depletion')"
   ]
  },
  {
   "cell_type": "markdown",
   "id": "1556515a-30e8-4d43-967c-cb06f457f5ba",
   "metadata": {},
   "source": [
    "## Ward-Lough 2-Layer Depletion"
   ]
  },
  {
   "cell_type": "code",
   "execution_count": null,
   "id": "f74a2766-8a67-42c7-a29c-1739c3629c3e",
   "metadata": {
    "execution": {
     "iopub.execute_input": "2025-05-07T19:06:52.940774Z",
     "iopub.status.busy": "2025-05-07T19:06:52.940635Z",
     "iopub.status.idle": "2025-05-07T19:06:52.942459Z",
     "shell.execute_reply": "2025-05-07T19:06:52.942237Z",
     "shell.execute_reply.started": "2025-05-07T19:06:52.940764Z"
    }
   },
   "outputs": [],
   "source": [
    "from pycap.solutions import WardLoughDepletion"
   ]
  },
  {
   "cell_type": "code",
   "execution_count": null,
   "id": "a65d20d2-b57d-41db-807e-701919b83e02",
   "metadata": {
    "execution": {
     "iopub.execute_input": "2025-05-07T19:06:52.942783Z",
     "iopub.status.busy": "2025-05-07T19:06:52.942712Z",
     "iopub.status.idle": "2025-05-07T19:06:52.946536Z",
     "shell.execute_reply": "2025-05-07T19:06:52.946263Z",
     "shell.execute_reply.started": "2025-05-07T19:06:52.942775Z"
    }
   },
   "outputs": [],
   "source": [
    "qd_wl = WardLoughDepletion(T,T2,S,S2,width,Q,\n",
    "                            dist,streambed_thick,streambed_K,\n",
    "                            aquitard_thick, aquitard_K, time)\n"
   ]
  },
  {
   "cell_type": "code",
   "execution_count": null,
   "id": "c437d7fc-915f-46d6-8f91-6517d5b4fd25",
   "metadata": {
    "execution": {
     "iopub.execute_input": "2025-05-07T19:06:52.947068Z",
     "iopub.status.busy": "2025-05-07T19:06:52.946991Z",
     "iopub.status.idle": "2025-05-07T19:06:52.989292Z",
     "shell.execute_reply": "2025-05-07T19:06:52.989042Z",
     "shell.execute_reply.started": "2025-05-07T19:06:52.947060Z"
    }
   },
   "outputs": [],
   "source": [
    "plt.plot(time,qd_wl)"
   ]
  },
  {
   "cell_type": "markdown",
   "id": "8fbdbeac-5c1b-4754-b433-636662ecdeec",
   "metadata": {},
   "source": [
    "# Higher Level Classes"
   ]
  },
  {
   "cell_type": "code",
   "execution_count": null,
   "id": "c88d30a7",
   "metadata": {},
   "outputs": [],
   "source": [
    "from pycap.wells import Well"
   ]
  },
  {
   "cell_type": "code",
   "execution_count": null,
   "id": "7610ab8b",
   "metadata": {},
   "outputs": [],
   "source": [
    "well_pending = Well('pending',T=T, S=S, Q=Q, depletion_years = 5, \n",
    "            depl_pump_time=time.max(),\n",
    "            stream_dist={'river_synthetica':dist},\n",
    "            stream_apportionment={'river_synthetica':0.7},\n",
    "            depl_method='glover')"
   ]
  },
  {
   "cell_type": "code",
   "execution_count": null,
   "id": "9f1dbdf5",
   "metadata": {},
   "outputs": [],
   "source": [
    "well_pending.depletion"
   ]
  },
  {
   "cell_type": "code",
   "execution_count": null,
   "id": "73f102df",
   "metadata": {},
   "outputs": [],
   "source": [
    "Q"
   ]
  },
  {
   "cell_type": "code",
   "execution_count": null,
   "id": "943375a4",
   "metadata": {},
   "outputs": [],
   "source": []
  }
 ],
 "metadata": {
  "kernelspec": {
   "display_name": "hca",
   "language": "python",
   "name": "python3"
  },
  "language_info": {
   "codemirror_mode": {
    "name": "ipython",
    "version": 3
   },
   "file_extension": ".py",
   "mimetype": "text/x-python",
   "name": "python",
   "nbconvert_exporter": "python",
   "pygments_lexer": "ipython3",
   "version": "3.11.9"
  }
 },
 "nbformat": 4,
 "nbformat_minor": 5
}
