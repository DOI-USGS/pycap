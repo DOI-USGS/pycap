{
 "cells": [
  {
   "cell_type": "code",
   "execution_count": null,
   "id": "0a9ca7be",
   "metadata": {},
   "outputs": [],
   "source": [
    "import pandas as pd\n",
    "import numpy as np\n",
    "import pathlib as pl\n",
    "import matplotlib.pyplot as plt\n",
    "import sys\n",
    "sys.path.append('../dependencies/')\n",
    "import pyemu\n",
    "from matplotlib.backends.backend_pdf import PdfPages"
   ]
  },
  {
   "cell_type": "code",
   "execution_count": null,
   "id": "9d93f19e",
   "metadata": {},
   "outputs": [],
   "source": [
    "wkdir = pl.Path('./MASTER/')"
   ]
  },
  {
   "cell_type": "markdown",
   "id": "7a796471",
   "metadata": {},
   "source": [
    "### look at the raw PHI historgrams"
   ]
  },
  {
   "cell_type": "code",
   "execution_count": null,
   "id": "6ea55e82",
   "metadata": {},
   "outputs": [],
   "source": [
    "phi = pd.read_csv(wkdir/ 'prior_mc.phi.actual.csv', index_col = 0).T.iloc[5:]\n",
    "phi_org = phi.copy()\n",
    "phi.columns = ['phi']"
   ]
  },
  {
   "cell_type": "code",
   "execution_count": null,
   "id": "7d4a2453",
   "metadata": {},
   "outputs": [],
   "source": [
    "phi.hist(bins=50)"
   ]
  },
  {
   "cell_type": "markdown",
   "id": "0f2532e8",
   "metadata": {},
   "source": [
    "### rejection sampling - knock out high PHI realizations"
   ]
  },
  {
   "cell_type": "code",
   "execution_count": null,
   "id": "2837c6fb",
   "metadata": {},
   "outputs": [],
   "source": [
    "phitoohigh = 8\n",
    "phi = phi.loc[phi.phi<phitoohigh]\n",
    "phi.hist(bins=50)"
   ]
  },
  {
   "cell_type": "code",
   "execution_count": null,
   "id": "a9ad4acd",
   "metadata": {},
   "outputs": [],
   "source": [
    "reals_to_keep = phi.index\n",
    "reject_reals = list(set(phi_org.index)-set(reals_to_keep)) # we want these to be able to look at the outliers\n",
    "len(reals_to_keep)"
   ]
  },
  {
   "cell_type": "code",
   "execution_count": null,
   "id": "a396e839",
   "metadata": {},
   "outputs": [],
   "source": [
    "reject_reals"
   ]
  },
  {
   "cell_type": "markdown",
   "id": "4984d473",
   "metadata": {},
   "source": [
    "## let's look first at the observations ensemble"
   ]
  },
  {
   "cell_type": "code",
   "execution_count": null,
   "id": "4f7d337e",
   "metadata": {},
   "outputs": [],
   "source": [
    "obs = pd.read_csv(wkdir / 'prior_mc.0.obs.csv', index_col=0).loc[reals_to_keep] # only keep \"good\" reals"
   ]
  },
  {
   "cell_type": "code",
   "execution_count": null,
   "id": "b717187d",
   "metadata": {},
   "outputs": [],
   "source": [
    "obs"
   ]
  },
  {
   "cell_type": "markdown",
   "id": "39c14c9e",
   "metadata": {},
   "source": [
    "### parse into Time series and Maximum depletion groups"
   ]
  },
  {
   "cell_type": "code",
   "execution_count": null,
   "id": "d0e3f508",
   "metadata": {},
   "outputs": [],
   "source": [
    "ts_obs = obs[[i for i in obs.columns if not i.endswith(':bdpl')]]\n",
    "bdpl_obs = obs[[i for i in obs.columns if i.endswith(':bdpl')]]\n"
   ]
  },
  {
   "cell_type": "markdown",
   "id": "5932a10f",
   "metadata": {},
   "source": [
    "### plot up the time series"
   ]
  },
  {
   "cell_type": "code",
   "execution_count": null,
   "id": "c6d2aff3",
   "metadata": {},
   "outputs": [],
   "source": [
    "ts_lox = np.unique([i.split('__')[0] for i in ts_obs.columns])"
   ]
  },
  {
   "cell_type": "code",
   "execution_count": null,
   "id": "792d5fbe",
   "metadata": {},
   "outputs": [],
   "source": [
    "ts_lox"
   ]
  },
  {
   "cell_type": "code",
   "execution_count": null,
   "id": "266ab885",
   "metadata": {},
   "outputs": [],
   "source": [
    "for cts in ts_lox:\n",
    "    tmp = ts_obs[[i for i in ts_obs.columns if cts in i]].T.copy()\n",
    "    tmp['time'] = [int(i.split('__')[1]) for i in tmp.index]\n",
    "    tmp.set_index('time', drop=True, inplace=True)\n",
    "    plt.figure()\n",
    "    ax = tmp.plot(alpha=.4, c='k', lw=.1,legend=None)\n",
    "    tmp['base'].plot(c='r')\n",
    "    ax.set_title(cts)"
   ]
  },
  {
   "cell_type": "markdown",
   "id": "52fd4edd",
   "metadata": {},
   "source": [
    "### histograms for the max depletion obs"
   ]
  },
  {
   "cell_type": "code",
   "execution_count": null,
   "id": "f74c29c6",
   "metadata": {},
   "outputs": [],
   "source": [
    "bdpl_obs = bdpl_obs.T"
   ]
  },
  {
   "cell_type": "code",
   "execution_count": null,
   "id": "fa1fc67c",
   "metadata": {},
   "outputs": [],
   "source": [
    "with PdfPages('base_dep.pdf') as outpdf:\n",
    "    numpages = int(np.ceil(len(bdpl_obs)/9))\n",
    "    for i in range(numpages):\n",
    "        bdpl_obs.loc[bdpl_obs.index[i*9:(i+1)*9]].T.hist(figsize=(8,8))\n",
    "        plt.tight_layout()\n",
    "        outpdf.savefig()\n",
    "        plt.close('all')"
   ]
  },
  {
   "cell_type": "markdown",
   "id": "3e55a5ec",
   "metadata": {},
   "source": [
    "### now let's check out the parameters"
   ]
  },
  {
   "cell_type": "code",
   "execution_count": null,
   "id": "82c956dd",
   "metadata": {},
   "outputs": [],
   "source": [
    "pars = pd.read_csv(wkdir / 'prior_mc.0.par.csv', index_col=0)\n",
    "pars_keep = pars.loc[reals_to_keep].T\n",
    "pars_reject = pars.loc[reject_reals].T"
   ]
  },
  {
   "cell_type": "code",
   "execution_count": null,
   "id": "bb5cd649",
   "metadata": {},
   "outputs": [],
   "source": [
    "with PdfPages('pars_kept.pdf') as outpdf:\n",
    "    numpages = int(np.ceil(len(pars_keep)/9))\n",
    "    for i in range(numpages):\n",
    "        pars_keep.loc[pars_keep.index[i*9:(i+1)*9]].T.hist(figsize=(8,8))\n",
    "        plt.tight_layout()\n",
    "        outpdf.savefig()\n",
    "        plt.close('all')"
   ]
  },
  {
   "cell_type": "code",
   "execution_count": null,
   "id": "4cccd17b",
   "metadata": {},
   "outputs": [],
   "source": [
    "with PdfPages('pars_reject.pdf') as outpdf:\n",
    "    numpages = int(np.ceil(len(pars_keep)/9))\n",
    "    for i in range(numpages):\n",
    "        pars_reject.loc[pars_reject.index[i*9:(i+1)*9]].T.hist(figsize=(8,8))\n",
    "        plt.tight_layout()\n",
    "        outpdf.savefig()\n",
    "        plt.close('all')"
   ]
  },
  {
   "cell_type": "code",
   "execution_count": null,
   "id": "ba796b3a",
   "metadata": {},
   "outputs": [],
   "source": []
  }
 ],
 "metadata": {
  "kernelspec": {
   "display_name": "hca",
   "language": "python",
   "name": "python3"
  }
 },
 "nbformat": 4,
 "nbformat_minor": 5
}
