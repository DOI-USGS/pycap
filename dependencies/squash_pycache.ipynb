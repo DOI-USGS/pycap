{
 "cells": [
  {
   "cell_type": "code",
   "execution_count": 1,
   "id": "93c6ff80",
   "metadata": {},
   "outputs": [],
   "source": [
    "import os, shutil, glob"
   ]
  },
  {
   "cell_type": "code",
   "execution_count": 2,
   "id": "c6a9c4ac",
   "metadata": {},
   "outputs": [],
   "source": [
    "cdir = './flopy'"
   ]
  },
  {
   "cell_type": "code",
   "execution_count": 3,
   "id": "eb345cbb",
   "metadata": {},
   "outputs": [
    {
     "name": "stdout",
     "output_type": "stream",
     "text": [
      "./flopy/pest/__pycache__\n",
      "./flopy/modflow/__pycache__\n",
      "./flopy/plot/mplstyle\n",
      "./flopy/plot/__pycache__\n",
      "./flopy/utils/__pycache__\n",
      "./flopy/mf6/modflow/__pycache__\n",
      "./flopy/mf6/coordinates/__pycache__\n",
      "./flopy/mf6/utils/__pycache__\n",
      "./flopy/mf6/data/dfn\n",
      "./flopy/mf6/data/__pycache__\n",
      "./flopy/mf6/modflow\n",
      "./flopy/mf6/coordinates\n",
      "./flopy/mf6/utils\n",
      "./flopy/mf6/__pycache__\n",
      "./flopy/mf6/data\n",
      "./flopy/modpath/__pycache__\n",
      "./flopy/seawat/__pycache__\n",
      "./flopy/mfusg/__pycache__\n",
      "./flopy/discretization/__pycache__\n",
      "./flopy/export/__pycache__\n",
      "./flopy/modflowlgr/__pycache__\n",
      "./flopy/mt3d/__pycache__\n",
      "./flopy/pest\n",
      "./flopy/modflow\n",
      "./flopy/plot\n",
      "./flopy/utils\n",
      "./flopy/__pycache__\n",
      "./flopy/mf6\n",
      "./flopy/modpath\n",
      "./flopy/seawat\n",
      "./flopy/mfusg\n",
      "./flopy/discretization\n",
      "./flopy/export\n",
      "./flopy/modflowlgr\n",
      "./flopy/mt3d\n"
     ]
    }
   ],
   "source": [
    "for root, dirs, files in os.walk(cdir, topdown=False):\n",
    "    for name in dirs:\n",
    "        print(os.path.join(root, name))"
   ]
  },
  {
   "cell_type": "code",
   "execution_count": 4,
   "id": "23d748d7",
   "metadata": {},
   "outputs": [],
   "source": [
    "for root, dirs, files in os.walk(cdir, topdown=False):\n",
    "    for name in dirs:\n",
    "#        print(os.path.join(root, name))\n",
    "        if '__pycache__' in name:\n",
    "            shutil.rmtree(os.path.join(root,name))"
   ]
  },
  {
   "cell_type": "code",
   "execution_count": 5,
   "id": "c07c228f",
   "metadata": {},
   "outputs": [
    {
     "name": "stdout",
     "output_type": "stream",
     "text": [
      "./flopy/plot/mplstyle\n",
      "./flopy/mf6/data/dfn\n",
      "./flopy/mf6/modflow\n",
      "./flopy/mf6/coordinates\n",
      "./flopy/mf6/utils\n",
      "./flopy/mf6/data\n",
      "./flopy/pest\n",
      "./flopy/modflow\n",
      "./flopy/plot\n",
      "./flopy/utils\n",
      "./flopy/mf6\n",
      "./flopy/modpath\n",
      "./flopy/seawat\n",
      "./flopy/mfusg\n",
      "./flopy/discretization\n",
      "./flopy/export\n",
      "./flopy/modflowlgr\n",
      "./flopy/mt3d\n"
     ]
    }
   ],
   "source": [
    "for root, dirs, files in os.walk(cdir, topdown=False):\n",
    "    for name in dirs:\n",
    "        print(os.path.join(root, name))"
   ]
  },
  {
   "cell_type": "code",
   "execution_count": null,
   "id": "b18eadbd",
   "metadata": {},
   "outputs": [],
   "source": []
  },
  {
   "cell_type": "code",
   "execution_count": null,
   "id": "cd566d0f",
   "metadata": {},
   "outputs": [],
   "source": []
  }
 ],
 "metadata": {
  "kernelspec": {
   "display_name": "Python 3 (ipykernel)",
   "language": "python",
   "name": "python3"
  },
  "language_info": {
   "codemirror_mode": {
    "name": "ipython",
    "version": 3
   },
   "file_extension": ".py",
   "mimetype": "text/x-python",
   "name": "python",
   "nbconvert_exporter": "python",
   "pygments_lexer": "ipython3",
   "version": "3.11.8"
  }
 },
 "nbformat": 4,
 "nbformat_minor": 5
}
