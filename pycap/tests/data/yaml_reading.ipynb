{
 "cells": [
  {
   "cell_type": "code",
   "execution_count": 11,
   "id": "2f905d98",
   "metadata": {},
   "outputs": [],
   "source": [
    "import yaml"
   ]
  },
  {
   "cell_type": "code",
   "execution_count": 12,
   "id": "018bfa6e",
   "metadata": {},
   "outputs": [],
   "source": [
    "with open(\"example.yml\") as ifp:\n",
    "    c = yaml.safe_load(ifp)"
   ]
  },
  {
   "cell_type": "code",
   "execution_count": 13,
   "id": "137c0025",
   "metadata": {},
   "outputs": [
    {
     "data": {
      "text/plain": [
       "{'project_properties': {'name': 'newcafo',\n",
       "  'T': 10.0,\n",
       "  'S': 0.01,\n",
       "  'default_dd_time': 30,\n",
       "  'default_depletion_time': 5,\n",
       "  'default_pump_duration': 30},\n",
       " 'well1': {'name': 'new1',\n",
       "  'status': 'pending',\n",
       "  'loc': {'x': 500, 'y': 20},\n",
       "  'Q': 150,\n",
       "  'dd_time': 30,\n",
       "  'stream_apportionment1': {'name': 'Upp Creek', 'apportionment': 0.8},\n",
       "  'stream_apportionment2': {'name': 'no paddle', 'apportionment': 0.2},\n",
       "  'dd_response': ['ex1', 'ex2'],\n",
       "  'stream_response': ['Upp Creek', 'no paddle']},\n",
       " 'wellsadfasdfasdf': {'name': 'new2',\n",
       "  'status': 'pending',\n",
       "  'loc': {'x': 509, 'y': 201},\n",
       "  'Q': 120,\n",
       "  'dd_time': 30,\n",
       "  'stream_apportionment1': {'name': 'no paddle', 'apportionment': 0.4},\n",
       "  'stream_apportionment2': {'apportionment': 0.6, 'name': 'Upp Creek'},\n",
       "  'dd_response': ['ex1'],\n",
       "  'stream_response': ['Upp Creek', 'no paddle']},\n",
       " 'dd_response1': {'name': 'ex1', 'loc': {'x': 520, 'y': 100}},\n",
       " 'dd_response2': {'name': 'ex2', 'loc': {'x': 2402, 'y': 190}},\n",
       " 'stream_response1': {'name': 'Upp Creek', 'loc': {'x': 200, 'y': 29}},\n",
       " 'stream_response222222': {'name': 'no paddle', 'loc': {'x': 343, 'y': 99}}}"
      ]
     },
     "execution_count": 13,
     "metadata": {},
     "output_type": "execute_result"
    }
   ],
   "source": [
    "c"
   ]
  },
  {
   "cell_type": "code",
   "execution_count": 4,
   "id": "5f79a52c",
   "metadata": {},
   "outputs": [
    {
     "data": {
      "text/plain": [
       "343"
      ]
     },
     "execution_count": 4,
     "metadata": {},
     "output_type": "execute_result"
    }
   ],
   "source": [
    "c[\"stream_response222222\"][\"loc\"][\"x\"]"
   ]
  },
  {
   "cell_type": "code",
   "execution_count": 5,
   "id": "5682dd88",
   "metadata": {},
   "outputs": [
    {
     "data": {
      "text/plain": [
       "200"
      ]
     },
     "execution_count": 5,
     "metadata": {},
     "output_type": "execute_result"
    }
   ],
   "source": [
    "c[\"stream_response1\"][\"loc\"][\"x\"]"
   ]
  },
  {
   "cell_type": "code",
   "execution_count": 6,
   "id": "e76ebe5a",
   "metadata": {},
   "outputs": [
    {
     "data": {
      "text/plain": [
       "['stream_response1', 'stream_response222222']"
      ]
     },
     "execution_count": 6,
     "metadata": {},
     "output_type": "execute_result"
    }
   ],
   "source": [
    "[i for i in c.keys() if i.lower().startswith(\"stream\")]"
   ]
  },
  {
   "cell_type": "code",
   "execution_count": 7,
   "id": "a5ecbc74",
   "metadata": {},
   "outputs": [
    {
     "data": {
      "text/plain": [
       "['well1', 'wellsadfasdfasdf']"
      ]
     },
     "execution_count": 7,
     "metadata": {},
     "output_type": "execute_result"
    }
   ],
   "source": [
    "[i for i in c.keys() if i.lower().startswith(\"well\")]"
   ]
  },
  {
   "cell_type": "code",
   "execution_count": 8,
   "id": "3cf693df",
   "metadata": {},
   "outputs": [
    {
     "data": {
      "text/plain": [
       "['dd_response1', 'dd_response2']"
      ]
     },
     "execution_count": 8,
     "metadata": {},
     "output_type": "execute_result"
    }
   ],
   "source": [
    "[i for i in c.keys() if i.lower().startswith(\"dd\")]"
   ]
  },
  {
   "cell_type": "code",
   "execution_count": null,
   "id": "2a6b6e4c",
   "metadata": {},
   "outputs": [],
   "source": []
  },
  {
   "cell_type": "code",
   "execution_count": null,
   "id": "2c96b625",
   "metadata": {},
   "outputs": [],
   "source": []
  }
 ],
 "metadata": {
  "kernelspec": {
   "display_name": "Python 3 (ipykernel)",
   "language": "python",
   "name": "python3"
  },
  "language_info": {
   "codemirror_mode": {
    "name": "ipython",
    "version": 3
   },
   "file_extension": ".py",
   "mimetype": "text/x-python",
   "name": "python",
   "nbconvert_exporter": "python",
   "pygments_lexer": "ipython3",
   "version": "3.9.2"
  }
 },
 "nbformat": 4,
 "nbformat_minor": 5
}
