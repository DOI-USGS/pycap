{
 "cells": [
  {
   "cell_type": "markdown",
   "id": "90465e37-a1ad-4a68-9d16-c00d6594cee4",
   "metadata": {},
   "source": [
    "# Demonstration of WellResponse Class\n",
    "\n",
    "Notebook to demonstrate using the Well Class to \n",
    "estimate drawdown or stream depletion using the \n",
    "solutions available in the python module."
   ]
  },
  {
   "cell_type": "code",
   "execution_count": 1,
   "id": "95dbea60-dd79-408f-bb66-6bb84386187c",
   "metadata": {},
   "outputs": [],
   "source": [
    "import sys\n",
    "sys.path.insert(1, '../../')\n",
    "import pycap\n",
    "import matplotlib.pyplot as plt\n",
    "import numpy as np\n",
    "import pandas as pd"
   ]
  },
  {
   "cell_type": "markdown",
   "id": "a1ec807f-632c-49ff-a703-da6b757f05d5",
   "metadata": {},
   "source": [
    "# Example Depletion\n",
    "The Well class will estimate depletions for streams.  The stream distances and\n",
    "streambed conductances, if needed, are passed through dictionaries keyed by \n",
    "a stream name or ID.  In this notebook a table of values will be made manually from \n",
    "Table 2 from Reeves, H.W., Hamilton, D.A., Seelbach, P.W., and Asher, A.J., 2009, Ground-water-withdrawal component of the Michigan water-withdrawal screening tool: U.S. Geological Survey Scientific Investigations Report 2009–5003, 36 p.\n",
    "[https://pubs.usgs.gov/sir/2009/5003/]"
   ]
  },
  {
   "cell_type": "code",
   "execution_count": 2,
   "id": "4d858624-c165-413d-bcc4-3e74f5b6362b",
   "metadata": {},
   "outputs": [],
   "source": [
    "stream_table = pd.DataFrame(({'id': 8, 'distance': 14802},\n",
    "                            {'id': 9, 'distance': 12609.2},\n",
    "                            {'id': 11, 'distance': 15750.5},\n",
    "                            {'id': 27, 'distance': 22567.6},\n",
    "                            {'id': 9741, 'distance': 27565.2},\n",
    "                            {'id': 10532, 'distance': 33059.5},\n",
    "                            {'id': 11967, 'distance': 14846.3},\n",
    "                            {'id': 12515, 'distance': 17042.5},\n",
    "                            {'id': 12573, 'distance': 11959.5},\n",
    "                            {'id': 12941, 'distance': 19070.8},\n",
    "                            {'id': 13925, 'distance': 10028.9}))\n",
    "\n"
   ]
  },
  {
   "cell_type": "code",
   "execution_count": 3,
   "id": "449df4b2-def0-4e06-8b37-db85108d0a75",
   "metadata": {},
   "outputs": [
    {
     "data": {
      "text/html": [
       "<div>\n",
       "<style scoped>\n",
       "    .dataframe tbody tr th:only-of-type {\n",
       "        vertical-align: middle;\n",
       "    }\n",
       "\n",
       "    .dataframe tbody tr th {\n",
       "        vertical-align: top;\n",
       "    }\n",
       "\n",
       "    .dataframe thead th {\n",
       "        text-align: right;\n",
       "    }\n",
       "</style>\n",
       "<table border=\"1\" class=\"dataframe\">\n",
       "  <thead>\n",
       "    <tr style=\"text-align: right;\">\n",
       "      <th></th>\n",
       "      <th>id</th>\n",
       "      <th>distance</th>\n",
       "    </tr>\n",
       "  </thead>\n",
       "  <tbody>\n",
       "    <tr>\n",
       "      <th>0</th>\n",
       "      <td>8</td>\n",
       "      <td>14802.0</td>\n",
       "    </tr>\n",
       "    <tr>\n",
       "      <th>1</th>\n",
       "      <td>9</td>\n",
       "      <td>12609.2</td>\n",
       "    </tr>\n",
       "    <tr>\n",
       "      <th>2</th>\n",
       "      <td>11</td>\n",
       "      <td>15750.5</td>\n",
       "    </tr>\n",
       "    <tr>\n",
       "      <th>3</th>\n",
       "      <td>27</td>\n",
       "      <td>22567.6</td>\n",
       "    </tr>\n",
       "    <tr>\n",
       "      <th>4</th>\n",
       "      <td>9741</td>\n",
       "      <td>27565.2</td>\n",
       "    </tr>\n",
       "  </tbody>\n",
       "</table>\n",
       "</div>"
      ],
      "text/plain": [
       "     id  distance\n",
       "0     8   14802.0\n",
       "1     9   12609.2\n",
       "2    11   15750.5\n",
       "3    27   22567.6\n",
       "4  9741   27565.2"
      ]
     },
     "execution_count": 3,
     "metadata": {},
     "output_type": "execute_result"
    }
   ],
   "source": [
    "stream_table.head()"
   ]
  },
  {
   "cell_type": "markdown",
   "id": "75c27baa-391a-4ee3-95c6-0ab52c1f06e4",
   "metadata": {},
   "source": [
    "# Compute apportionment\n",
    "\n",
    "The Michigan screening tool uses inverse distance weighting apportionment.  Other\n",
    "apportionment approaches that may be used as a simple way to extend the analytical\n",
    "solution are discussed by Zipper and others (2019).  [https://agupubs.onlinelibrary.wiley.com/doi/10.1029/2018WR024403]"
   ]
  },
  {
   "cell_type": "code",
   "execution_count": 4,
   "id": "cd49a471-83e2-403a-9695-5b315eedbcd2",
   "metadata": {},
   "outputs": [],
   "source": [
    "sum_dist = np.sum(stream_table['distance'].values)\n",
    "stream_table['apportionment'] = stream_table['distance']/sum_dist"
   ]
  },
  {
   "cell_type": "code",
   "execution_count": 5,
   "id": "ba408c90-1c58-4ac0-a56b-bc568b048810",
   "metadata": {},
   "outputs": [
    {
     "data": {
      "text/html": [
       "<div>\n",
       "<style scoped>\n",
       "    .dataframe tbody tr th:only-of-type {\n",
       "        vertical-align: middle;\n",
       "    }\n",
       "\n",
       "    .dataframe tbody tr th {\n",
       "        vertical-align: top;\n",
       "    }\n",
       "\n",
       "    .dataframe thead th {\n",
       "        text-align: right;\n",
       "    }\n",
       "</style>\n",
       "<table border=\"1\" class=\"dataframe\">\n",
       "  <thead>\n",
       "    <tr style=\"text-align: right;\">\n",
       "      <th></th>\n",
       "      <th>id</th>\n",
       "      <th>distance</th>\n",
       "      <th>apportionment</th>\n",
       "    </tr>\n",
       "  </thead>\n",
       "  <tbody>\n",
       "    <tr>\n",
       "      <th>0</th>\n",
       "      <td>8</td>\n",
       "      <td>14802.0</td>\n",
       "      <td>0.074269</td>\n",
       "    </tr>\n",
       "    <tr>\n",
       "      <th>1</th>\n",
       "      <td>9</td>\n",
       "      <td>12609.2</td>\n",
       "      <td>0.063267</td>\n",
       "    </tr>\n",
       "    <tr>\n",
       "      <th>2</th>\n",
       "      <td>11</td>\n",
       "      <td>15750.5</td>\n",
       "      <td>0.079028</td>\n",
       "    </tr>\n",
       "    <tr>\n",
       "      <th>3</th>\n",
       "      <td>27</td>\n",
       "      <td>22567.6</td>\n",
       "      <td>0.113233</td>\n",
       "    </tr>\n",
       "    <tr>\n",
       "      <th>4</th>\n",
       "      <td>9741</td>\n",
       "      <td>27565.2</td>\n",
       "      <td>0.138309</td>\n",
       "    </tr>\n",
       "  </tbody>\n",
       "</table>\n",
       "</div>"
      ],
      "text/plain": [
       "     id  distance  apportionment\n",
       "0     8   14802.0       0.074269\n",
       "1     9   12609.2       0.063267\n",
       "2    11   15750.5       0.079028\n",
       "3    27   22567.6       0.113233\n",
       "4  9741   27565.2       0.138309"
      ]
     },
     "execution_count": 5,
     "metadata": {},
     "output_type": "execute_result"
    }
   ],
   "source": [
    "stream_table.head()"
   ]
  },
  {
   "cell_type": "code",
   "execution_count": 6,
   "id": "853cb92d-6873-48a0-a622-64678d024494",
   "metadata": {},
   "outputs": [
    {
     "data": {
      "text/plain": [
       "np.float64(1.0000000000000002)"
      ]
     },
     "execution_count": 6,
     "metadata": {},
     "output_type": "execute_result"
    }
   ],
   "source": [
    "np.sum(stream_table['apportionment'])"
   ]
  },
  {
   "cell_type": "markdown",
   "id": "479dcb70-36b1-4cab-968e-1e7e785c05ee",
   "metadata": {},
   "source": [
    "make dictionaries from the distances and apportionment values"
   ]
  },
  {
   "cell_type": "code",
   "execution_count": 7,
   "id": "060425be-8fef-4fdb-ada6-f08cfcfd9c98",
   "metadata": {},
   "outputs": [],
   "source": [
    "distances = dict(zip(stream_table.id.values, stream_table.distance.values))"
   ]
  },
  {
   "cell_type": "code",
   "execution_count": 8,
   "id": "eabbb8d3-9263-4cc6-9195-1c89ce5c8557",
   "metadata": {},
   "outputs": [],
   "source": [
    "apportion = dict(zip(stream_table.id.values, stream_table.apportionment.values))"
   ]
  },
  {
   "cell_type": "markdown",
   "id": "478737c3-0e68-46a6-976b-eacf47820223",
   "metadata": {},
   "source": [
    "# set aquifer properties and streambed conductances"
   ]
  },
  {
   "cell_type": "code",
   "execution_count": 9,
   "id": "4010787c-a172-4366-92c9-2d56791c7ee0",
   "metadata": {},
   "outputs": [],
   "source": [
    "stream_table = pd.DataFrame(({'id': 8, 'distance': 14802},\n",
    "                            {'id': 9, 'distance': 12609.2},\n",
    "                            {'id': 11, 'distance': 15750.5},\n",
    "                            {'id': 27, 'distance': 22567.6},\n",
    "                            {'id': 9741, 'distance': 27565.2},\n",
    "                            {'id': 10532, 'distance': 33059.5},\n",
    "                            {'id': 11967, 'distance': 14846.3},\n",
    "                            {'id': 12515, 'distance': 17042.5},\n",
    "                            {'id': 12573, 'distance': 11959.5},\n",
    "                            {'id': 12941, 'distance': 19070.8},\n",
    "                            {'id': 13925, 'distance': 10028.9}))"
   ]
  },
  {
   "cell_type": "code",
   "execution_count": 12,
   "id": "6de231c4-280f-4351-a6c5-d4dc939b9777",
   "metadata": {},
   "outputs": [],
   "source": [
    "T= 7211.  # ft^2/day\n",
    "S= 0.01\n",
    "Q = 70  # 70 gpm in cubic feet per day\n",
    "well_name = 'demo'\n",
    "pumpdays = int(5. * 365)"
   ]
  },
  {
   "cell_type": "markdown",
   "id": "c9aef4c4-3ab7-4fa2-9f4c-69955c054733",
   "metadata": {},
   "source": [
    "## call a utility to convert Q to a series with appropriate formatting\n",
    "\n",
    "the utility also converts to CFD from GPM"
   ]
  },
  {
   "cell_type": "code",
   "execution_count": 13,
   "id": "00d5ddce-a8e5-4343-b35a-e9fc73c58520",
   "metadata": {},
   "outputs": [],
   "source": [
    "Q = pycap.Q2ts(pumpdays, 5, Q)"
   ]
  },
  {
   "cell_type": "code",
   "execution_count": 14,
   "id": "0686c301-9569-436e-8e9d-fea657deae7f",
   "metadata": {},
   "outputs": [
    {
     "data": {
      "text/plain": [
       "1       13475.935829\n",
       "2       13475.935829\n",
       "3       13475.935829\n",
       "4       13475.935829\n",
       "5       13475.935829\n",
       "            ...     \n",
       "1821    13475.935829\n",
       "1822    13475.935829\n",
       "1823    13475.935829\n",
       "1824    13475.935829\n",
       "1825    13475.935829\n",
       "Length: 1825, dtype: float64"
      ]
     },
     "execution_count": 14,
     "metadata": {},
     "output_type": "execute_result"
    }
   ],
   "source": [
    "Q"
   ]
  },
  {
   "cell_type": "code",
   "execution_count": 15,
   "id": "be2435a8-bf30-4ceb-b9f4-8b0f94ac927f",
   "metadata": {},
   "outputs": [],
   "source": [
    "stream_table['conductance'] = np.array([200.051, 414.302, 193.671, 180.88, 324.59300000000, 680.98300000000, 569.48400000000,\n",
    "                               194.03500000000, 396.06600000000, 118.20700000000, 73.68700000000])/80."
   ]
  },
  {
   "cell_type": "code",
   "execution_count": 16,
   "id": "c4d10dca-be43-4292-b3d5-3705669a7975",
   "metadata": {},
   "outputs": [
    {
     "data": {
      "text/html": [
       "<div>\n",
       "<style scoped>\n",
       "    .dataframe tbody tr th:only-of-type {\n",
       "        vertical-align: middle;\n",
       "    }\n",
       "\n",
       "    .dataframe tbody tr th {\n",
       "        vertical-align: top;\n",
       "    }\n",
       "\n",
       "    .dataframe thead th {\n",
       "        text-align: right;\n",
       "    }\n",
       "</style>\n",
       "<table border=\"1\" class=\"dataframe\">\n",
       "  <thead>\n",
       "    <tr style=\"text-align: right;\">\n",
       "      <th></th>\n",
       "      <th>id</th>\n",
       "      <th>distance</th>\n",
       "      <th>conductance</th>\n",
       "    </tr>\n",
       "  </thead>\n",
       "  <tbody>\n",
       "    <tr>\n",
       "      <th>0</th>\n",
       "      <td>8</td>\n",
       "      <td>14802.0</td>\n",
       "      <td>2.500637</td>\n",
       "    </tr>\n",
       "    <tr>\n",
       "      <th>1</th>\n",
       "      <td>9</td>\n",
       "      <td>12609.2</td>\n",
       "      <td>5.178775</td>\n",
       "    </tr>\n",
       "    <tr>\n",
       "      <th>2</th>\n",
       "      <td>11</td>\n",
       "      <td>15750.5</td>\n",
       "      <td>2.420888</td>\n",
       "    </tr>\n",
       "    <tr>\n",
       "      <th>3</th>\n",
       "      <td>27</td>\n",
       "      <td>22567.6</td>\n",
       "      <td>2.261000</td>\n",
       "    </tr>\n",
       "    <tr>\n",
       "      <th>4</th>\n",
       "      <td>9741</td>\n",
       "      <td>27565.2</td>\n",
       "      <td>4.057412</td>\n",
       "    </tr>\n",
       "  </tbody>\n",
       "</table>\n",
       "</div>"
      ],
      "text/plain": [
       "     id  distance  conductance\n",
       "0     8   14802.0     2.500637\n",
       "1     9   12609.2     5.178775\n",
       "2    11   15750.5     2.420888\n",
       "3    27   22567.6     2.261000\n",
       "4  9741   27565.2     4.057412"
      ]
     },
     "execution_count": 16,
     "metadata": {},
     "output_type": "execute_result"
    }
   ],
   "source": [
    "stream_table.head()"
   ]
  },
  {
   "cell_type": "code",
   "execution_count": 17,
   "id": "8e925f15-7afe-4a7e-bf52-65aa41149de7",
   "metadata": {},
   "outputs": [],
   "source": [
    "cond = dict(zip(stream_table.id.values, stream_table.conductance.values))"
   ]
  },
  {
   "cell_type": "code",
   "execution_count": 18,
   "id": "8ba31012-76ab-4c1e-9e16-be545dce05b2",
   "metadata": {},
   "outputs": [],
   "source": [
    "test_well = pycap.Well(T=T,\n",
    "                 S=S,\n",
    "                 Q=Q,\n",
    "                 depletion_years=5,\n",
    "                 depl_method='hunt99',\n",
    "                 streambed_conductance=cond,\n",
    "                 stream_dist=distances,\n",
    "                 stream_apportionment=apportion)"
   ]
  },
  {
   "cell_type": "code",
   "execution_count": 19,
   "id": "3d13cdfa-02b2-4605-a916-f26398696292",
   "metadata": {},
   "outputs": [
    {
     "data": {
      "text/plain": [
       "1    13475.935829\n",
       "dtype: float64"
      ]
     },
     "execution_count": 19,
     "metadata": {},
     "output_type": "execute_result"
    }
   ],
   "source": [
    "deltaQ = pycap._calc_deltaQ(Q)\n",
    "deltaQ"
   ]
  },
  {
   "cell_type": "code",
   "execution_count": 20,
   "id": "06bbd502-45ad-490b-ac65-d8d2989363d8",
   "metadata": {},
   "outputs": [
    {
     "name": "stderr",
     "output_type": "stream",
     "text": [
      "c:\\Home-Local\\pycap\\source\\examples\\../..\\pycap\\solutions.py:558: RuntimeWarning: divide by zero encountered in divide\n",
      "  a = np.sqrt(S * dist**2 / (4.0 * T * time))\n"
     ]
    },
    {
     "data": {
      "text/plain": [
       "{np.int64(8): array([0.00000000e+00, 1.25358594e-38, 1.07003823e-21, ...,\n",
       "        7.99669021e-03, 7.99761056e-03, 7.99853019e-03], shape=(1825,)),\n",
       " np.int64(9): array([0.00000000e+00, 3.31995363e-29, 8.23422835e-17, ...,\n",
       "        7.54212679e-03, 7.54274389e-03, 7.54336049e-03], shape=(1825,)),\n",
       " np.int64(11): array([0.00000000e+00, 4.95920323e-43, 6.45276083e-24, ...,\n",
       "        8.31128705e-03, 8.31231014e-03, 8.31333245e-03], shape=(1825,)),\n",
       " np.int64(27): array([0.00000000e+00, 1.53027500e-82, 9.33445162e-44, ...,\n",
       "        1.01633853e-02, 1.01652072e-02, 1.01670278e-02], shape=(1825,)),\n",
       " np.int64(9741): array([0.00000000e+000, 4.24127261e-120, 1.87831469e-062, ...,\n",
       "        1.17525717e-002, 1.17549405e-002, 1.17573076e-002], shape=(1825,)),\n",
       " np.int64(10532): array([0.00000000e+000, 5.17752884e-170, 2.70879966e-087, ...,\n",
       "        1.28848932e-002, 1.28879400e-002, 1.28909846e-002], shape=(1825,)),\n",
       " np.int64(11967): array([0.00000000e+00, 2.19107381e-38, 2.28636967e-21, ...,\n",
       "        8.62391038e-03, 8.62470136e-03, 8.62549171e-03], shape=(1825,)),\n",
       " np.int64(12515): array([0.00000000e+00, 1.92409513e-49, 3.88698435e-27, ...,\n",
       "        8.75229337e-03, 8.75345356e-03, 8.75461287e-03], shape=(1825,)),\n",
       " np.int64(12573): array([0.00000000e+00, 8.44540285e-27, 1.31313882e-15, ...,\n",
       "        7.22648215e-03, 7.22704904e-03, 7.22761548e-03], shape=(1825,)),\n",
       " np.int64(12941): array([0.00000000e+00, 9.89364263e-61, 6.59058627e-33, ...,\n",
       "        8.67598042e-03, 8.67747315e-03, 8.67896482e-03], shape=(1825,)),\n",
       " np.int64(13925): array([0.00000000e+00, 4.70517419e-21, 4.74405713e-13, ...,\n",
       "        4.98081609e-03, 4.98148125e-03, 4.98214594e-03], shape=(1825,))}"
      ]
     },
     "execution_count": 20,
     "metadata": {},
     "output_type": "execute_result"
    }
   ],
   "source": [
    "test_well.depletion"
   ]
  },
  {
   "cell_type": "code",
   "execution_count": 21,
   "id": "45c8ee4e-0a96-4812-8503-0fab8a99b54f",
   "metadata": {},
   "outputs": [],
   "source": [
    "stream_depl = pd.DataFrame(test_well.depletion)"
   ]
  },
  {
   "cell_type": "markdown",
   "id": "ef9d8276-f8e6-4a99-b08b-8c4766feb941",
   "metadata": {},
   "source": [
    "## need to convert to GPM to compare results to Table 2"
   ]
  },
  {
   "cell_type": "code",
   "execution_count": 22,
   "id": "cb18d999-463a-4a7e-b3a8-9587b36a5d02",
   "metadata": {},
   "outputs": [],
   "source": [
    "stream_depl = stream_depl * 448.83116885"
   ]
  },
  {
   "cell_type": "code",
   "execution_count": 23,
   "id": "79602e05-ab9d-46b8-88be-7feaf90eb98f",
   "metadata": {},
   "outputs": [
    {
     "data": {
      "text/html": [
       "<div>\n",
       "<style scoped>\n",
       "    .dataframe tbody tr th:only-of-type {\n",
       "        vertical-align: middle;\n",
       "    }\n",
       "\n",
       "    .dataframe tbody tr th {\n",
       "        vertical-align: top;\n",
       "    }\n",
       "\n",
       "    .dataframe thead th {\n",
       "        text-align: right;\n",
       "    }\n",
       "</style>\n",
       "<table border=\"1\" class=\"dataframe\">\n",
       "  <thead>\n",
       "    <tr style=\"text-align: right;\">\n",
       "      <th></th>\n",
       "      <th>8</th>\n",
       "      <th>9</th>\n",
       "      <th>11</th>\n",
       "      <th>27</th>\n",
       "      <th>9741</th>\n",
       "      <th>10532</th>\n",
       "      <th>11967</th>\n",
       "      <th>12515</th>\n",
       "      <th>12573</th>\n",
       "      <th>12941</th>\n",
       "      <th>13925</th>\n",
       "    </tr>\n",
       "  </thead>\n",
       "  <tbody>\n",
       "    <tr>\n",
       "      <th>0</th>\n",
       "      <td>0.000000e+00</td>\n",
       "      <td>0.000000e+00</td>\n",
       "      <td>0.000000e+00</td>\n",
       "      <td>0.000000e+00</td>\n",
       "      <td>0.000000e+00</td>\n",
       "      <td>0.000000e+00</td>\n",
       "      <td>0.000000e+00</td>\n",
       "      <td>0.000000e+00</td>\n",
       "      <td>0.000000e+00</td>\n",
       "      <td>0.000000e+00</td>\n",
       "      <td>0.000000e+00</td>\n",
       "    </tr>\n",
       "    <tr>\n",
       "      <th>1</th>\n",
       "      <td>5.626484e-36</td>\n",
       "      <td>1.490099e-26</td>\n",
       "      <td>2.225845e-40</td>\n",
       "      <td>6.868351e-80</td>\n",
       "      <td>1.903615e-117</td>\n",
       "      <td>2.323836e-167</td>\n",
       "      <td>9.834222e-36</td>\n",
       "      <td>8.635939e-47</td>\n",
       "      <td>3.790560e-24</td>\n",
       "      <td>4.440575e-58</td>\n",
       "      <td>2.111829e-18</td>\n",
       "    </tr>\n",
       "    <tr>\n",
       "      <th>2</th>\n",
       "      <td>4.802665e-19</td>\n",
       "      <td>3.695778e-14</td>\n",
       "      <td>2.896200e-21</td>\n",
       "      <td>4.189593e-41</td>\n",
       "      <td>8.430462e-60</td>\n",
       "      <td>1.215794e-84</td>\n",
       "      <td>1.026194e-18</td>\n",
       "      <td>1.744600e-24</td>\n",
       "      <td>5.893776e-13</td>\n",
       "      <td>2.958061e-30</td>\n",
       "      <td>2.129281e-10</td>\n",
       "    </tr>\n",
       "    <tr>\n",
       "      <th>3</th>\n",
       "      <td>2.689067e-13</td>\n",
       "      <td>6.263964e-10</td>\n",
       "      <td>8.679513e-15</td>\n",
       "      <td>4.562716e-28</td>\n",
       "      <td>1.775652e-40</td>\n",
       "      <td>5.800727e-57</td>\n",
       "      <td>6.048305e-13</td>\n",
       "      <td>6.065673e-17</td>\n",
       "      <td>3.963026e-09</td>\n",
       "      <td>7.143521e-21</td>\n",
       "      <td>1.252784e-07</td>\n",
       "    </tr>\n",
       "    <tr>\n",
       "      <th>4</th>\n",
       "      <td>2.251477e-10</td>\n",
       "      <td>9.032354e-08</td>\n",
       "      <td>1.683464e-11</td>\n",
       "      <td>1.696089e-21</td>\n",
       "      <td>9.171113e-31</td>\n",
       "      <td>4.492188e-43</td>\n",
       "      <td>5.141865e-10</td>\n",
       "      <td>4.012408e-13</td>\n",
       "      <td>3.596457e-07</td>\n",
       "      <td>3.952945e-16</td>\n",
       "      <td>3.388312e-06</td>\n",
       "    </tr>\n",
       "    <tr>\n",
       "      <th>...</th>\n",
       "      <td>...</td>\n",
       "      <td>...</td>\n",
       "      <td>...</td>\n",
       "      <td>...</td>\n",
       "      <td>...</td>\n",
       "      <td>...</td>\n",
       "      <td>...</td>\n",
       "      <td>...</td>\n",
       "      <td>...</td>\n",
       "      <td>...</td>\n",
       "      <td>...</td>\n",
       "    </tr>\n",
       "    <tr>\n",
       "      <th>1820</th>\n",
       "      <td>3.588337e+00</td>\n",
       "      <td>3.384587e+00</td>\n",
       "      <td>3.729445e+00</td>\n",
       "      <td>4.560007e+00</td>\n",
       "      <td>5.272792e+00</td>\n",
       "      <td>5.780404e+00</td>\n",
       "      <td>3.869969e+00</td>\n",
       "      <td>3.927259e+00</td>\n",
       "      <td>3.242961e+00</td>\n",
       "      <td>3.892709e+00</td>\n",
       "      <td>2.234948e+00</td>\n",
       "    </tr>\n",
       "    <tr>\n",
       "      <th>1821</th>\n",
       "      <td>3.588750e+00</td>\n",
       "      <td>3.384864e+00</td>\n",
       "      <td>3.729905e+00</td>\n",
       "      <td>4.560826e+00</td>\n",
       "      <td>5.273857e+00</td>\n",
       "      <td>5.781773e+00</td>\n",
       "      <td>3.870324e+00</td>\n",
       "      <td>3.927781e+00</td>\n",
       "      <td>3.243216e+00</td>\n",
       "      <td>3.893380e+00</td>\n",
       "      <td>2.235247e+00</td>\n",
       "    </tr>\n",
       "    <tr>\n",
       "      <th>1822</th>\n",
       "      <td>3.589164e+00</td>\n",
       "      <td>3.385142e+00</td>\n",
       "      <td>3.730365e+00</td>\n",
       "      <td>4.561644e+00</td>\n",
       "      <td>5.274920e+00</td>\n",
       "      <td>5.783142e+00</td>\n",
       "      <td>3.870680e+00</td>\n",
       "      <td>3.928302e+00</td>\n",
       "      <td>3.243470e+00</td>\n",
       "      <td>3.894050e+00</td>\n",
       "      <td>2.235546e+00</td>\n",
       "    </tr>\n",
       "    <tr>\n",
       "      <th>1823</th>\n",
       "      <td>3.589577e+00</td>\n",
       "      <td>3.385419e+00</td>\n",
       "      <td>3.730824e+00</td>\n",
       "      <td>4.562462e+00</td>\n",
       "      <td>5.275984e+00</td>\n",
       "      <td>5.784509e+00</td>\n",
       "      <td>3.871035e+00</td>\n",
       "      <td>3.928823e+00</td>\n",
       "      <td>3.243725e+00</td>\n",
       "      <td>3.894720e+00</td>\n",
       "      <td>2.235844e+00</td>\n",
       "    </tr>\n",
       "    <tr>\n",
       "      <th>1824</th>\n",
       "      <td>3.589990e+00</td>\n",
       "      <td>3.385695e+00</td>\n",
       "      <td>3.731283e+00</td>\n",
       "      <td>4.563279e+00</td>\n",
       "      <td>5.277046e+00</td>\n",
       "      <td>5.785876e+00</td>\n",
       "      <td>3.871390e+00</td>\n",
       "      <td>3.929343e+00</td>\n",
       "      <td>3.243979e+00</td>\n",
       "      <td>3.895390e+00</td>\n",
       "      <td>2.236142e+00</td>\n",
       "    </tr>\n",
       "  </tbody>\n",
       "</table>\n",
       "<p>1825 rows × 11 columns</p>\n",
       "</div>"
      ],
      "text/plain": [
       "             8             9             11            27             9741   \\\n",
       "0     0.000000e+00  0.000000e+00  0.000000e+00  0.000000e+00   0.000000e+00   \n",
       "1     5.626484e-36  1.490099e-26  2.225845e-40  6.868351e-80  1.903615e-117   \n",
       "2     4.802665e-19  3.695778e-14  2.896200e-21  4.189593e-41   8.430462e-60   \n",
       "3     2.689067e-13  6.263964e-10  8.679513e-15  4.562716e-28   1.775652e-40   \n",
       "4     2.251477e-10  9.032354e-08  1.683464e-11  1.696089e-21   9.171113e-31   \n",
       "...            ...           ...           ...           ...            ...   \n",
       "1820  3.588337e+00  3.384587e+00  3.729445e+00  4.560007e+00   5.272792e+00   \n",
       "1821  3.588750e+00  3.384864e+00  3.729905e+00  4.560826e+00   5.273857e+00   \n",
       "1822  3.589164e+00  3.385142e+00  3.730365e+00  4.561644e+00   5.274920e+00   \n",
       "1823  3.589577e+00  3.385419e+00  3.730824e+00  4.562462e+00   5.275984e+00   \n",
       "1824  3.589990e+00  3.385695e+00  3.731283e+00  4.563279e+00   5.277046e+00   \n",
       "\n",
       "              10532         11967         12515         12573         12941  \\\n",
       "0      0.000000e+00  0.000000e+00  0.000000e+00  0.000000e+00  0.000000e+00   \n",
       "1     2.323836e-167  9.834222e-36  8.635939e-47  3.790560e-24  4.440575e-58   \n",
       "2      1.215794e-84  1.026194e-18  1.744600e-24  5.893776e-13  2.958061e-30   \n",
       "3      5.800727e-57  6.048305e-13  6.065673e-17  3.963026e-09  7.143521e-21   \n",
       "4      4.492188e-43  5.141865e-10  4.012408e-13  3.596457e-07  3.952945e-16   \n",
       "...             ...           ...           ...           ...           ...   \n",
       "1820   5.780404e+00  3.869969e+00  3.927259e+00  3.242961e+00  3.892709e+00   \n",
       "1821   5.781773e+00  3.870324e+00  3.927781e+00  3.243216e+00  3.893380e+00   \n",
       "1822   5.783142e+00  3.870680e+00  3.928302e+00  3.243470e+00  3.894050e+00   \n",
       "1823   5.784509e+00  3.871035e+00  3.928823e+00  3.243725e+00  3.894720e+00   \n",
       "1824   5.785876e+00  3.871390e+00  3.929343e+00  3.243979e+00  3.895390e+00   \n",
       "\n",
       "             13925  \n",
       "0     0.000000e+00  \n",
       "1     2.111829e-18  \n",
       "2     2.129281e-10  \n",
       "3     1.252784e-07  \n",
       "4     3.388312e-06  \n",
       "...            ...  \n",
       "1820  2.234948e+00  \n",
       "1821  2.235247e+00  \n",
       "1822  2.235546e+00  \n",
       "1823  2.235844e+00  \n",
       "1824  2.236142e+00  \n",
       "\n",
       "[1825 rows x 11 columns]"
      ]
     },
     "execution_count": 23,
     "metadata": {},
     "output_type": "execute_result"
    }
   ],
   "source": [
    "stream_depl"
   ]
  },
  {
   "cell_type": "code",
   "execution_count": null,
   "id": "7ad4a0b3-be39-4a3f-81f0-83701421be75",
   "metadata": {},
   "outputs": [],
   "source": []
  }
 ],
 "metadata": {
  "kernelspec": {
   "display_name": "Python 3 (ipykernel)",
   "language": "python",
   "name": "python3"
  },
  "language_info": {
   "codemirror_mode": {
    "name": "ipython",
    "version": 3
   },
   "file_extension": ".py",
   "mimetype": "text/x-python",
   "name": "python",
   "nbconvert_exporter": "python",
   "pygments_lexer": "ipython3",
   "version": "3.11.12"
  }
 },
 "nbformat": 4,
 "nbformat_minor": 5
}
