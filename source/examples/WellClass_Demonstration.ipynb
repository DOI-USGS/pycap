{
 "cells": [
  {
   "cell_type": "markdown",
   "id": "90465e37-a1ad-4a68-9d16-c00d6594cee4",
   "metadata": {},
   "source": [
    "# Demonstration of Well Class\n",
    "\n",
    "Notebook to demonstrate using the Well Class to \n",
    "estimate drawdown or stream depletion using the \n",
    "solutions available in the python module."
   ]
  },
  {
   "cell_type": "code",
   "execution_count": null,
   "id": "95dbea60-dd79-408f-bb66-6bb84386187c",
   "metadata": {},
   "outputs": [],
   "source": [
    "import sys\n",
    "sys.path.insert(1, '../../')\n",
    "import pycap\n",
    "import matplotlib.pyplot as plt\n",
    "import numpy as np\n",
    "import pandas as pd"
   ]
  },
  {
   "cell_type": "markdown",
   "id": "a1ec807f-632c-49ff-a703-da6b757f05d5",
   "metadata": {},
   "source": [
    "## Example Depletion\n",
    "The Well class will estimate depletions for streams.  The stream distances and\n",
    "streambed conductances, if needed, are passed through dictionaries keyed by \n",
    "a stream name or ID.  In this notebook a table of values will be made manually from \n",
    "Table 2 from Reeves, H.W., Hamilton, D.A., Seelbach, P.W., and Asher, A.J., 2009, Ground-water-withdrawal component of the Michigan water-withdrawal screening tool: U.S. Geological Survey Scientific Investigations Report 2009–5003, 36 p.\n",
    "[https://pubs.usgs.gov/sir/2009/5003/]"
   ]
  },
  {
   "cell_type": "code",
   "execution_count": null,
   "id": "4d858624-c165-413d-bcc4-3e74f5b6362b",
   "metadata": {},
   "outputs": [],
   "source": [
    "stream_table = pd.DataFrame(({'id': 8, 'distance': 14802},\n",
    "                            {'id': 9, 'distance': 12609.2},\n",
    "                            {'id': 11, 'distance': 15750.5},\n",
    "                            {'id': 27, 'distance': 22567.6},\n",
    "                            {'id': 9741, 'distance': 27565.2},\n",
    "                            {'id': 10532, 'distance': 33059.5},\n",
    "                            {'id': 11967, 'distance': 14846.3},\n",
    "                            {'id': 12515, 'distance': 17042.55},\n",
    "                            {'id': 12573, 'distance': 11959.5},\n",
    "                            {'id': 12941, 'distance': 19070.8},\n",
    "                            {'id': 13925, 'distance': 10028.9}))\n",
    "\n"
   ]
  },
  {
   "cell_type": "markdown",
   "id": "75c27baa-391a-4ee3-95c6-0ab52c1f06e4",
   "metadata": {},
   "source": [
    "## Compute apportionment\n",
    "\n",
    "The example in the report uses inverse-distance weighting apportionment.  Other\n",
    "apportionment approaches that may be used as a simple way to extend the analytical\n",
    "solution are discussed by Zipper and others (2019).  [https://agupubs.onlinelibrary.wiley.com/doi/10.1029/2018WR024403]"
   ]
  },
  {
   "cell_type": "code",
   "execution_count": null,
   "id": "cd49a471-83e2-403a-9695-5b315eedbcd2",
   "metadata": {},
   "outputs": [],
   "source": [
    "invers =np.array([1/x for x in stream_table['distance']])\n",
    "stream_table['apportionment'] = (1./stream_table['distance'])/np.sum(invers)"
   ]
  },
  {
   "cell_type": "markdown",
   "id": "478737c3-0e68-46a6-976b-eacf47820223",
   "metadata": {},
   "source": [
    "## set aquifer properties and streambed conductances"
   ]
  },
  {
   "cell_type": "code",
   "execution_count": null,
   "id": "6de231c4-280f-4351-a6c5-d4dc939b9777",
   "metadata": {},
   "outputs": [],
   "source": [
    "T= 7211.  # ft^2/day\n",
    "S= 0.01\n",
    "Q = 70  # 70 gpm in cubic feet per day\n",
    "well_name = 'demo'\n",
    "pumpdays = int(5. * 365)\n",
    "stream_table['conductance'] = 7.11855  # example uses constant streambed_conductance"
   ]
  },
  {
   "cell_type": "markdown",
   "id": "c9aef4c4-3ab7-4fa2-9f4c-69955c054733",
   "metadata": {},
   "source": [
    "## call a utility to convert Q to a series with appropriate formatting\n",
    "\n",
    "The Well Class works with a Pandas series of pumping rates, it may be\n",
    "easily constructed with the Q2ts function.  The index of the\n",
    "series is pumping days.  We also need to convert \n",
    "from pumping in GPM to cubic feet per day so that units are consistent.\n"
   ]
  },
  {
   "cell_type": "code",
   "execution_count": null,
   "id": "00d5ddce-a8e5-4343-b35a-e9fc73c58520",
   "metadata": {},
   "outputs": [],
   "source": [
    "Q = pycap.Q2ts(pumpdays, 5, Q) * pycap.GPM2CFD"
   ]
  },
  {
   "cell_type": "code",
   "execution_count": null,
   "id": "0686c301-9569-436e-8e9d-fea657deae7f",
   "metadata": {},
   "outputs": [],
   "source": [
    "Q"
   ]
  },
  {
   "cell_type": "code",
   "execution_count": null,
   "id": "c4d10dca-be43-4292-b3d5-3705669a7975",
   "metadata": {},
   "outputs": [],
   "source": [
    "stream_table.head()"
   ]
  },
  {
   "cell_type": "markdown",
   "id": "7c0ba891-d81d-4307-bb58-778443b7e7ff",
   "metadata": {},
   "source": [
    "make dictionaries from the distances, apportionment, and conductance values"
   ]
  },
  {
   "cell_type": "code",
   "execution_count": null,
   "id": "060425be-8fef-4fdb-ada6-f08cfcfd9c98",
   "metadata": {},
   "outputs": [],
   "source": [
    "distances = dict(zip(stream_table.id.values, stream_table.distance.values))"
   ]
  },
  {
   "cell_type": "code",
   "execution_count": null,
   "id": "eabbb8d3-9263-4cc6-9195-1c89ce5c8557",
   "metadata": {},
   "outputs": [],
   "source": [
    "apportion = dict(zip(stream_table.id.values, stream_table.apportionment.values))"
   ]
  },
  {
   "cell_type": "code",
   "execution_count": null,
   "id": "8e925f15-7afe-4a7e-bf52-65aa41149de7",
   "metadata": {},
   "outputs": [],
   "source": [
    "cond = dict(zip(stream_table.id.values, stream_table.conductance.values))"
   ]
  },
  {
   "cell_type": "markdown",
   "id": "4c8ec170-ad59-48b4-85c7-4724506e7f05",
   "metadata": {},
   "source": [
    "## Make a Well object\n",
    "\n",
    "Depletion and drawdown can be easily returned as attributes of the object.\n",
    "The choice of depletion or drawdown method is made through a parameter passed to\n",
    "the object.  In this example the Hunt (1999) depletion method is used\n",
    "to compute stream depletion for the dictionary of streams at the given\n",
    "distances with the inverse-distance apportionment.  We also can\n",
    "compute drawdown at a dictionary of locations.  If drawdown_dist\n",
    "is not passed to the object, then drawdowns will not be computed.\n",
    "Results are returned as arrays that may easily be converted to \n",
    "Pandas dataframes for ease of viewing and plotting."
   ]
  },
  {
   "cell_type": "code",
   "execution_count": null,
   "id": "8ba31012-76ab-4c1e-9e16-be545dce05b2",
   "metadata": {},
   "outputs": [],
   "source": [
    "test_well = pycap.Well(T=T,\n",
    "                 S=S,\n",
    "                 Q=Q,\n",
    "                 depletion_years=5,\n",
    "                 depl_method='hunt99',\n",
    "                 drawdown_dist={'testlocation0':50.},  #default method is Theis\n",
    "                 streambed_conductance=cond,\n",
    "                 stream_dist=distances,\n",
    "                 stream_apportionment=apportion)"
   ]
  },
  {
   "cell_type": "code",
   "execution_count": null,
   "id": "84ad8495-19bd-4b22-a67e-b3440c0af154",
   "metadata": {},
   "outputs": [],
   "source": [
    "drawdown = pd.DataFrame(test_well.drawdown)\n",
    "drawdown.head()"
   ]
  },
  {
   "cell_type": "code",
   "execution_count": null,
   "id": "45c8ee4e-0a96-4812-8503-0fab8a99b54f",
   "metadata": {},
   "outputs": [],
   "source": [
    "stream_depl = pd.DataFrame(test_well.depletion)"
   ]
  },
  {
   "cell_type": "markdown",
   "id": "ef9d8276-f8e6-4a99-b08b-8c4766feb941",
   "metadata": {},
   "source": [
    "## need to convert to GPM to compare results to Table 2\n",
    "\n",
    "The object get daily time series according to the \n",
    "pumping schedule.  We can pull out the 5-year depletion\n",
    "to note that the final results match Table 2."
   ]
  },
  {
   "cell_type": "code",
   "execution_count": null,
   "id": "79602e05-ab9d-46b8-88be-7feaf90eb98f",
   "metadata": {},
   "outputs": [],
   "source": [
    "stream_depl = stream_depl/pycap.GPM2CFD\n",
    "five_year= pd.DataFrame(stream_depl.loc[1824].T)\n",
    "five_year.rename(columns={1824: 'Depletion'}, inplace=True)\n",
    "five_year"
   ]
  },
  {
   "cell_type": "markdown",
   "id": "d752c6cb-2bc3-48ad-adca-03d23a2b19e9",
   "metadata": {},
   "source": [
    "## What about plotting?"
   ]
  },
  {
   "cell_type": "code",
   "execution_count": null,
   "id": "42bdf026-21c5-4194-ac20-ea78afe218bb",
   "metadata": {},
   "outputs": [],
   "source": [
    "fig, ax = plt.subplots()\n",
    "drawdown.plot(ax=ax)\n",
    "ax.set_xlabel('pumping in days')\n",
    "ax.set_ylabel('drawdown in feet')"
   ]
  },
  {
   "cell_type": "code",
   "execution_count": null,
   "id": "b63019e3-06c3-40bf-823b-6d65d5f9d072",
   "metadata": {},
   "outputs": [],
   "source": [
    "fig, ax = plt.subplots()\n",
    "stream_depl.plot(ax=ax)\n",
    "ax.set_xlabel('pumping in days')\n",
    "ax.set_ylabel('depletion in GPM')\n",
    "ax.legend(title='Explanation', \n",
    "          bbox_to_anchor=(0, 0.9, 1, 0.9), \n",
    "          bbox_transform=fig.transFigure, \n",
    "          ncols=5,\n",
    "          mode='expand',\n",
    "          loc='lower left')\n"
   ]
  },
  {
   "cell_type": "markdown",
   "id": "5268625c-244d-491c-8da7-9b558b21e00c",
   "metadata": {},
   "source": [
    "## Intermittent Pumping"
   ]
  }
 ],
 "metadata": {
  "kernelspec": {
   "display_name": "Python 3 (ipykernel)",
   "language": "python",
   "name": "python3"
  }
 },
 "nbformat": 4,
 "nbformat_minor": 5
}
