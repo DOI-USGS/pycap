{
 "cells": [
  {
   "cell_type": "markdown",
   "id": "90465e37-a1ad-4a68-9d16-c00d6594cee4",
   "metadata": {},
   "source": [
    "# Demonstration of WellResponse Class\n",
    "\n",
    "Notebook to demonstrate using the Well Class to \n",
    "estimate drawdown or stream depletion using the \n",
    "solutions available in the python module."
   ]
  },
  {
   "cell_type": "code",
   "execution_count": 1,
   "id": "95dbea60-dd79-408f-bb66-6bb84386187c",
   "metadata": {},
   "outputs": [],
   "source": [
    "import sys\n",
    "sys.path.insert(1, '../../')\n",
    "import pycap\n",
    "import matplotlib.pyplot as plt\n",
    "import numpy as np\n",
    "import pandas as pd"
   ]
  },
  {
   "cell_type": "markdown",
   "id": "a1ec807f-632c-49ff-a703-da6b757f05d5",
   "metadata": {},
   "source": [
    "# Example Depletion\n",
    "The Well class will estimate depletions for streams.  The stream distances and\n",
    "streambed conductances, if needed, are passed through dictionaries keyed by \n",
    "a stream name or ID.  In this notebook a table of values will be made manually from \n",
    "Table 2 from Reeves, H.W., Hamilton, D.A., Seelbach, P.W., and Asher, A.J., 2009, Ground-water-withdrawal component of the Michigan water-withdrawal screening tool: U.S. Geological Survey Scientific Investigations Report 2009–5003, 36 p.\n",
    "[https://pubs.usgs.gov/sir/2009/5003/]"
   ]
  },
  {
   "cell_type": "code",
   "execution_count": 2,
   "id": "4d858624-c165-413d-bcc4-3e74f5b6362b",
   "metadata": {},
   "outputs": [],
   "source": [
    "stream_table = pd.DataFrame(({'id': 8, 'distance': 14802},\n",
    "                            {'id': 9, 'distance': 12609.2},\n",
    "                            {'id': 11, 'distance': 15750.5},\n",
    "                            {'id': 27, 'distance': 22567.6},\n",
    "                            {'id': 9741, 'distance': 27565.2},\n",
    "                            {'id': 10532, 'distance': 33059.5},\n",
    "                            {'id': 11967, 'distance': 14846.3},\n",
    "                            {'id': 12515, 'distance': 17042.5},\n",
    "                            {'id': 12573, 'distance': 11959.5},\n",
    "                            {'id': 12941, 'distance': 19070.8},\n",
    "                            {'id': 13925, 'distance': 10028.9}))\n",
    "\n"
   ]
  },
  {
   "cell_type": "code",
   "execution_count": 3,
   "id": "449df4b2-def0-4e06-8b37-db85108d0a75",
   "metadata": {},
   "outputs": [
    {
     "data": {
      "text/html": [
       "<div>\n",
       "<style scoped>\n",
       "    .dataframe tbody tr th:only-of-type {\n",
       "        vertical-align: middle;\n",
       "    }\n",
       "\n",
       "    .dataframe tbody tr th {\n",
       "        vertical-align: top;\n",
       "    }\n",
       "\n",
       "    .dataframe thead th {\n",
       "        text-align: right;\n",
       "    }\n",
       "</style>\n",
       "<table border=\"1\" class=\"dataframe\">\n",
       "  <thead>\n",
       "    <tr style=\"text-align: right;\">\n",
       "      <th></th>\n",
       "      <th>id</th>\n",
       "      <th>distance</th>\n",
       "    </tr>\n",
       "  </thead>\n",
       "  <tbody>\n",
       "    <tr>\n",
       "      <th>0</th>\n",
       "      <td>8</td>\n",
       "      <td>14802.0</td>\n",
       "    </tr>\n",
       "    <tr>\n",
       "      <th>1</th>\n",
       "      <td>9</td>\n",
       "      <td>12609.2</td>\n",
       "    </tr>\n",
       "    <tr>\n",
       "      <th>2</th>\n",
       "      <td>11</td>\n",
       "      <td>15750.5</td>\n",
       "    </tr>\n",
       "    <tr>\n",
       "      <th>3</th>\n",
       "      <td>27</td>\n",
       "      <td>22567.6</td>\n",
       "    </tr>\n",
       "    <tr>\n",
       "      <th>4</th>\n",
       "      <td>9741</td>\n",
       "      <td>27565.2</td>\n",
       "    </tr>\n",
       "  </tbody>\n",
       "</table>\n",
       "</div>"
      ],
      "text/plain": [
       "     id  distance\n",
       "0     8   14802.0\n",
       "1     9   12609.2\n",
       "2    11   15750.5\n",
       "3    27   22567.6\n",
       "4  9741   27565.2"
      ]
     },
     "execution_count": 3,
     "metadata": {},
     "output_type": "execute_result"
    }
   ],
   "source": [
    "stream_table.head()"
   ]
  },
  {
   "cell_type": "markdown",
   "id": "75c27baa-391a-4ee3-95c6-0ab52c1f06e4",
   "metadata": {},
   "source": [
    "# Compute apportionment\n",
    "\n",
    "The Michigan screening tool uses inverse distance weighting apportionment.  Other\n",
    "apportionment approaches that may be used as a simple way to extend the analytical\n",
    "solution are discussed by Zipper and others (2019).  [https://agupubs.onlinelibrary.wiley.com/doi/10.1029/2018WR024403]"
   ]
  },
  {
   "cell_type": "code",
   "execution_count": 4,
   "id": "cd49a471-83e2-403a-9695-5b315eedbcd2",
   "metadata": {},
   "outputs": [],
   "source": [
    "invers =np.array([1/x for x in stream_table['distance']])\n",
    "stream_table['apportionment'] = (1./stream_table['distance'])/np.sum(invers)"
   ]
  },
  {
   "cell_type": "code",
   "execution_count": 5,
   "id": "ba408c90-1c58-4ac0-a56b-bc568b048810",
   "metadata": {},
   "outputs": [
    {
     "data": {
      "text/html": [
       "<div>\n",
       "<style scoped>\n",
       "    .dataframe tbody tr th:only-of-type {\n",
       "        vertical-align: middle;\n",
       "    }\n",
       "\n",
       "    .dataframe tbody tr th {\n",
       "        vertical-align: top;\n",
       "    }\n",
       "\n",
       "    .dataframe thead th {\n",
       "        text-align: right;\n",
       "    }\n",
       "</style>\n",
       "<table border=\"1\" class=\"dataframe\">\n",
       "  <thead>\n",
       "    <tr style=\"text-align: right;\">\n",
       "      <th></th>\n",
       "      <th>id</th>\n",
       "      <th>distance</th>\n",
       "      <th>apportionment</th>\n",
       "    </tr>\n",
       "  </thead>\n",
       "  <tbody>\n",
       "    <tr>\n",
       "      <th>0</th>\n",
       "      <td>8</td>\n",
       "      <td>14802.00</td>\n",
       "      <td>0.098916</td>\n",
       "    </tr>\n",
       "    <tr>\n",
       "      <th>1</th>\n",
       "      <td>9</td>\n",
       "      <td>12609.20</td>\n",
       "      <td>0.116118</td>\n",
       "    </tr>\n",
       "    <tr>\n",
       "      <th>2</th>\n",
       "      <td>11</td>\n",
       "      <td>15750.50</td>\n",
       "      <td>0.092959</td>\n",
       "    </tr>\n",
       "    <tr>\n",
       "      <th>3</th>\n",
       "      <td>27</td>\n",
       "      <td>22567.60</td>\n",
       "      <td>0.064878</td>\n",
       "    </tr>\n",
       "    <tr>\n",
       "      <th>4</th>\n",
       "      <td>9741</td>\n",
       "      <td>27565.20</td>\n",
       "      <td>0.053116</td>\n",
       "    </tr>\n",
       "    <tr>\n",
       "      <th>5</th>\n",
       "      <td>10532</td>\n",
       "      <td>33059.50</td>\n",
       "      <td>0.044288</td>\n",
       "    </tr>\n",
       "    <tr>\n",
       "      <th>6</th>\n",
       "      <td>11967</td>\n",
       "      <td>14846.30</td>\n",
       "      <td>0.098621</td>\n",
       "    </tr>\n",
       "    <tr>\n",
       "      <th>7</th>\n",
       "      <td>12515</td>\n",
       "      <td>17042.55</td>\n",
       "      <td>0.085911</td>\n",
       "    </tr>\n",
       "    <tr>\n",
       "      <th>8</th>\n",
       "      <td>12573</td>\n",
       "      <td>11959.50</td>\n",
       "      <td>0.122426</td>\n",
       "    </tr>\n",
       "    <tr>\n",
       "      <th>9</th>\n",
       "      <td>12941</td>\n",
       "      <td>19070.80</td>\n",
       "      <td>0.076774</td>\n",
       "    </tr>\n",
       "    <tr>\n",
       "      <th>10</th>\n",
       "      <td>13925</td>\n",
       "      <td>10028.90</td>\n",
       "      <td>0.145993</td>\n",
       "    </tr>\n",
       "  </tbody>\n",
       "</table>\n",
       "</div>"
      ],
      "text/plain": [
       "       id  distance  apportionment\n",
       "0       8  14802.00       0.098916\n",
       "1       9  12609.20       0.116118\n",
       "2      11  15750.50       0.092959\n",
       "3      27  22567.60       0.064878\n",
       "4    9741  27565.20       0.053116\n",
       "5   10532  33059.50       0.044288\n",
       "6   11967  14846.30       0.098621\n",
       "7   12515  17042.55       0.085911\n",
       "8   12573  11959.50       0.122426\n",
       "9   12941  19070.80       0.076774\n",
       "10  13925  10028.90       0.145993"
      ]
     },
     "execution_count": 5,
     "metadata": {},
     "output_type": "execute_result"
    }
   ],
   "source": [
    "stream_table"
   ]
  },
  {
   "cell_type": "code",
   "execution_count": 6,
   "id": "853cb92d-6873-48a0-a622-64678d024494",
   "metadata": {},
   "outputs": [
    {
     "data": {
      "text/plain": [
       "np.float64(1.0000000000000002)"
      ]
     },
     "execution_count": 6,
     "metadata": {},
     "output_type": "execute_result"
    }
   ],
   "source": [
    "np.sum(stream_table['apportionment'])"
   ]
  },
  {
   "cell_type": "markdown",
   "id": "479dcb70-36b1-4cab-968e-1e7e785c05ee",
   "metadata": {},
   "source": [
    "make dictionaries from the distances and apportionment values"
   ]
  },
  {
   "cell_type": "code",
   "execution_count": 7,
   "id": "060425be-8fef-4fdb-ada6-f08cfcfd9c98",
   "metadata": {},
   "outputs": [],
   "source": [
    "distances = dict(zip(stream_table.id.values, stream_table.distance.values))"
   ]
  },
  {
   "cell_type": "code",
   "execution_count": 8,
   "id": "eabbb8d3-9263-4cc6-9195-1c89ce5c8557",
   "metadata": {},
   "outputs": [],
   "source": [
    "apportion = dict(zip(stream_table.id.values, stream_table.apportionment.values))"
   ]
  },
  {
   "cell_type": "markdown",
   "id": "478737c3-0e68-46a6-976b-eacf47820223",
   "metadata": {},
   "source": [
    "# set aquifer properties and streambed conductances"
   ]
  },
  {
   "cell_type": "code",
   "execution_count": 9,
   "id": "4010787c-a172-4366-92c9-2d56791c7ee0",
   "metadata": {},
   "outputs": [],
   "source": [
    "stream_table = pd.DataFrame(({'id': 8, 'distance': 14802},\n",
    "                            {'id': 9, 'distance': 12609.2},\n",
    "                            {'id': 11, 'distance': 15750.5},\n",
    "                            {'id': 27, 'distance': 22567.6},\n",
    "                            {'id': 9741, 'distance': 27565.2},\n",
    "                            {'id': 10532, 'distance': 33059.5},\n",
    "                            {'id': 11967, 'distance': 14846.3},\n",
    "                            {'id': 12515, 'distance': 17042.5},\n",
    "                            {'id': 12573, 'distance': 11959.5},\n",
    "                            {'id': 12941, 'distance': 19070.8},\n",
    "                            {'id': 13925, 'distance': 10028.9}))"
   ]
  },
  {
   "cell_type": "code",
   "execution_count": 10,
   "id": "6de231c4-280f-4351-a6c5-d4dc939b9777",
   "metadata": {},
   "outputs": [],
   "source": [
    "T= 7211.  # ft^2/day\n",
    "S= 0.01\n",
    "Q = 70  # 70 gpm in cubic feet per day\n",
    "well_name = 'demo'\n",
    "pumpdays = int(5. * 365)"
   ]
  },
  {
   "cell_type": "markdown",
   "id": "c9aef4c4-3ab7-4fa2-9f4c-69955c054733",
   "metadata": {},
   "source": [
    "## call a utility to convert Q to a series with appropriate formatting\n",
    "\n",
    "the utility also converts to CFD from GPM"
   ]
  },
  {
   "cell_type": "code",
   "execution_count": 11,
   "id": "00d5ddce-a8e5-4343-b35a-e9fc73c58520",
   "metadata": {},
   "outputs": [],
   "source": [
    "Q = pycap.Q2ts(pumpdays, 5, Q)"
   ]
  },
  {
   "cell_type": "code",
   "execution_count": 12,
   "id": "0686c301-9569-436e-8e9d-fea657deae7f",
   "metadata": {},
   "outputs": [
    {
     "data": {
      "text/plain": [
       "1       13475.935829\n",
       "2       13475.935829\n",
       "3       13475.935829\n",
       "4       13475.935829\n",
       "5       13475.935829\n",
       "            ...     \n",
       "1821    13475.935829\n",
       "1822    13475.935829\n",
       "1823    13475.935829\n",
       "1824    13475.935829\n",
       "1825    13475.935829\n",
       "Length: 1825, dtype: float64"
      ]
     },
     "execution_count": 12,
     "metadata": {},
     "output_type": "execute_result"
    }
   ],
   "source": [
    "Q"
   ]
  },
  {
   "cell_type": "code",
   "execution_count": 13,
   "id": "be2435a8-bf30-4ceb-b9f4-8b0f94ac927f",
   "metadata": {},
   "outputs": [],
   "source": [
    "stream_table['conductance'] = 7.11855  # example uses constant streambed_conductance"
   ]
  },
  {
   "cell_type": "code",
   "execution_count": 14,
   "id": "c4d10dca-be43-4292-b3d5-3705669a7975",
   "metadata": {},
   "outputs": [
    {
     "data": {
      "text/html": [
       "<div>\n",
       "<style scoped>\n",
       "    .dataframe tbody tr th:only-of-type {\n",
       "        vertical-align: middle;\n",
       "    }\n",
       "\n",
       "    .dataframe tbody tr th {\n",
       "        vertical-align: top;\n",
       "    }\n",
       "\n",
       "    .dataframe thead th {\n",
       "        text-align: right;\n",
       "    }\n",
       "</style>\n",
       "<table border=\"1\" class=\"dataframe\">\n",
       "  <thead>\n",
       "    <tr style=\"text-align: right;\">\n",
       "      <th></th>\n",
       "      <th>id</th>\n",
       "      <th>distance</th>\n",
       "      <th>conductance</th>\n",
       "    </tr>\n",
       "  </thead>\n",
       "  <tbody>\n",
       "    <tr>\n",
       "      <th>0</th>\n",
       "      <td>8</td>\n",
       "      <td>14802.0</td>\n",
       "      <td>7.11855</td>\n",
       "    </tr>\n",
       "    <tr>\n",
       "      <th>1</th>\n",
       "      <td>9</td>\n",
       "      <td>12609.2</td>\n",
       "      <td>7.11855</td>\n",
       "    </tr>\n",
       "    <tr>\n",
       "      <th>2</th>\n",
       "      <td>11</td>\n",
       "      <td>15750.5</td>\n",
       "      <td>7.11855</td>\n",
       "    </tr>\n",
       "    <tr>\n",
       "      <th>3</th>\n",
       "      <td>27</td>\n",
       "      <td>22567.6</td>\n",
       "      <td>7.11855</td>\n",
       "    </tr>\n",
       "    <tr>\n",
       "      <th>4</th>\n",
       "      <td>9741</td>\n",
       "      <td>27565.2</td>\n",
       "      <td>7.11855</td>\n",
       "    </tr>\n",
       "  </tbody>\n",
       "</table>\n",
       "</div>"
      ],
      "text/plain": [
       "     id  distance  conductance\n",
       "0     8   14802.0      7.11855\n",
       "1     9   12609.2      7.11855\n",
       "2    11   15750.5      7.11855\n",
       "3    27   22567.6      7.11855\n",
       "4  9741   27565.2      7.11855"
      ]
     },
     "execution_count": 14,
     "metadata": {},
     "output_type": "execute_result"
    }
   ],
   "source": [
    "stream_table.head()"
   ]
  },
  {
   "cell_type": "code",
   "execution_count": 15,
   "id": "8e925f15-7afe-4a7e-bf52-65aa41149de7",
   "metadata": {},
   "outputs": [],
   "source": [
    "cond = dict(zip(stream_table.id.values, stream_table.conductance.values))"
   ]
  },
  {
   "cell_type": "code",
   "execution_count": 16,
   "id": "8ba31012-76ab-4c1e-9e16-be545dce05b2",
   "metadata": {},
   "outputs": [],
   "source": [
    "test_well = pycap.Well(T=T,\n",
    "                 S=S,\n",
    "                 Q=Q,\n",
    "                 depletion_years=5,\n",
    "                 depl_method='hunt99',\n",
    "                 streambed_conductance=cond,\n",
    "                 stream_dist=distances,\n",
    "                 stream_apportionment=apportion)"
   ]
  },
  {
   "cell_type": "code",
   "execution_count": 17,
   "id": "3d13cdfa-02b2-4605-a916-f26398696292",
   "metadata": {},
   "outputs": [
    {
     "data": {
      "text/plain": [
       "1    13475.935829\n",
       "dtype: float64"
      ]
     },
     "execution_count": 17,
     "metadata": {},
     "output_type": "execute_result"
    }
   ],
   "source": [
    "deltaQ = pycap._calc_deltaQ(Q)\n",
    "deltaQ"
   ]
  },
  {
   "cell_type": "code",
   "execution_count": 18,
   "id": "06bbd502-45ad-490b-ac65-d8d2989363d8",
   "metadata": {},
   "outputs": [
    {
     "name": "stderr",
     "output_type": "stream",
     "text": [
      "c:\\Home-Local\\pycap\\source\\examples\\../..\\pycap\\solutions.py:558: RuntimeWarning: divide by zero encountered in divide\n",
      "  a = np.sqrt(S * dist**2 / (4.0 * T * time))\n"
     ]
    },
    {
     "data": {
      "text/plain": [
       "{np.int64(8): array([0.00000000e+00, 4.61384782e-38, 3.83338737e-21, ...,\n",
       "        1.14615834e-02, 1.14626313e-02, 1.14636783e-02], shape=(1825,)),\n",
       " np.int64(9): array([0.00000000e+00, 8.25656693e-29, 2.02230810e-16, ...,\n",
       "        1.40440789e-02, 1.40451628e-02, 1.40462458e-02], shape=(1825,)),\n",
       " np.int64(11): array([0.00000000e+00, 1.66711353e-42, 2.11329070e-23, ...,\n",
       "        1.05692983e-02, 1.05703321e-02, 1.05713651e-02], shape=(1825,)),\n",
       " np.int64(27): array([0.00000000e+00, 2.70335278e-82, 1.61669806e-43, ...,\n",
       "        6.39194779e-03, 6.39289278e-03, 6.39383705e-03], shape=(1825,)),\n",
       " np.int64(9741): array([0.00000000e+000, 2.82691069e-120, 1.23911560e-062, ...,\n",
       "        4.67310017e-003, 4.67398441e-003, 4.67486800e-003], shape=(1825,)),\n",
       " np.int64(10532): array([0.00000000e+000, 1.16079177e-170, 6.09674630e-088, ...,\n",
       "        3.41265831e-003, 3.41347546e-003, 3.41429203e-003], shape=(1825,)),\n",
       " np.int64(11967): array([0.00000000e+00, 2.90079979e-38, 3.02696360e-21, ...,\n",
       "        1.14173413e-02, 1.14183884e-02, 1.14194348e-02], shape=(1825,)),\n",
       " np.int64(12515): array([0.00000000e+00, 5.52235253e-49, 1.08902529e-26, ...,\n",
       "        9.51554949e-03, 9.51656515e-03, 9.51758003e-03], shape=(1825,)),\n",
       " np.int64(12573): array([0.00000000e+00, 2.43617198e-26, 3.73297001e-15, ...,\n",
       "        1.49926132e-02, 1.49937090e-02, 1.49948040e-02], shape=(1825,)),\n",
       " np.int64(12941): array([0.00000000e+00, 3.71646892e-60, 2.41017806e-32, ...,\n",
       "        8.15366544e-03, 8.15465423e-03, 8.15564226e-03], shape=(1825,)),\n",
       " np.int64(13925): array([0.00000000e+00, 9.96322237e-20, 9.55692796e-12, ...,\n",
       "        1.85407795e-02, 1.85419167e-02, 1.85430530e-02], shape=(1825,))}"
      ]
     },
     "execution_count": 18,
     "metadata": {},
     "output_type": "execute_result"
    }
   ],
   "source": [
    "test_well.depletion"
   ]
  },
  {
   "cell_type": "code",
   "execution_count": 19,
   "id": "45c8ee4e-0a96-4812-8503-0fab8a99b54f",
   "metadata": {},
   "outputs": [],
   "source": [
    "stream_depl = pd.DataFrame(test_well.depletion)"
   ]
  },
  {
   "cell_type": "markdown",
   "id": "ef9d8276-f8e6-4a99-b08b-8c4766feb941",
   "metadata": {},
   "source": [
    "## need to convert to GPM to compare results to Table 2"
   ]
  },
  {
   "cell_type": "code",
   "execution_count": 20,
   "id": "cb18d999-463a-4a7e-b3a8-9587b36a5d02",
   "metadata": {},
   "outputs": [],
   "source": [
    "stream_depl = stream_depl * 448.83116885"
   ]
  },
  {
   "cell_type": "code",
   "execution_count": 21,
   "id": "79602e05-ab9d-46b8-88be-7feaf90eb98f",
   "metadata": {},
   "outputs": [
    {
     "data": {
      "text/html": [
       "<div>\n",
       "<style scoped>\n",
       "    .dataframe tbody tr th:only-of-type {\n",
       "        vertical-align: middle;\n",
       "    }\n",
       "\n",
       "    .dataframe tbody tr th {\n",
       "        vertical-align: top;\n",
       "    }\n",
       "\n",
       "    .dataframe thead th {\n",
       "        text-align: right;\n",
       "    }\n",
       "</style>\n",
       "<table border=\"1\" class=\"dataframe\">\n",
       "  <thead>\n",
       "    <tr style=\"text-align: right;\">\n",
       "      <th></th>\n",
       "      <th>8</th>\n",
       "      <th>9</th>\n",
       "      <th>11</th>\n",
       "      <th>27</th>\n",
       "      <th>9741</th>\n",
       "      <th>10532</th>\n",
       "      <th>11967</th>\n",
       "      <th>12515</th>\n",
       "      <th>12573</th>\n",
       "      <th>12941</th>\n",
       "      <th>13925</th>\n",
       "    </tr>\n",
       "  </thead>\n",
       "  <tbody>\n",
       "    <tr>\n",
       "      <th>0</th>\n",
       "      <td>0.000000e+00</td>\n",
       "      <td>0.000000e+00</td>\n",
       "      <td>0.000000e+00</td>\n",
       "      <td>0.000000e+00</td>\n",
       "      <td>0.000000e+00</td>\n",
       "      <td>0.000000e+00</td>\n",
       "      <td>0.000000e+00</td>\n",
       "      <td>0.000000e+00</td>\n",
       "      <td>0.000000e+00</td>\n",
       "      <td>0.000000e+00</td>\n",
       "      <td>0.000000e+00</td>\n",
       "    </tr>\n",
       "    <tr>\n",
       "      <th>1</th>\n",
       "      <td>2.070839e-35</td>\n",
       "      <td>3.705805e-26</td>\n",
       "      <td>7.482525e-40</td>\n",
       "      <td>1.213349e-79</td>\n",
       "      <td>1.268806e-117</td>\n",
       "      <td>5.209995e-168</td>\n",
       "      <td>1.301969e-35</td>\n",
       "      <td>2.478604e-46</td>\n",
       "      <td>1.093430e-23</td>\n",
       "      <td>1.668067e-57</td>\n",
       "      <td>4.471805e-17</td>\n",
       "    </tr>\n",
       "    <tr>\n",
       "      <th>2</th>\n",
       "      <td>1.720544e-18</td>\n",
       "      <td>9.076749e-14</td>\n",
       "      <td>9.485107e-21</td>\n",
       "      <td>7.256245e-41</td>\n",
       "      <td>5.561537e-60</td>\n",
       "      <td>2.736410e-85</td>\n",
       "      <td>1.358596e-18</td>\n",
       "      <td>4.887885e-24</td>\n",
       "      <td>1.675473e-12</td>\n",
       "      <td>1.081763e-29</td>\n",
       "      <td>4.289447e-09</td>\n",
       "    </tr>\n",
       "    <tr>\n",
       "      <th>3</th>\n",
       "      <td>9.397878e-13</td>\n",
       "      <td>1.521391e-09</td>\n",
       "      <td>2.774879e-14</td>\n",
       "      <td>7.755561e-28</td>\n",
       "      <td>1.159949e-40</td>\n",
       "      <td>1.310414e-57</td>\n",
       "      <td>8.007453e-13</td>\n",
       "      <td>1.661491e-16</td>\n",
       "      <td>1.112159e-08</td>\n",
       "      <td>2.547248e-20</td>\n",
       "      <td>2.414348e-06</td>\n",
       "    </tr>\n",
       "    <tr>\n",
       "      <th>4</th>\n",
       "      <td>7.690689e-10</td>\n",
       "      <td>2.171971e-07</td>\n",
       "      <td>5.263075e-11</td>\n",
       "      <td>2.831976e-21</td>\n",
       "      <td>5.935178e-31</td>\n",
       "      <td>1.018381e-43</td>\n",
       "      <td>6.807403e-10</td>\n",
       "      <td>1.076097e-12</td>\n",
       "      <td>9.977078e-07</td>\n",
       "      <td>1.376326e-15</td>\n",
       "      <td>6.274232e-05</td>\n",
       "    </tr>\n",
       "    <tr>\n",
       "      <th>...</th>\n",
       "      <td>...</td>\n",
       "      <td>...</td>\n",
       "      <td>...</td>\n",
       "      <td>...</td>\n",
       "      <td>...</td>\n",
       "      <td>...</td>\n",
       "      <td>...</td>\n",
       "      <td>...</td>\n",
       "      <td>...</td>\n",
       "      <td>...</td>\n",
       "      <td>...</td>\n",
       "    </tr>\n",
       "    <tr>\n",
       "      <th>1820</th>\n",
       "      <td>5.143374e+00</td>\n",
       "      <td>6.302446e+00</td>\n",
       "      <td>4.742901e+00</td>\n",
       "      <td>2.868056e+00</td>\n",
       "      <td>2.096638e+00</td>\n",
       "      <td>1.530973e+00</td>\n",
       "      <td>5.123517e+00</td>\n",
       "      <td>4.269962e+00</td>\n",
       "      <td>6.728167e+00</td>\n",
       "      <td>3.658731e+00</td>\n",
       "      <td>8.320658e+00</td>\n",
       "    </tr>\n",
       "    <tr>\n",
       "      <th>1821</th>\n",
       "      <td>5.143845e+00</td>\n",
       "      <td>6.302933e+00</td>\n",
       "      <td>4.743366e+00</td>\n",
       "      <td>2.868481e+00</td>\n",
       "      <td>2.097036e+00</td>\n",
       "      <td>1.531340e+00</td>\n",
       "      <td>5.123988e+00</td>\n",
       "      <td>4.270419e+00</td>\n",
       "      <td>6.728660e+00</td>\n",
       "      <td>3.659175e+00</td>\n",
       "      <td>8.321169e+00</td>\n",
       "    </tr>\n",
       "    <tr>\n",
       "      <th>1822</th>\n",
       "      <td>5.144316e+00</td>\n",
       "      <td>6.303420e+00</td>\n",
       "      <td>4.743830e+00</td>\n",
       "      <td>2.868905e+00</td>\n",
       "      <td>2.097433e+00</td>\n",
       "      <td>1.531707e+00</td>\n",
       "      <td>5.124459e+00</td>\n",
       "      <td>4.270875e+00</td>\n",
       "      <td>6.729152e+00</td>\n",
       "      <td>3.659619e+00</td>\n",
       "      <td>8.321680e+00</td>\n",
       "    </tr>\n",
       "    <tr>\n",
       "      <th>1823</th>\n",
       "      <td>5.144786e+00</td>\n",
       "      <td>6.303907e+00</td>\n",
       "      <td>4.744294e+00</td>\n",
       "      <td>2.869330e+00</td>\n",
       "      <td>2.097830e+00</td>\n",
       "      <td>1.532074e+00</td>\n",
       "      <td>5.124929e+00</td>\n",
       "      <td>4.271331e+00</td>\n",
       "      <td>6.729644e+00</td>\n",
       "      <td>3.660063e+00</td>\n",
       "      <td>8.322190e+00</td>\n",
       "    </tr>\n",
       "    <tr>\n",
       "      <th>1824</th>\n",
       "      <td>5.145256e+00</td>\n",
       "      <td>6.304393e+00</td>\n",
       "      <td>4.744758e+00</td>\n",
       "      <td>2.869753e+00</td>\n",
       "      <td>2.098226e+00</td>\n",
       "      <td>1.532441e+00</td>\n",
       "      <td>5.125398e+00</td>\n",
       "      <td>4.271787e+00</td>\n",
       "      <td>6.730135e+00</td>\n",
       "      <td>3.660506e+00</td>\n",
       "      <td>8.322700e+00</td>\n",
       "    </tr>\n",
       "  </tbody>\n",
       "</table>\n",
       "<p>1825 rows × 11 columns</p>\n",
       "</div>"
      ],
      "text/plain": [
       "             8             9             11            27             9741   \\\n",
       "0     0.000000e+00  0.000000e+00  0.000000e+00  0.000000e+00   0.000000e+00   \n",
       "1     2.070839e-35  3.705805e-26  7.482525e-40  1.213349e-79  1.268806e-117   \n",
       "2     1.720544e-18  9.076749e-14  9.485107e-21  7.256245e-41   5.561537e-60   \n",
       "3     9.397878e-13  1.521391e-09  2.774879e-14  7.755561e-28   1.159949e-40   \n",
       "4     7.690689e-10  2.171971e-07  5.263075e-11  2.831976e-21   5.935178e-31   \n",
       "...            ...           ...           ...           ...            ...   \n",
       "1820  5.143374e+00  6.302446e+00  4.742901e+00  2.868056e+00   2.096638e+00   \n",
       "1821  5.143845e+00  6.302933e+00  4.743366e+00  2.868481e+00   2.097036e+00   \n",
       "1822  5.144316e+00  6.303420e+00  4.743830e+00  2.868905e+00   2.097433e+00   \n",
       "1823  5.144786e+00  6.303907e+00  4.744294e+00  2.869330e+00   2.097830e+00   \n",
       "1824  5.145256e+00  6.304393e+00  4.744758e+00  2.869753e+00   2.098226e+00   \n",
       "\n",
       "              10532         11967         12515         12573         12941  \\\n",
       "0      0.000000e+00  0.000000e+00  0.000000e+00  0.000000e+00  0.000000e+00   \n",
       "1     5.209995e-168  1.301969e-35  2.478604e-46  1.093430e-23  1.668067e-57   \n",
       "2      2.736410e-85  1.358596e-18  4.887885e-24  1.675473e-12  1.081763e-29   \n",
       "3      1.310414e-57  8.007453e-13  1.661491e-16  1.112159e-08  2.547248e-20   \n",
       "4      1.018381e-43  6.807403e-10  1.076097e-12  9.977078e-07  1.376326e-15   \n",
       "...             ...           ...           ...           ...           ...   \n",
       "1820   1.530973e+00  5.123517e+00  4.269962e+00  6.728167e+00  3.658731e+00   \n",
       "1821   1.531340e+00  5.123988e+00  4.270419e+00  6.728660e+00  3.659175e+00   \n",
       "1822   1.531707e+00  5.124459e+00  4.270875e+00  6.729152e+00  3.659619e+00   \n",
       "1823   1.532074e+00  5.124929e+00  4.271331e+00  6.729644e+00  3.660063e+00   \n",
       "1824   1.532441e+00  5.125398e+00  4.271787e+00  6.730135e+00  3.660506e+00   \n",
       "\n",
       "             13925  \n",
       "0     0.000000e+00  \n",
       "1     4.471805e-17  \n",
       "2     4.289447e-09  \n",
       "3     2.414348e-06  \n",
       "4     6.274232e-05  \n",
       "...            ...  \n",
       "1820  8.320658e+00  \n",
       "1821  8.321169e+00  \n",
       "1822  8.321680e+00  \n",
       "1823  8.322190e+00  \n",
       "1824  8.322700e+00  \n",
       "\n",
       "[1825 rows x 11 columns]"
      ]
     },
     "execution_count": 21,
     "metadata": {},
     "output_type": "execute_result"
    }
   ],
   "source": [
    "stream_depl"
   ]
  },
  {
   "cell_type": "code",
   "execution_count": 26,
   "id": "7ad4a0b3-be39-4a3f-81f0-83701421be75",
   "metadata": {},
   "outputs": [],
   "source": [
    "five_year= pd.DataFrame(stream_depl.loc[1824].T)"
   ]
  },
  {
   "cell_type": "code",
   "execution_count": 29,
   "id": "fd435288-e684-4b97-874d-336b682df562",
   "metadata": {},
   "outputs": [],
   "source": [
    "five_year.rename(columns={1824: 'Depletion'}, inplace=True)"
   ]
  },
  {
   "cell_type": "code",
   "execution_count": 31,
   "id": "293efd67-3acc-47f4-be9a-c4e0de0d74db",
   "metadata": {},
   "outputs": [
    {
     "data": {
      "text/html": [
       "<div>\n",
       "<style scoped>\n",
       "    .dataframe tbody tr th:only-of-type {\n",
       "        vertical-align: middle;\n",
       "    }\n",
       "\n",
       "    .dataframe tbody tr th {\n",
       "        vertical-align: top;\n",
       "    }\n",
       "\n",
       "    .dataframe thead th {\n",
       "        text-align: right;\n",
       "    }\n",
       "</style>\n",
       "<table border=\"1\" class=\"dataframe\">\n",
       "  <thead>\n",
       "    <tr style=\"text-align: right;\">\n",
       "      <th></th>\n",
       "      <th>Depletion</th>\n",
       "    </tr>\n",
       "  </thead>\n",
       "  <tbody>\n",
       "    <tr>\n",
       "      <th>8</th>\n",
       "      <td>5.15</td>\n",
       "    </tr>\n",
       "    <tr>\n",
       "      <th>9</th>\n",
       "      <td>6.30</td>\n",
       "    </tr>\n",
       "    <tr>\n",
       "      <th>11</th>\n",
       "      <td>4.74</td>\n",
       "    </tr>\n",
       "    <tr>\n",
       "      <th>27</th>\n",
       "      <td>2.87</td>\n",
       "    </tr>\n",
       "    <tr>\n",
       "      <th>9741</th>\n",
       "      <td>2.10</td>\n",
       "    </tr>\n",
       "    <tr>\n",
       "      <th>10532</th>\n",
       "      <td>1.53</td>\n",
       "    </tr>\n",
       "    <tr>\n",
       "      <th>11967</th>\n",
       "      <td>5.13</td>\n",
       "    </tr>\n",
       "    <tr>\n",
       "      <th>12515</th>\n",
       "      <td>4.27</td>\n",
       "    </tr>\n",
       "    <tr>\n",
       "      <th>12573</th>\n",
       "      <td>6.73</td>\n",
       "    </tr>\n",
       "    <tr>\n",
       "      <th>12941</th>\n",
       "      <td>3.66</td>\n",
       "    </tr>\n",
       "    <tr>\n",
       "      <th>13925</th>\n",
       "      <td>8.32</td>\n",
       "    </tr>\n",
       "  </tbody>\n",
       "</table>\n",
       "</div>"
      ],
      "text/plain": [
       "       Depletion\n",
       "8           5.15\n",
       "9           6.30\n",
       "11          4.74\n",
       "27          2.87\n",
       "9741        2.10\n",
       "10532       1.53\n",
       "11967       5.13\n",
       "12515       4.27\n",
       "12573       6.73\n",
       "12941       3.66\n",
       "13925       8.32"
      ]
     },
     "execution_count": 31,
     "metadata": {},
     "output_type": "execute_result"
    }
   ],
   "source": [
    "pd.options.display.float_format = '{:,.2f}'.format\n",
    "five_year"
   ]
  },
  {
   "cell_type": "markdown",
   "id": "5a56842b-a1b5-4311-82c3-4aa14edffa3d",
   "metadata": {},
   "source": [
    "# Matches Table 2"
   ]
  }
 ],
 "metadata": {
  "kernelspec": {
   "display_name": "Python 3 (ipykernel)",
   "language": "python",
   "name": "python3"
  },
  "language_info": {
   "codemirror_mode": {
    "name": "ipython",
    "version": 3
   },
   "file_extension": ".py",
   "mimetype": "text/x-python",
   "name": "python",
   "nbconvert_exporter": "python",
   "pygments_lexer": "ipython3",
   "version": "3.11.12"
  }
 },
 "nbformat": 4,
 "nbformat_minor": 5
}
